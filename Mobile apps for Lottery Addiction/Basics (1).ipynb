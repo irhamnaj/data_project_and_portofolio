{
 "cells": [
  {
   "cell_type": "markdown",
   "metadata": {},
   "source": [
    "# Mobile app for lottery Addiction"
   ]
  },
  {
   "cell_type": "markdown",
   "metadata": {},
   "source": [
    "In this project we'll aim to build logical core for mobile apps. this apps will have function to prevent and treat gambling addictions with help the gamblers to see probabilities for winning gambling from apps.\n",
    "\n",
    "This project idea come from research by medical institute, where there are many people who play lottery turn into a habit which eventually escalates into addiction. Lottery addicts soon begin spending from their savings and loans, they start to accumulate debts, and eventually engage in desperate behaviors like theft. So, to avoid that addiction, medical institute want to make mobile apps.\n",
    "\n",
    "For the first versions of the apps we will focus on the [6/49 lottey](https://en.wikipedia.org/wiki/Lotto_6/49) and build functions that enable users to answer questions like:\n",
    "\n",
    "1. What is the probability of winning the big prize with a single ticket?\n",
    "2. What is the probability of winning the big prize if we play 40 different tickets (or any other number)?\n",
    "3. What is the probability of having at least five (or four, or three, or two) winning numbers on a single ticket?\n",
    "\n",
    "also, we will consider historical data coming from the national 6/49 lottery game in Canada. [The data set](https://www.kaggle.com/datascienceai/lottery-dataset) has data for 3,665 drawings, dating from 1982 to 2018"
   ]
  },
  {
   "cell_type": "markdown",
   "metadata": {},
   "source": [
    "## Core functions"
   ]
  },
  {
   "cell_type": "markdown",
   "metadata": {},
   "source": [
    "to answer question about probabilities, below we make 2 core functions to find permutations and combinations of each lottery combinations"
   ]
  },
  {
   "cell_type": "code",
   "execution_count": 1,
   "metadata": {
    "collapsed": true
   },
   "outputs": [],
   "source": [
    "#create factorial function\n",
    "def factorial(n):\n",
    "    fact = 1\n",
    "    for x in range(n,0,-1):\n",
    "        fact *=x\n",
    "        \n",
    "    return fact\n",
    "\n",
    "#create combination function\n",
    "def combination(n,k):\n",
    "    factorials = factorial(n)\n",
    "    comb = factorial(k) * factorial(n-k)\n",
    "    return factorials / comb"
   ]
  },
  {
   "cell_type": "markdown",
   "metadata": {},
   "source": [
    "## One-ticket Probability"
   ]
  },
  {
   "cell_type": "markdown",
   "metadata": {},
   "source": [
    "In the 6/49 lottery, six numbers are drawn from a set of 49 numbers from range 1 to 49, we win the big prize if our ticket (contains 6 drawn numbers) match all six winning numbers. For instance , a players named Jon Snow have ticket with  six numbers {23,4,12,5,33}, Jon only win a big prize if his six numbers are {23,4,12,5,33}. if one numbers differs, He not win the big prize.\n",
    "\n",
    "for the first function of apps we want player able to know probability or chance of one ticket to win a big prize, for that we will\n",
    "\n",
    "1. player will be input six different numbers in the function\n",
    "2. six different numbers will come as python list and python list contain six different numbers will be treaten as one ticket\n",
    "3. calculate probability (divide one ticket with all possible combinations)"
   ]
  },
  {
   "cell_type": "code",
   "execution_count": 2,
   "metadata": {
    "collapsed": false
   },
   "outputs": [],
   "source": [
    "def one_ticket_probability(n):\n",
    "    \n",
    "    #calculate total combinations\n",
    "    total_comb = combination(49,6)\n",
    "    \n",
    "    #calculate probability\n",
    "    Probability = 1/ total_comb\n",
    "    percent_prob = Probability *100\n",
    "    print('you chance to win the big prize with number {} are {:.7f} %. In other word you have 1 in {:,} chances to win.'.format(n, percent_prob,int(total_comb)))\n"
   ]
  },
  {
   "cell_type": "code",
   "execution_count": 3,
   "metadata": {
    "collapsed": false
   },
   "outputs": [
    {
     "name": "stdout",
     "output_type": "stream",
     "text": [
      "you chance to win the big prize with number [2, 5, 7, 1, 7, 2] are 0.0000072 %. In other word you have 1 in 13,983,816 chances to win.\n"
     ]
    }
   ],
   "source": [
    "#exmple\n",
    "one_ticket_probability([2,5,7,1,7,2])"
   ]
  },
  {
   "cell_type": "code",
   "execution_count": 4,
   "metadata": {
    "collapsed": false
   },
   "outputs": [
    {
     "name": "stdout",
     "output_type": "stream",
     "text": [
      "you chance to win the big prize with number [13, 21, 4, 23, 6] are 0.0000072 %. In other word you have 1 in 13,983,816 chances to win.\n"
     ]
    }
   ],
   "source": [
    "#example\n",
    "one_ticket_probability([13,21,4,23,6])"
   ]
  },
  {
   "cell_type": "markdown",
   "metadata": {
    "collapsed": true
   },
   "source": [
    "## Historical Data Check for Canada Lottery"
   ]
  },
  {
   "cell_type": "markdown",
   "metadata": {},
   "source": [
    "After we write a function to make player or user know their chance or probability to get a big prize using one ticket. In this section, we will let player to compare their ticket against historical lottery ticket and determine whether they would have ever won by now. \n",
    "\n",
    "To reach the goal above, we will use historical data about 6/49 lottery from canada (you can download it from [kaggle](https://www.kaggle.com/datascienceai/lottery-dataset)). This data contain historical data for 3,665 drawings (each row shows data for a single drawing / winning drawing), dating from 1982 to 2018. For each drawing, we can find the six numbers drawn in the following six columns:\n",
    "1. NUMBER DRAWN 1\n",
    "2. NUMBER DRAWN 2\n",
    "3. NUMBER DRAWN 3\n",
    "4. NUMBER DRAWN 4\n",
    "5. NUMBER DRAWN 5\n",
    "6. NUMBER DRAWN 6\n",
    "\n",
    "below, we will perform quick explore data"
   ]
  },
  {
   "cell_type": "code",
   "execution_count": 2,
   "metadata": {
    "collapsed": false
   },
   "outputs": [
    {
     "name": "stdout",
     "output_type": "stream",
     "text": [
      "(3665, 11)\n"
     ]
    },
    {
     "data": {
      "text/html": [
       "<div>\n",
       "<style scoped>\n",
       "    .dataframe tbody tr th:only-of-type {\n",
       "        vertical-align: middle;\n",
       "    }\n",
       "\n",
       "    .dataframe tbody tr th {\n",
       "        vertical-align: top;\n",
       "    }\n",
       "\n",
       "    .dataframe thead th {\n",
       "        text-align: right;\n",
       "    }\n",
       "</style>\n",
       "<table border=\"1\" class=\"dataframe\">\n",
       "  <thead>\n",
       "    <tr style=\"text-align: right;\">\n",
       "      <th></th>\n",
       "      <th>PRODUCT</th>\n",
       "      <th>DRAW NUMBER</th>\n",
       "      <th>SEQUENCE NUMBER</th>\n",
       "      <th>DRAW DATE</th>\n",
       "      <th>NUMBER DRAWN 1</th>\n",
       "      <th>NUMBER DRAWN 2</th>\n",
       "      <th>NUMBER DRAWN 3</th>\n",
       "      <th>NUMBER DRAWN 4</th>\n",
       "      <th>NUMBER DRAWN 5</th>\n",
       "      <th>NUMBER DRAWN 6</th>\n",
       "      <th>BONUS NUMBER</th>\n",
       "    </tr>\n",
       "  </thead>\n",
       "  <tbody>\n",
       "    <tr>\n",
       "      <th>0</th>\n",
       "      <td>649</td>\n",
       "      <td>1</td>\n",
       "      <td>0</td>\n",
       "      <td>6/12/1982</td>\n",
       "      <td>3</td>\n",
       "      <td>11</td>\n",
       "      <td>12</td>\n",
       "      <td>14</td>\n",
       "      <td>41</td>\n",
       "      <td>43</td>\n",
       "      <td>13</td>\n",
       "    </tr>\n",
       "    <tr>\n",
       "      <th>1</th>\n",
       "      <td>649</td>\n",
       "      <td>2</td>\n",
       "      <td>0</td>\n",
       "      <td>6/19/1982</td>\n",
       "      <td>8</td>\n",
       "      <td>33</td>\n",
       "      <td>36</td>\n",
       "      <td>37</td>\n",
       "      <td>39</td>\n",
       "      <td>41</td>\n",
       "      <td>9</td>\n",
       "    </tr>\n",
       "    <tr>\n",
       "      <th>2</th>\n",
       "      <td>649</td>\n",
       "      <td>3</td>\n",
       "      <td>0</td>\n",
       "      <td>6/26/1982</td>\n",
       "      <td>1</td>\n",
       "      <td>6</td>\n",
       "      <td>23</td>\n",
       "      <td>24</td>\n",
       "      <td>27</td>\n",
       "      <td>39</td>\n",
       "      <td>34</td>\n",
       "    </tr>\n",
       "  </tbody>\n",
       "</table>\n",
       "</div>"
      ],
      "text/plain": [
       "   PRODUCT  DRAW NUMBER  SEQUENCE NUMBER  DRAW DATE  NUMBER DRAWN 1  \\\n",
       "0      649            1                0  6/12/1982               3   \n",
       "1      649            2                0  6/19/1982               8   \n",
       "2      649            3                0  6/26/1982               1   \n",
       "\n",
       "   NUMBER DRAWN 2  NUMBER DRAWN 3  NUMBER DRAWN 4  NUMBER DRAWN 5  \\\n",
       "0              11              12              14              41   \n",
       "1              33              36              37              39   \n",
       "2               6              23              24              27   \n",
       "\n",
       "   NUMBER DRAWN 6  BONUS NUMBER  \n",
       "0              43            13  \n",
       "1              41             9  \n",
       "2              39            34  "
      ]
     },
     "execution_count": 2,
     "metadata": {},
     "output_type": "execute_result"
    }
   ],
   "source": [
    "import pandas as pd\n",
    "\n",
    "#check the data\n",
    "hist_check_data = pd.read_csv('649.csv')\n",
    "\n",
    "print(hist_check_data.shape)\n",
    "hist_check_data.head(3)"
   ]
  },
  {
   "cell_type": "code",
   "execution_count": 6,
   "metadata": {
    "collapsed": false
   },
   "outputs": [
    {
     "data": {
      "text/html": [
       "<div>\n",
       "<style scoped>\n",
       "    .dataframe tbody tr th:only-of-type {\n",
       "        vertical-align: middle;\n",
       "    }\n",
       "\n",
       "    .dataframe tbody tr th {\n",
       "        vertical-align: top;\n",
       "    }\n",
       "\n",
       "    .dataframe thead th {\n",
       "        text-align: right;\n",
       "    }\n",
       "</style>\n",
       "<table border=\"1\" class=\"dataframe\">\n",
       "  <thead>\n",
       "    <tr style=\"text-align: right;\">\n",
       "      <th></th>\n",
       "      <th>PRODUCT</th>\n",
       "      <th>DRAW NUMBER</th>\n",
       "      <th>SEQUENCE NUMBER</th>\n",
       "      <th>DRAW DATE</th>\n",
       "      <th>NUMBER DRAWN 1</th>\n",
       "      <th>NUMBER DRAWN 2</th>\n",
       "      <th>NUMBER DRAWN 3</th>\n",
       "      <th>NUMBER DRAWN 4</th>\n",
       "      <th>NUMBER DRAWN 5</th>\n",
       "      <th>NUMBER DRAWN 6</th>\n",
       "      <th>BONUS NUMBER</th>\n",
       "    </tr>\n",
       "  </thead>\n",
       "  <tbody>\n",
       "    <tr>\n",
       "      <th>3662</th>\n",
       "      <td>649</td>\n",
       "      <td>3589</td>\n",
       "      <td>0</td>\n",
       "      <td>6/13/2018</td>\n",
       "      <td>6</td>\n",
       "      <td>22</td>\n",
       "      <td>24</td>\n",
       "      <td>31</td>\n",
       "      <td>32</td>\n",
       "      <td>34</td>\n",
       "      <td>16</td>\n",
       "    </tr>\n",
       "    <tr>\n",
       "      <th>3663</th>\n",
       "      <td>649</td>\n",
       "      <td>3590</td>\n",
       "      <td>0</td>\n",
       "      <td>6/16/2018</td>\n",
       "      <td>2</td>\n",
       "      <td>15</td>\n",
       "      <td>21</td>\n",
       "      <td>31</td>\n",
       "      <td>38</td>\n",
       "      <td>49</td>\n",
       "      <td>8</td>\n",
       "    </tr>\n",
       "    <tr>\n",
       "      <th>3664</th>\n",
       "      <td>649</td>\n",
       "      <td>3591</td>\n",
       "      <td>0</td>\n",
       "      <td>6/20/2018</td>\n",
       "      <td>14</td>\n",
       "      <td>24</td>\n",
       "      <td>31</td>\n",
       "      <td>35</td>\n",
       "      <td>37</td>\n",
       "      <td>48</td>\n",
       "      <td>17</td>\n",
       "    </tr>\n",
       "  </tbody>\n",
       "</table>\n",
       "</div>"
      ],
      "text/plain": [
       "      PRODUCT  DRAW NUMBER  SEQUENCE NUMBER  DRAW DATE  NUMBER DRAWN 1  \\\n",
       "3662      649         3589                0  6/13/2018               6   \n",
       "3663      649         3590                0  6/16/2018               2   \n",
       "3664      649         3591                0  6/20/2018              14   \n",
       "\n",
       "      NUMBER DRAWN 2  NUMBER DRAWN 3  NUMBER DRAWN 4  NUMBER DRAWN 5  \\\n",
       "3662              22              24              31              32   \n",
       "3663              15              21              31              38   \n",
       "3664              24              31              35              37   \n",
       "\n",
       "      NUMBER DRAWN 6  BONUS NUMBER  \n",
       "3662              34            16  \n",
       "3663              49             8  \n",
       "3664              48            17  "
      ]
     },
     "execution_count": 6,
     "metadata": {},
     "output_type": "execute_result"
    }
   ],
   "source": [
    "hist_check_data.tail(3)"
   ]
  },
  {
   "cell_type": "markdown",
   "metadata": {},
   "source": [
    "## Function for historical data check"
   ]
  },
  {
   "cell_type": "markdown",
   "metadata": {},
   "source": [
    "to compare ticket aginst historical data , we will make function that will enable player to compare their ticket against the historical lottery data in Canada and determine whether they would have ever won by now."
   ]
  },
  {
   "cell_type": "markdown",
   "metadata": {},
   "source": [
    "for the first , we create function to take all number drawn from historical dataset and  return a set contains all six number lottery"
   ]
  },
  {
   "cell_type": "code",
   "execution_count": 7,
   "metadata": {
    "collapsed": false
   },
   "outputs": [
    {
     "data": {
      "text/plain": [
       "0    {3, 41, 11, 12, 43, 14, 13}\n",
       "1     {33, 36, 37, 39, 8, 41, 9}\n",
       "2     {1, 34, 6, 39, 23, 24, 27}\n",
       "3     {34, 3, 9, 10, 43, 13, 20}\n",
       "4    {34, 5, 45, 14, 47, 21, 31}\n",
       "dtype: object"
      ]
     },
     "execution_count": 7,
     "metadata": {},
     "output_type": "execute_result"
    }
   ],
   "source": [
    "#create function to take as input a row of the lottery dataframe and returns a set\n",
    "def extract_number(n):\n",
    "    data_n = n[4:11]\n",
    "    return set(data_n.values)\n",
    "\n",
    "#take all number drawn from historical dataset\n",
    "winning_number = hist_check_data.apply(extract_number, axis=1)\n",
    "\n",
    "winning_number[0:5]"
   ]
  },
  {
   "cell_type": "markdown",
   "metadata": {},
   "source": [
    "create function to check, if our ticket ever appear in historical data or not, if appear, return percent chance and opportunity comparison"
   ]
  },
  {
   "cell_type": "code",
   "execution_count": 8,
   "metadata": {
    "collapsed": true
   },
   "outputs": [],
   "source": [
    "#check number using historical numbers\n",
    "def check_historical_occurrence(user_numbers, winning_number):\n",
    "    \n",
    "    #set the data\n",
    "    set_user_n = set(user_numbers)\n",
    "    \n",
    "    #check if data appear in historical data(True) or not(false)\n",
    "    intersection = set_user_n == winning_number\n",
    "    \n",
    "    #if true, sum number of true\n",
    "    n_occurences = intersection.sum()\n",
    "    \n",
    "    #create output\n",
    "    if n_occurences == 0:\n",
    "        print('''combinations number {} has never appeared before.\n",
    "        but that does not mean you dont have chance to win. \n",
    "        you still have 0.0000072 % chance to winning. \n",
    "        In other word you have 1 in 13,983,816 chances \n",
    "        to win a big prize'''.format(user_numbers))\n",
    "    if n_occurences !=0:\n",
    "        total_comb = combination(49,6)\n",
    "        Probability = (n_occurences + 1)/ total_comb\n",
    "        percent_prob = Probability *100\n",
    "        print('''combinations number {} appeared {} times before.\n",
    "        It is mean that you have {:.7f} % chances to winning.\n",
    "        In other word you have {} in 13,983,816 chances'''.format(user_numbers,n_occurences, percent_prob, n_occurences+1))\n",
    "        "
   ]
  },
  {
   "cell_type": "code",
   "execution_count": 9,
   "metadata": {
    "collapsed": false
   },
   "outputs": [
    {
     "name": "stdout",
     "output_type": "stream",
     "text": [
      "combinations number [3, 41, 11, 12, 43, 14, 13] appeared 1 times before.\n",
      "        It is mean that you have 0.0000143 % chances to winning.\n",
      "        In other word you have 2 in 13,983,816 chances\n"
     ]
    }
   ],
   "source": [
    "#test the function\n",
    "\n",
    "test_input_1 = [3, 41, 11, 12, 43, 14, 13]\n",
    "check_historical_occurrence(test_input_1, winning_number)"
   ]
  },
  {
   "cell_type": "code",
   "execution_count": 10,
   "metadata": {
    "collapsed": false
   },
   "outputs": [
    {
     "name": "stdout",
     "output_type": "stream",
     "text": [
      "combinations number [3, 41, 3, 4, 43, 14, 13] has never appeared before.\n",
      "        but that does not mean you dont have chance to win. \n",
      "        you still have 0.0000072 % chance to winning. \n",
      "        In other word you have 1 in 13,983,816 chances \n",
      "        to win a big prize\n"
     ]
    }
   ],
   "source": [
    "#test the function\n",
    "\n",
    "test_input_2 = [3, 41, 3, 4, 43, 14, 13]\n",
    "check_historical_occurrence(test_input_2, winning_number)"
   ]
  },
  {
   "cell_type": "markdown",
   "metadata": {},
   "source": [
    "## Multi-ticket Probability"
   ]
  },
  {
   "cell_type": "markdown",
   "metadata": {},
   "source": [
    "Lottery Addict usually play more than one ticket in a single draw. Thinking that using multiple ticket can increase their chances to win a big prize significantly, we make a function that allow player to calculate the chances of winning if they use more than one different ticket.\n",
    "\n",
    "for the function we will:\n",
    "1. calculate total combination of 6/49 lottert\n",
    "2. calculate chance or probability of winning (divide total number of ticket with total combination\n",
    "3. output will be percent of chances"
   ]
  },
  {
   "cell_type": "code",
   "execution_count": 67,
   "metadata": {
    "collapsed": true
   },
   "outputs": [],
   "source": [
    "def multi_ticket_probability(n): #n is total number of ticket\n",
    "    \n",
    "    #calculate total combination\n",
    "    total_n_poss = combination(49,6)\n",
    "    \n",
    "    #calculate probability depends on total number of ticket\n",
    "    probability_outcomes = (n / total_n_poss) *100\n",
    "    \n",
    "    #simplified and print the result\n",
    "    simplified = round(total_n_poss / n)\n",
    "    print('''you have {:.7f} % chance to win the big prize if you using {} different tickets.\n",
    "    In other words you have chance 1 from {:,} combinations'''.format(probability_outcomes, n, simplified))"
   ]
  },
  {
   "cell_type": "code",
   "execution_count": 73,
   "metadata": {
    "collapsed": false
   },
   "outputs": [
    {
     "name": "stdout",
     "output_type": "stream",
     "text": [
      "you have 0.0000072 % chance to win the big prize if you using 1 different tickets.\n",
      "    In other words you have chance 1 from 13,983,816 combinations\n",
      "----------------------------------------------------------------------------------------------------\n",
      "you have 0.0000715 % chance to win the big prize if you using 10 different tickets.\n",
      "    In other words you have chance 1 from 1,398,382 combinations\n",
      "----------------------------------------------------------------------------------------------------\n",
      "you have 0.0007151 % chance to win the big prize if you using 100 different tickets.\n",
      "    In other words you have chance 1 from 139,838 combinations\n",
      "----------------------------------------------------------------------------------------------------\n",
      "you have 0.0715112 % chance to win the big prize if you using 10000 different tickets.\n",
      "    In other words you have chance 1 from 1,398 combinations\n",
      "----------------------------------------------------------------------------------------------------\n",
      "you have 7.1511238 % chance to win the big prize if you using 1000000 different tickets.\n",
      "    In other words you have chance 1 from 14 combinations\n",
      "----------------------------------------------------------------------------------------------------\n",
      "you have 50.0000000 % chance to win the big prize if you using 6991908 different tickets.\n",
      "    In other words you have chance 1 from 2 combinations\n",
      "----------------------------------------------------------------------------------------------------\n",
      "you have 100.0000000 % chance to win the big prize if you using 13983816 different tickets.\n",
      "    In other words you have chance 1 from 1 combinations\n",
      "----------------------------------------------------------------------------------------------------\n"
     ]
    }
   ],
   "source": [
    "#test the function with input below\n",
    "inputs = [1, 10, 100, 10000, 1000000, 6991908, 13983816]\n",
    "\n",
    "for x in inputs:\n",
    "    prob = multi_ticket_probability(x)\n",
    "    print('-'*100)"
   ]
  },
  {
   "cell_type": "markdown",
   "metadata": {
    "collapsed": true
   },
   "source": [
    "## Less Winning Numbers"
   ]
  },
  {
   "cell_type": "markdown",
   "metadata": {},
   "source": [
    "most of the 6/49 lotteries have smaller prizes if player's ticket match two, three or more numbers drawn. As a consequence, there are a possibility that different ticket matches have different chance of winning. To make player get better estimate, we make a function to let player to know their chances of winning if 2 or more number in their ticket matches with winning numbers.\n",
    "\n",
    "Inside the function:\n",
    "1. the user inputs is integer between 2 to 5 (represent number of winning number matches with ticket_number)\n",
    "2. calculate number combination input with total winning number(6)\n",
    "3. calculate total possible combination in every combination input\n",
    "3. multiply total possible combination with number combination input\n",
    "4. calculate total possible outcomes for 6/49 lottery\n",
    "5. divide calculation in no 3 with total possible outcomes for 6/49 lottery"
   ]
  },
  {
   "cell_type": "code",
   "execution_count": 76,
   "metadata": {
    "collapsed": true
   },
   "outputs": [],
   "source": [
    "def probability_less_6(n_winning_ticket):\n",
    "    \n",
    "    #calculate combination n_winning_ticket with 6 (total winning ticket)\n",
    "    combination_n = combination(6,n_winning_ticket)\n",
    "    \n",
    "    #calcultae possible combination from every combination n_winning_ticket\n",
    "    n_possible_combination = combination(43, (6-n_winning_ticket))\n",
    "    \n",
    "    #multiply combination_n with possible combination\n",
    "    succesfull_outcomes = combination_n * n_possible_combination\n",
    "    \n",
    "    #calculate total possible outcomes for lottery 6/49\n",
    "    total_poss_outcomes = combination(49,6)\n",
    "    \n",
    "    #divide succesfull_outcomes with total poss outcomes\n",
    "    p_winning = succesfull_outcomes / total_poss_outcomes\n",
    "    \n",
    "    #create percentage\n",
    "    percentage = p_winning * 100\n",
    "    \n",
    "    #output\n",
    "    outcomes_simplified = round(total_poss_outcomes / succesfull_outcomes)\n",
    "    print('''you have {:.5f} % chance to get exactly {} winning numbers with this ticket.\n",
    "    In other word you have chance 1 from {:,} combinations '''.format(percentage, n_winning_ticket, outcomes_simplified))"
   ]
  },
  {
   "cell_type": "code",
   "execution_count": 77,
   "metadata": {
    "collapsed": false
   },
   "outputs": [
    {
     "name": "stdout",
     "output_type": "stream",
     "text": [
      "you have 13.23780 % chance to get exactly 2 winning numbers with this ticket.\n",
      "    In other word you have chance 1 from 8 combinations \n",
      "----------------------------------------------------------------------------------------------------\n",
      "you have 1.76504 % chance to get exactly 3 winning numbers with this ticket.\n",
      "    In other word you have chance 1 from 57 combinations \n",
      "----------------------------------------------------------------------------------------------------\n",
      "you have 0.09686 % chance to get exactly 4 winning numbers with this ticket.\n",
      "    In other word you have chance 1 from 1,032 combinations \n",
      "----------------------------------------------------------------------------------------------------\n",
      "you have 0.00184 % chance to get exactly 5 winning numbers with this ticket.\n",
      "    In other word you have chance 1 from 54,201 combinations \n",
      "----------------------------------------------------------------------------------------------------\n"
     ]
    }
   ],
   "source": [
    "#test the function\n",
    "\n",
    "n_winning_tickets = [2,3,4,5]\n",
    "\n",
    "for x in n_winning_tickets:\n",
    "    probability_less_6(x)\n",
    "    print('-'*100)"
   ]
  },
  {
   "cell_type": "code",
   "execution_count": null,
   "metadata": {
    "collapsed": true
   },
   "outputs": [],
   "source": []
  }
 ],
 "metadata": {
  "kernelspec": {
   "display_name": "Python 3",
   "language": "python",
   "name": "python3"
  },
  "language_info": {
   "codemirror_mode": {
    "name": "ipython",
    "version": 3
   },
   "file_extension": ".py",
   "mimetype": "text/x-python",
   "name": "python",
   "nbconvert_exporter": "python",
   "pygments_lexer": "ipython3",
   "version": "3.4.3"
  }
 },
 "nbformat": 4,
 "nbformat_minor": 2
}
