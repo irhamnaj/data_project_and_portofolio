{
 "cells": [
  {
   "cell_type": "markdown",
   "metadata": {
    "collapsed": true
   },
   "source": [
    "# Analyzing DETE and TAFE Exit Surveys"
   ]
  },
  {
   "cell_type": "markdown",
   "metadata": {},
   "source": [
    "In this project i will work with exits surveys from employees of Deapartment of education, training and employment(DETE) and technical and further education(TAFE) institute of queensland, Australia.\n",
    "\n",
    "\n",
    "the aim of this project is\n",
    "1. to know employees who only worked for institute for short period of time reisgning  and employees who have been work longer due to some kind of dissastifaction\n",
    "\n",
    "2. are younger employees resigning due to some kind of dissatisfaction? and what about older?\n",
    "\n"
   ]
  },
  {
   "cell_type": "markdown",
   "metadata": {},
   "source": [
    "# Import dataset and check null values\n"
   ]
  },
  {
   "cell_type": "code",
   "execution_count": 1,
   "metadata": {
    "collapsed": true
   },
   "outputs": [],
   "source": [
    "import pandas as pd\n",
    "import numpy as np\n",
    "import matplotlib.pyplot as plt\n",
    "import seaborn as sns\n",
    "\n",
    "%matplotlib inline\n",
    "\n",
    "#read the dataset using pandas read_csv\n",
    "dete_survey = pd.read_csv('dete_survey.csv')\n",
    "tafe_survey = pd.read_csv('tafe_survey.csv')"
   ]
  },
  {
   "cell_type": "code",
   "execution_count": 2,
   "metadata": {
    "collapsed": false
   },
   "outputs": [
    {
     "name": "stdout",
     "output_type": "stream",
     "text": [
      "<class 'pandas.core.frame.DataFrame'>\n",
      "RangeIndex: 822 entries, 0 to 821\n",
      "Data columns (total 56 columns):\n",
      "ID                                     822 non-null int64\n",
      "SeparationType                         822 non-null object\n",
      "Cease Date                             822 non-null object\n",
      "DETE Start Date                        822 non-null object\n",
      "Role Start Date                        822 non-null object\n",
      "Position                               817 non-null object\n",
      "Classification                         455 non-null object\n",
      "Region                                 822 non-null object\n",
      "Business Unit                          126 non-null object\n",
      "Employment Status                      817 non-null object\n",
      "Career move to public sector           822 non-null bool\n",
      "Career move to private sector          822 non-null bool\n",
      "Interpersonal conflicts                822 non-null bool\n",
      "Job dissatisfaction                    822 non-null bool\n",
      "Dissatisfaction with the department    822 non-null bool\n",
      "Physical work environment              822 non-null bool\n",
      "Lack of recognition                    822 non-null bool\n",
      "Lack of job security                   822 non-null bool\n",
      "Work location                          822 non-null bool\n",
      "Employment conditions                  822 non-null bool\n",
      "Maternity/family                       822 non-null bool\n",
      "Relocation                             822 non-null bool\n",
      "Study/Travel                           822 non-null bool\n",
      "Ill Health                             822 non-null bool\n",
      "Traumatic incident                     822 non-null bool\n",
      "Work life balance                      822 non-null bool\n",
      "Workload                               822 non-null bool\n",
      "None of the above                      822 non-null bool\n",
      "Professional Development               808 non-null object\n",
      "Opportunities for promotion            735 non-null object\n",
      "Staff morale                           816 non-null object\n",
      "Workplace issue                        788 non-null object\n",
      "Physical environment                   817 non-null object\n",
      "Worklife balance                       815 non-null object\n",
      "Stress and pressure support            810 non-null object\n",
      "Performance of supervisor              813 non-null object\n",
      "Peer support                           812 non-null object\n",
      "Initiative                             813 non-null object\n",
      "Skills                                 811 non-null object\n",
      "Coach                                  767 non-null object\n",
      "Career Aspirations                     746 non-null object\n",
      "Feedback                               792 non-null object\n",
      "Further PD                             768 non-null object\n",
      "Communication                          814 non-null object\n",
      "My say                                 812 non-null object\n",
      "Information                            816 non-null object\n",
      "Kept informed                          813 non-null object\n",
      "Wellness programs                      766 non-null object\n",
      "Health & Safety                        793 non-null object\n",
      "Gender                                 798 non-null object\n",
      "Age                                    811 non-null object\n",
      "Aboriginal                             16 non-null object\n",
      "Torres Strait                          3 non-null object\n",
      "South Sea                              7 non-null object\n",
      "Disability                             23 non-null object\n",
      "NESB                                   32 non-null object\n",
      "dtypes: bool(18), int64(1), object(37)\n",
      "memory usage: 258.6+ KB\n"
     ]
    },
    {
     "data": {
      "text/html": [
       "<div>\n",
       "<style scoped>\n",
       "    .dataframe tbody tr th:only-of-type {\n",
       "        vertical-align: middle;\n",
       "    }\n",
       "\n",
       "    .dataframe tbody tr th {\n",
       "        vertical-align: top;\n",
       "    }\n",
       "\n",
       "    .dataframe thead th {\n",
       "        text-align: right;\n",
       "    }\n",
       "</style>\n",
       "<table border=\"1\" class=\"dataframe\">\n",
       "  <thead>\n",
       "    <tr style=\"text-align: right;\">\n",
       "      <th></th>\n",
       "      <th>ID</th>\n",
       "      <th>SeparationType</th>\n",
       "      <th>Cease Date</th>\n",
       "      <th>DETE Start Date</th>\n",
       "      <th>Role Start Date</th>\n",
       "      <th>Position</th>\n",
       "      <th>Classification</th>\n",
       "      <th>Region</th>\n",
       "      <th>Business Unit</th>\n",
       "      <th>Employment Status</th>\n",
       "      <th>...</th>\n",
       "      <th>Kept informed</th>\n",
       "      <th>Wellness programs</th>\n",
       "      <th>Health &amp; Safety</th>\n",
       "      <th>Gender</th>\n",
       "      <th>Age</th>\n",
       "      <th>Aboriginal</th>\n",
       "      <th>Torres Strait</th>\n",
       "      <th>South Sea</th>\n",
       "      <th>Disability</th>\n",
       "      <th>NESB</th>\n",
       "    </tr>\n",
       "  </thead>\n",
       "  <tbody>\n",
       "    <tr>\n",
       "      <th>0</th>\n",
       "      <td>1</td>\n",
       "      <td>Ill Health Retirement</td>\n",
       "      <td>08/2012</td>\n",
       "      <td>1984</td>\n",
       "      <td>2004</td>\n",
       "      <td>Public Servant</td>\n",
       "      <td>A01-A04</td>\n",
       "      <td>Central Office</td>\n",
       "      <td>Corporate Strategy and Peformance</td>\n",
       "      <td>Permanent Full-time</td>\n",
       "      <td>...</td>\n",
       "      <td>N</td>\n",
       "      <td>N</td>\n",
       "      <td>N</td>\n",
       "      <td>Male</td>\n",
       "      <td>56-60</td>\n",
       "      <td>NaN</td>\n",
       "      <td>NaN</td>\n",
       "      <td>NaN</td>\n",
       "      <td>NaN</td>\n",
       "      <td>Yes</td>\n",
       "    </tr>\n",
       "    <tr>\n",
       "      <th>1</th>\n",
       "      <td>2</td>\n",
       "      <td>Voluntary Early Retirement (VER)</td>\n",
       "      <td>08/2012</td>\n",
       "      <td>Not Stated</td>\n",
       "      <td>Not Stated</td>\n",
       "      <td>Public Servant</td>\n",
       "      <td>AO5-AO7</td>\n",
       "      <td>Central Office</td>\n",
       "      <td>Corporate Strategy and Peformance</td>\n",
       "      <td>Permanent Full-time</td>\n",
       "      <td>...</td>\n",
       "      <td>N</td>\n",
       "      <td>N</td>\n",
       "      <td>N</td>\n",
       "      <td>Male</td>\n",
       "      <td>56-60</td>\n",
       "      <td>NaN</td>\n",
       "      <td>NaN</td>\n",
       "      <td>NaN</td>\n",
       "      <td>NaN</td>\n",
       "      <td>NaN</td>\n",
       "    </tr>\n",
       "    <tr>\n",
       "      <th>2</th>\n",
       "      <td>3</td>\n",
       "      <td>Voluntary Early Retirement (VER)</td>\n",
       "      <td>05/2012</td>\n",
       "      <td>2011</td>\n",
       "      <td>2011</td>\n",
       "      <td>Schools Officer</td>\n",
       "      <td>NaN</td>\n",
       "      <td>Central Office</td>\n",
       "      <td>Education Queensland</td>\n",
       "      <td>Permanent Full-time</td>\n",
       "      <td>...</td>\n",
       "      <td>N</td>\n",
       "      <td>N</td>\n",
       "      <td>N</td>\n",
       "      <td>Male</td>\n",
       "      <td>61 or older</td>\n",
       "      <td>NaN</td>\n",
       "      <td>NaN</td>\n",
       "      <td>NaN</td>\n",
       "      <td>NaN</td>\n",
       "      <td>NaN</td>\n",
       "    </tr>\n",
       "    <tr>\n",
       "      <th>3</th>\n",
       "      <td>4</td>\n",
       "      <td>Resignation-Other reasons</td>\n",
       "      <td>05/2012</td>\n",
       "      <td>2005</td>\n",
       "      <td>2006</td>\n",
       "      <td>Teacher</td>\n",
       "      <td>Primary</td>\n",
       "      <td>Central Queensland</td>\n",
       "      <td>NaN</td>\n",
       "      <td>Permanent Full-time</td>\n",
       "      <td>...</td>\n",
       "      <td>A</td>\n",
       "      <td>N</td>\n",
       "      <td>A</td>\n",
       "      <td>Female</td>\n",
       "      <td>36-40</td>\n",
       "      <td>NaN</td>\n",
       "      <td>NaN</td>\n",
       "      <td>NaN</td>\n",
       "      <td>NaN</td>\n",
       "      <td>NaN</td>\n",
       "    </tr>\n",
       "    <tr>\n",
       "      <th>4</th>\n",
       "      <td>5</td>\n",
       "      <td>Age Retirement</td>\n",
       "      <td>05/2012</td>\n",
       "      <td>1970</td>\n",
       "      <td>1989</td>\n",
       "      <td>Head of Curriculum/Head of Special Education</td>\n",
       "      <td>NaN</td>\n",
       "      <td>South East</td>\n",
       "      <td>NaN</td>\n",
       "      <td>Permanent Full-time</td>\n",
       "      <td>...</td>\n",
       "      <td>N</td>\n",
       "      <td>A</td>\n",
       "      <td>M</td>\n",
       "      <td>Female</td>\n",
       "      <td>61 or older</td>\n",
       "      <td>NaN</td>\n",
       "      <td>NaN</td>\n",
       "      <td>NaN</td>\n",
       "      <td>NaN</td>\n",
       "      <td>NaN</td>\n",
       "    </tr>\n",
       "  </tbody>\n",
       "</table>\n",
       "<p>5 rows × 56 columns</p>\n",
       "</div>"
      ],
      "text/plain": [
       "   ID                    SeparationType Cease Date DETE Start Date  \\\n",
       "0   1             Ill Health Retirement    08/2012            1984   \n",
       "1   2  Voluntary Early Retirement (VER)    08/2012      Not Stated   \n",
       "2   3  Voluntary Early Retirement (VER)    05/2012            2011   \n",
       "3   4         Resignation-Other reasons    05/2012            2005   \n",
       "4   5                    Age Retirement    05/2012            1970   \n",
       "\n",
       "  Role Start Date                                      Position  \\\n",
       "0            2004                                Public Servant   \n",
       "1      Not Stated                                Public Servant   \n",
       "2            2011                               Schools Officer   \n",
       "3            2006                                       Teacher   \n",
       "4            1989  Head of Curriculum/Head of Special Education   \n",
       "\n",
       "  Classification              Region                      Business Unit  \\\n",
       "0        A01-A04      Central Office  Corporate Strategy and Peformance   \n",
       "1        AO5-AO7      Central Office  Corporate Strategy and Peformance   \n",
       "2            NaN      Central Office               Education Queensland   \n",
       "3        Primary  Central Queensland                                NaN   \n",
       "4            NaN          South East                                NaN   \n",
       "\n",
       "     Employment Status  ...   Kept informed  Wellness programs  \\\n",
       "0  Permanent Full-time  ...               N                  N   \n",
       "1  Permanent Full-time  ...               N                  N   \n",
       "2  Permanent Full-time  ...               N                  N   \n",
       "3  Permanent Full-time  ...               A                  N   \n",
       "4  Permanent Full-time  ...               N                  A   \n",
       "\n",
       "   Health & Safety  Gender          Age  Aboriginal  Torres Strait  South Sea  \\\n",
       "0                N    Male        56-60         NaN            NaN        NaN   \n",
       "1                N    Male        56-60         NaN            NaN        NaN   \n",
       "2                N    Male  61 or older         NaN            NaN        NaN   \n",
       "3                A  Female        36-40         NaN            NaN        NaN   \n",
       "4                M  Female  61 or older         NaN            NaN        NaN   \n",
       "\n",
       "   Disability  NESB  \n",
       "0         NaN   Yes  \n",
       "1         NaN   NaN  \n",
       "2         NaN   NaN  \n",
       "3         NaN   NaN  \n",
       "4         NaN   NaN  \n",
       "\n",
       "[5 rows x 56 columns]"
      ]
     },
     "execution_count": 2,
     "metadata": {},
     "output_type": "execute_result"
    }
   ],
   "source": [
    "#to start analysis, we using df.info() and df.head() to know more about data\n",
    "\n",
    "dete_survey.info()\n",
    "dete_survey.head()"
   ]
  },
  {
   "cell_type": "markdown",
   "metadata": {},
   "source": [
    "from dete survey we know that data have 56 columns whith 18 boolean columns, 37 object columns and 1 int columns, and if we see at df.info, there are many of null value, to more focus we will using isnull"
   ]
  },
  {
   "cell_type": "code",
   "execution_count": 3,
   "metadata": {
    "collapsed": false
   },
   "outputs": [
    {
     "data": {
      "text/plain": [
       "ID                                       0\n",
       "SeparationType                           0\n",
       "Cease Date                               0\n",
       "DETE Start Date                          0\n",
       "Role Start Date                          0\n",
       "Position                                 5\n",
       "Classification                         367\n",
       "Region                                   0\n",
       "Business Unit                          696\n",
       "Employment Status                        5\n",
       "Career move to public sector             0\n",
       "Career move to private sector            0\n",
       "Interpersonal conflicts                  0\n",
       "Job dissatisfaction                      0\n",
       "Dissatisfaction with the department      0\n",
       "Physical work environment                0\n",
       "Lack of recognition                      0\n",
       "Lack of job security                     0\n",
       "Work location                            0\n",
       "Employment conditions                    0\n",
       "Maternity/family                         0\n",
       "Relocation                               0\n",
       "Study/Travel                             0\n",
       "Ill Health                               0\n",
       "Traumatic incident                       0\n",
       "Work life balance                        0\n",
       "Workload                                 0\n",
       "None of the above                        0\n",
       "Professional Development                14\n",
       "Opportunities for promotion             87\n",
       "Staff morale                             6\n",
       "Workplace issue                         34\n",
       "Physical environment                     5\n",
       "Worklife balance                         7\n",
       "Stress and pressure support             12\n",
       "Performance of supervisor                9\n",
       "Peer support                            10\n",
       "Initiative                               9\n",
       "Skills                                  11\n",
       "Coach                                   55\n",
       "Career Aspirations                      76\n",
       "Feedback                                30\n",
       "Further PD                              54\n",
       "Communication                            8\n",
       "My say                                  10\n",
       "Information                              6\n",
       "Kept informed                            9\n",
       "Wellness programs                       56\n",
       "Health & Safety                         29\n",
       "Gender                                  24\n",
       "Age                                     11\n",
       "Aboriginal                             806\n",
       "Torres Strait                          819\n",
       "South Sea                              815\n",
       "Disability                             799\n",
       "NESB                                   790\n",
       "dtype: int64"
      ]
     },
     "execution_count": 3,
     "metadata": {},
     "output_type": "execute_result"
    }
   ],
   "source": [
    "dete_survey.isnull().sum()"
   ]
  },
  {
   "cell_type": "code",
   "execution_count": 4,
   "metadata": {
    "collapsed": false
   },
   "outputs": [
    {
     "data": {
      "text/plain": [
       "(822, 56)"
      ]
     },
     "execution_count": 4,
     "metadata": {},
     "output_type": "execute_result"
    }
   ],
   "source": [
    "dete_survey.shape"
   ]
  },
  {
   "cell_type": "markdown",
   "metadata": {},
   "source": [
    "using isnull, we know that many of columns have null value and many of them have 50 % more null values. i will delete column with more than 50 % null values "
   ]
  },
  {
   "cell_type": "code",
   "execution_count": 5,
   "metadata": {
    "collapsed": false
   },
   "outputs": [
    {
     "name": "stdout",
     "output_type": "stream",
     "text": [
      "<class 'pandas.core.frame.DataFrame'>\n",
      "RangeIndex: 702 entries, 0 to 701\n",
      "Data columns (total 72 columns):\n",
      "Record ID                                                                                                                                                        702 non-null float64\n",
      "Institute                                                                                                                                                        702 non-null object\n",
      "WorkArea                                                                                                                                                         702 non-null object\n",
      "CESSATION YEAR                                                                                                                                                   695 non-null float64\n",
      "Reason for ceasing employment                                                                                                                                    701 non-null object\n",
      "Contributing Factors. Career Move - Public Sector                                                                                                                437 non-null object\n",
      "Contributing Factors. Career Move - Private Sector                                                                                                               437 non-null object\n",
      "Contributing Factors. Career Move - Self-employment                                                                                                              437 non-null object\n",
      "Contributing Factors. Ill Health                                                                                                                                 437 non-null object\n",
      "Contributing Factors. Maternity/Family                                                                                                                           437 non-null object\n",
      "Contributing Factors. Dissatisfaction                                                                                                                            437 non-null object\n",
      "Contributing Factors. Job Dissatisfaction                                                                                                                        437 non-null object\n",
      "Contributing Factors. Interpersonal Conflict                                                                                                                     437 non-null object\n",
      "Contributing Factors. Study                                                                                                                                      437 non-null object\n",
      "Contributing Factors. Travel                                                                                                                                     437 non-null object\n",
      "Contributing Factors. Other                                                                                                                                      437 non-null object\n",
      "Contributing Factors. NONE                                                                                                                                       437 non-null object\n",
      "Main Factor. Which of these was the main factor for leaving?                                                                                                     113 non-null object\n",
      "InstituteViews. Topic:1. I feel the senior leadership had a clear vision and direction                                                                           608 non-null object\n",
      "InstituteViews. Topic:2. I was given access to skills training to help me do my job better                                                                       613 non-null object\n",
      "InstituteViews. Topic:3. I was given adequate opportunities for personal development                                                                             610 non-null object\n",
      "InstituteViews. Topic:4. I was given adequate opportunities for promotion within %Institute]Q25LBL%                                                              608 non-null object\n",
      "InstituteViews. Topic:5. I felt the salary for the job was right for the responsibilities I had                                                                  615 non-null object\n",
      "InstituteViews. Topic:6. The organisation recognised when staff did good work                                                                                    607 non-null object\n",
      "InstituteViews. Topic:7. Management was generally supportive of me                                                                                               614 non-null object\n",
      "InstituteViews. Topic:8. Management was generally supportive of my team                                                                                          608 non-null object\n",
      "InstituteViews. Topic:9. I was kept informed of the changes in the organisation which would affect me                                                            610 non-null object\n",
      "InstituteViews. Topic:10. Staff morale was positive within the Institute                                                                                         602 non-null object\n",
      "InstituteViews. Topic:11. If I had a workplace issue it was dealt with quickly                                                                                   601 non-null object\n",
      "InstituteViews. Topic:12. If I had a workplace issue it was dealt with efficiently                                                                               597 non-null object\n",
      "InstituteViews. Topic:13. If I had a workplace issue it was dealt with discreetly                                                                                601 non-null object\n",
      "WorkUnitViews. Topic:14. I was satisfied with the quality of the management and supervision within my work unit                                                  609 non-null object\n",
      "WorkUnitViews. Topic:15. I worked well with my colleagues                                                                                                        605 non-null object\n",
      "WorkUnitViews. Topic:16. My job was challenging and interesting                                                                                                  607 non-null object\n",
      "WorkUnitViews. Topic:17. I was encouraged to use my initiative in the course of my work                                                                          610 non-null object\n",
      "WorkUnitViews. Topic:18. I had sufficient contact with other people in my job                                                                                    613 non-null object\n",
      "WorkUnitViews. Topic:19. I was given adequate support and co-operation by my peers to enable me to do my job                                                     609 non-null object\n",
      "WorkUnitViews. Topic:20. I was able to use the full range of my skills in my job                                                                                 609 non-null object\n",
      "WorkUnitViews. Topic:21. I was able to use the full range of my abilities in my job. ; Category:Level of Agreement; Question:YOUR VIEWS ABOUT YOUR WORK UNIT]    608 non-null object\n",
      "WorkUnitViews. Topic:22. I was able to use the full range of my knowledge in my job                                                                              608 non-null object\n",
      "WorkUnitViews. Topic:23. My job provided sufficient variety                                                                                                      611 non-null object\n",
      "WorkUnitViews. Topic:24. I was able to cope with the level of stress and pressure in my job                                                                      610 non-null object\n",
      "WorkUnitViews. Topic:25. My job allowed me to balance the demands of work and family to my satisfaction                                                          611 non-null object\n",
      "WorkUnitViews. Topic:26. My supervisor gave me adequate personal recognition and feedback on my performance                                                      606 non-null object\n",
      "WorkUnitViews. Topic:27. My working environment was satisfactory e.g. sufficient space, good lighting, suitable seating and working area                         610 non-null object\n",
      "WorkUnitViews. Topic:28. I was given the opportunity to mentor and coach others in order for me to pass on my skills and knowledge prior to my cessation date    609 non-null object\n",
      "WorkUnitViews. Topic:29. There was adequate communication between staff in my unit                                                                               603 non-null object\n",
      "WorkUnitViews. Topic:30. Staff morale was positive within my work unit                                                                                           606 non-null object\n",
      "Induction. Did you undertake Workplace Induction?                                                                                                                619 non-null object\n",
      "InductionInfo. Topic:Did you undertake a Corporate Induction?                                                                                                    432 non-null object\n",
      "InductionInfo. Topic:Did you undertake a Institute Induction?                                                                                                    483 non-null object\n",
      "InductionInfo. Topic: Did you undertake Team Induction?                                                                                                          440 non-null object\n",
      "InductionInfo. Face to Face Topic:Did you undertake a Corporate Induction; Category:How it was conducted?                                                        555 non-null object\n",
      "InductionInfo. On-line Topic:Did you undertake a Corporate Induction; Category:How it was conducted?                                                             555 non-null object\n",
      "InductionInfo. Induction Manual Topic:Did you undertake a Corporate Induction?                                                                                   555 non-null object\n",
      "InductionInfo. Face to Face Topic:Did you undertake a Institute Induction?                                                                                       530 non-null object\n",
      "InductionInfo. On-line Topic:Did you undertake a Institute Induction?                                                                                            555 non-null object\n",
      "InductionInfo. Induction Manual Topic:Did you undertake a Institute Induction?                                                                                   553 non-null object\n",
      "InductionInfo. Face to Face Topic: Did you undertake Team Induction; Category?                                                                                   555 non-null object\n",
      "InductionInfo. On-line Topic: Did you undertake Team Induction?process you undertook and how it was conducted.]                                                  555 non-null object\n",
      "InductionInfo. Induction Manual Topic: Did you undertake Team Induction?                                                                                         555 non-null object\n",
      "Workplace. Topic:Did you and your Manager develop a Performance and Professional Development Plan (PPDP)?                                                        608 non-null object\n",
      "Workplace. Topic:Does your workplace promote a work culture free from all forms of unlawful discrimination?                                                      594 non-null object\n",
      "Workplace. Topic:Does your workplace promote and practice the principles of employment equity?                                                                   587 non-null object\n",
      "Workplace. Topic:Does your workplace value the diversity of its employees?                                                                                       586 non-null object\n",
      "Workplace. Topic:Would you recommend the Institute as an employer to others?                                                                                     581 non-null object\n",
      "Gender. What is your Gender?                                                                                                                                     596 non-null object\n",
      "CurrentAge. Current Age                                                                                                                                          596 non-null object\n",
      "Employment Type. Employment Type                                                                                                                                 596 non-null object\n",
      "Classification. Classification                                                                                                                                   596 non-null object\n",
      "LengthofServiceOverall. Overall Length of Service at Institute (in years)                                                                                        596 non-null object\n",
      "LengthofServiceCurrent. Length of Service at current workplace (in years)                                                                                        596 non-null object\n",
      "dtypes: float64(2), object(70)\n",
      "memory usage: 395.0+ KB\n"
     ]
    },
    {
     "data": {
      "text/html": [
       "<div>\n",
       "<style scoped>\n",
       "    .dataframe tbody tr th:only-of-type {\n",
       "        vertical-align: middle;\n",
       "    }\n",
       "\n",
       "    .dataframe tbody tr th {\n",
       "        vertical-align: top;\n",
       "    }\n",
       "\n",
       "    .dataframe thead th {\n",
       "        text-align: right;\n",
       "    }\n",
       "</style>\n",
       "<table border=\"1\" class=\"dataframe\">\n",
       "  <thead>\n",
       "    <tr style=\"text-align: right;\">\n",
       "      <th></th>\n",
       "      <th>Record ID</th>\n",
       "      <th>Institute</th>\n",
       "      <th>WorkArea</th>\n",
       "      <th>CESSATION YEAR</th>\n",
       "      <th>Reason for ceasing employment</th>\n",
       "      <th>Contributing Factors. Career Move - Public Sector</th>\n",
       "      <th>Contributing Factors. Career Move - Private Sector</th>\n",
       "      <th>Contributing Factors. Career Move - Self-employment</th>\n",
       "      <th>Contributing Factors. Ill Health</th>\n",
       "      <th>Contributing Factors. Maternity/Family</th>\n",
       "      <th>...</th>\n",
       "      <th>Workplace. Topic:Does your workplace promote a work culture free from all forms of unlawful discrimination?</th>\n",
       "      <th>Workplace. Topic:Does your workplace promote and practice the principles of employment equity?</th>\n",
       "      <th>Workplace. Topic:Does your workplace value the diversity of its employees?</th>\n",
       "      <th>Workplace. Topic:Would you recommend the Institute as an employer to others?</th>\n",
       "      <th>Gender. What is your Gender?</th>\n",
       "      <th>CurrentAge. Current Age</th>\n",
       "      <th>Employment Type. Employment Type</th>\n",
       "      <th>Classification. Classification</th>\n",
       "      <th>LengthofServiceOverall. Overall Length of Service at Institute (in years)</th>\n",
       "      <th>LengthofServiceCurrent. Length of Service at current workplace (in years)</th>\n",
       "    </tr>\n",
       "  </thead>\n",
       "  <tbody>\n",
       "    <tr>\n",
       "      <th>0</th>\n",
       "      <td>6.341330e+17</td>\n",
       "      <td>Southern Queensland Institute of TAFE</td>\n",
       "      <td>Non-Delivery (corporate)</td>\n",
       "      <td>2010.0</td>\n",
       "      <td>Contract Expired</td>\n",
       "      <td>NaN</td>\n",
       "      <td>NaN</td>\n",
       "      <td>NaN</td>\n",
       "      <td>NaN</td>\n",
       "      <td>NaN</td>\n",
       "      <td>...</td>\n",
       "      <td>Yes</td>\n",
       "      <td>Yes</td>\n",
       "      <td>Yes</td>\n",
       "      <td>Yes</td>\n",
       "      <td>Female</td>\n",
       "      <td>26  30</td>\n",
       "      <td>Temporary Full-time</td>\n",
       "      <td>Administration (AO)</td>\n",
       "      <td>1-2</td>\n",
       "      <td>1-2</td>\n",
       "    </tr>\n",
       "    <tr>\n",
       "      <th>1</th>\n",
       "      <td>6.341337e+17</td>\n",
       "      <td>Mount Isa Institute of TAFE</td>\n",
       "      <td>Non-Delivery (corporate)</td>\n",
       "      <td>2010.0</td>\n",
       "      <td>Retirement</td>\n",
       "      <td>-</td>\n",
       "      <td>-</td>\n",
       "      <td>-</td>\n",
       "      <td>-</td>\n",
       "      <td>-</td>\n",
       "      <td>...</td>\n",
       "      <td>Yes</td>\n",
       "      <td>Yes</td>\n",
       "      <td>Yes</td>\n",
       "      <td>Yes</td>\n",
       "      <td>NaN</td>\n",
       "      <td>NaN</td>\n",
       "      <td>NaN</td>\n",
       "      <td>NaN</td>\n",
       "      <td>NaN</td>\n",
       "      <td>NaN</td>\n",
       "    </tr>\n",
       "    <tr>\n",
       "      <th>2</th>\n",
       "      <td>6.341388e+17</td>\n",
       "      <td>Mount Isa Institute of TAFE</td>\n",
       "      <td>Delivery (teaching)</td>\n",
       "      <td>2010.0</td>\n",
       "      <td>Retirement</td>\n",
       "      <td>-</td>\n",
       "      <td>-</td>\n",
       "      <td>-</td>\n",
       "      <td>-</td>\n",
       "      <td>-</td>\n",
       "      <td>...</td>\n",
       "      <td>Yes</td>\n",
       "      <td>Yes</td>\n",
       "      <td>Yes</td>\n",
       "      <td>Yes</td>\n",
       "      <td>NaN</td>\n",
       "      <td>NaN</td>\n",
       "      <td>NaN</td>\n",
       "      <td>NaN</td>\n",
       "      <td>NaN</td>\n",
       "      <td>NaN</td>\n",
       "    </tr>\n",
       "    <tr>\n",
       "      <th>3</th>\n",
       "      <td>6.341399e+17</td>\n",
       "      <td>Mount Isa Institute of TAFE</td>\n",
       "      <td>Non-Delivery (corporate)</td>\n",
       "      <td>2010.0</td>\n",
       "      <td>Resignation</td>\n",
       "      <td>-</td>\n",
       "      <td>-</td>\n",
       "      <td>-</td>\n",
       "      <td>-</td>\n",
       "      <td>-</td>\n",
       "      <td>...</td>\n",
       "      <td>Yes</td>\n",
       "      <td>Yes</td>\n",
       "      <td>Yes</td>\n",
       "      <td>Yes</td>\n",
       "      <td>NaN</td>\n",
       "      <td>NaN</td>\n",
       "      <td>NaN</td>\n",
       "      <td>NaN</td>\n",
       "      <td>NaN</td>\n",
       "      <td>NaN</td>\n",
       "    </tr>\n",
       "    <tr>\n",
       "      <th>4</th>\n",
       "      <td>6.341466e+17</td>\n",
       "      <td>Southern Queensland Institute of TAFE</td>\n",
       "      <td>Delivery (teaching)</td>\n",
       "      <td>2010.0</td>\n",
       "      <td>Resignation</td>\n",
       "      <td>-</td>\n",
       "      <td>Career Move - Private Sector</td>\n",
       "      <td>-</td>\n",
       "      <td>-</td>\n",
       "      <td>-</td>\n",
       "      <td>...</td>\n",
       "      <td>Yes</td>\n",
       "      <td>Yes</td>\n",
       "      <td>Yes</td>\n",
       "      <td>Yes</td>\n",
       "      <td>Male</td>\n",
       "      <td>41  45</td>\n",
       "      <td>Permanent Full-time</td>\n",
       "      <td>Teacher (including LVT)</td>\n",
       "      <td>3-4</td>\n",
       "      <td>3-4</td>\n",
       "    </tr>\n",
       "  </tbody>\n",
       "</table>\n",
       "<p>5 rows × 72 columns</p>\n",
       "</div>"
      ],
      "text/plain": [
       "      Record ID                              Institute  \\\n",
       "0  6.341330e+17  Southern Queensland Institute of TAFE   \n",
       "1  6.341337e+17            Mount Isa Institute of TAFE   \n",
       "2  6.341388e+17            Mount Isa Institute of TAFE   \n",
       "3  6.341399e+17            Mount Isa Institute of TAFE   \n",
       "4  6.341466e+17  Southern Queensland Institute of TAFE   \n",
       "\n",
       "                   WorkArea  CESSATION YEAR Reason for ceasing employment  \\\n",
       "0  Non-Delivery (corporate)          2010.0              Contract Expired   \n",
       "1  Non-Delivery (corporate)          2010.0                    Retirement   \n",
       "2       Delivery (teaching)          2010.0                    Retirement   \n",
       "3  Non-Delivery (corporate)          2010.0                   Resignation   \n",
       "4       Delivery (teaching)          2010.0                   Resignation   \n",
       "\n",
       "  Contributing Factors. Career Move - Public Sector   \\\n",
       "0                                                NaN   \n",
       "1                                                  -   \n",
       "2                                                  -   \n",
       "3                                                  -   \n",
       "4                                                  -   \n",
       "\n",
       "  Contributing Factors. Career Move - Private Sector   \\\n",
       "0                                                NaN    \n",
       "1                                                  -    \n",
       "2                                                  -    \n",
       "3                                                  -    \n",
       "4                       Career Move - Private Sector    \n",
       "\n",
       "  Contributing Factors. Career Move - Self-employment  \\\n",
       "0                                                NaN    \n",
       "1                                                  -    \n",
       "2                                                  -    \n",
       "3                                                  -    \n",
       "4                                                  -    \n",
       "\n",
       "  Contributing Factors. Ill Health Contributing Factors. Maternity/Family  \\\n",
       "0                              NaN                                    NaN   \n",
       "1                                -                                      -   \n",
       "2                                -                                      -   \n",
       "3                                -                                      -   \n",
       "4                                -                                      -   \n",
       "\n",
       "                                     ...                                     \\\n",
       "0                                    ...                                      \n",
       "1                                    ...                                      \n",
       "2                                    ...                                      \n",
       "3                                    ...                                      \n",
       "4                                    ...                                      \n",
       "\n",
       "  Workplace. Topic:Does your workplace promote a work culture free from all forms of unlawful discrimination?  \\\n",
       "0                                                Yes                                                            \n",
       "1                                                Yes                                                            \n",
       "2                                                Yes                                                            \n",
       "3                                                Yes                                                            \n",
       "4                                                Yes                                                            \n",
       "\n",
       "  Workplace. Topic:Does your workplace promote and practice the principles of employment equity?  \\\n",
       "0                                                Yes                                               \n",
       "1                                                Yes                                               \n",
       "2                                                Yes                                               \n",
       "3                                                Yes                                               \n",
       "4                                                Yes                                               \n",
       "\n",
       "  Workplace. Topic:Does your workplace value the diversity of its employees?  \\\n",
       "0                                                Yes                           \n",
       "1                                                Yes                           \n",
       "2                                                Yes                           \n",
       "3                                                Yes                           \n",
       "4                                                Yes                           \n",
       "\n",
       "  Workplace. Topic:Would you recommend the Institute as an employer to others?  \\\n",
       "0                                                Yes                             \n",
       "1                                                Yes                             \n",
       "2                                                Yes                             \n",
       "3                                                Yes                             \n",
       "4                                                Yes                             \n",
       "\n",
       "  Gender. What is your Gender? CurrentAge. Current Age  \\\n",
       "0                       Female                  26  30   \n",
       "1                          NaN                     NaN   \n",
       "2                          NaN                     NaN   \n",
       "3                          NaN                     NaN   \n",
       "4                         Male                  41  45   \n",
       "\n",
       "  Employment Type. Employment Type Classification. Classification  \\\n",
       "0              Temporary Full-time            Administration (AO)   \n",
       "1                              NaN                            NaN   \n",
       "2                              NaN                            NaN   \n",
       "3                              NaN                            NaN   \n",
       "4              Permanent Full-time        Teacher (including LVT)   \n",
       "\n",
       "  LengthofServiceOverall. Overall Length of Service at Institute (in years)  \\\n",
       "0                                                1-2                          \n",
       "1                                                NaN                          \n",
       "2                                                NaN                          \n",
       "3                                                NaN                          \n",
       "4                                                3-4                          \n",
       "\n",
       "  LengthofServiceCurrent. Length of Service at current workplace (in years)  \n",
       "0                                                1-2                         \n",
       "1                                                NaN                         \n",
       "2                                                NaN                         \n",
       "3                                                NaN                         \n",
       "4                                                3-4                         \n",
       "\n",
       "[5 rows x 72 columns]"
      ]
     },
     "execution_count": 5,
     "metadata": {},
     "output_type": "execute_result"
    }
   ],
   "source": [
    "# check tafe dataset\n",
    "\n",
    "tafe_survey.info()\n",
    "tafe_survey.head()\n"
   ]
  },
  {
   "cell_type": "markdown",
   "metadata": {},
   "source": [
    "different from dete dataset, tafe have 72 columns with 1 float columns, and 71 object columns"
   ]
  },
  {
   "cell_type": "code",
   "execution_count": 6,
   "metadata": {
    "collapsed": false
   },
   "outputs": [
    {
     "data": {
      "text/plain": [
       "Record ID                                                                                                                                                          0\n",
       "Institute                                                                                                                                                          0\n",
       "WorkArea                                                                                                                                                           0\n",
       "CESSATION YEAR                                                                                                                                                     7\n",
       "Reason for ceasing employment                                                                                                                                      1\n",
       "Contributing Factors. Career Move - Public Sector                                                                                                                265\n",
       "Contributing Factors. Career Move - Private Sector                                                                                                               265\n",
       "Contributing Factors. Career Move - Self-employment                                                                                                              265\n",
       "Contributing Factors. Ill Health                                                                                                                                 265\n",
       "Contributing Factors. Maternity/Family                                                                                                                           265\n",
       "Contributing Factors. Dissatisfaction                                                                                                                            265\n",
       "Contributing Factors. Job Dissatisfaction                                                                                                                        265\n",
       "Contributing Factors. Interpersonal Conflict                                                                                                                     265\n",
       "Contributing Factors. Study                                                                                                                                      265\n",
       "Contributing Factors. Travel                                                                                                                                     265\n",
       "Contributing Factors. Other                                                                                                                                      265\n",
       "Contributing Factors. NONE                                                                                                                                       265\n",
       "Main Factor. Which of these was the main factor for leaving?                                                                                                     589\n",
       "InstituteViews. Topic:1. I feel the senior leadership had a clear vision and direction                                                                            94\n",
       "InstituteViews. Topic:2. I was given access to skills training to help me do my job better                                                                        89\n",
       "InstituteViews. Topic:3. I was given adequate opportunities for personal development                                                                              92\n",
       "InstituteViews. Topic:4. I was given adequate opportunities for promotion within %Institute]Q25LBL%                                                               94\n",
       "InstituteViews. Topic:5. I felt the salary for the job was right for the responsibilities I had                                                                   87\n",
       "InstituteViews. Topic:6. The organisation recognised when staff did good work                                                                                     95\n",
       "InstituteViews. Topic:7. Management was generally supportive of me                                                                                                88\n",
       "InstituteViews. Topic:8. Management was generally supportive of my team                                                                                           94\n",
       "InstituteViews. Topic:9. I was kept informed of the changes in the organisation which would affect me                                                             92\n",
       "InstituteViews. Topic:10. Staff morale was positive within the Institute                                                                                         100\n",
       "InstituteViews. Topic:11. If I had a workplace issue it was dealt with quickly                                                                                   101\n",
       "InstituteViews. Topic:12. If I had a workplace issue it was dealt with efficiently                                                                               105\n",
       "                                                                                                                                                                ... \n",
       "WorkUnitViews. Topic:25. My job allowed me to balance the demands of work and family to my satisfaction                                                           91\n",
       "WorkUnitViews. Topic:26. My supervisor gave me adequate personal recognition and feedback on my performance                                                       96\n",
       "WorkUnitViews. Topic:27. My working environment was satisfactory e.g. sufficient space, good lighting, suitable seating and working area                          92\n",
       "WorkUnitViews. Topic:28. I was given the opportunity to mentor and coach others in order for me to pass on my skills and knowledge prior to my cessation date     93\n",
       "WorkUnitViews. Topic:29. There was adequate communication between staff in my unit                                                                                99\n",
       "WorkUnitViews. Topic:30. Staff morale was positive within my work unit                                                                                            96\n",
       "Induction. Did you undertake Workplace Induction?                                                                                                                 83\n",
       "InductionInfo. Topic:Did you undertake a Corporate Induction?                                                                                                    270\n",
       "InductionInfo. Topic:Did you undertake a Institute Induction?                                                                                                    219\n",
       "InductionInfo. Topic: Did you undertake Team Induction?                                                                                                          262\n",
       "InductionInfo. Face to Face Topic:Did you undertake a Corporate Induction; Category:How it was conducted?                                                        147\n",
       "InductionInfo. On-line Topic:Did you undertake a Corporate Induction; Category:How it was conducted?                                                             147\n",
       "InductionInfo. Induction Manual Topic:Did you undertake a Corporate Induction?                                                                                   147\n",
       "InductionInfo. Face to Face Topic:Did you undertake a Institute Induction?                                                                                       172\n",
       "InductionInfo. On-line Topic:Did you undertake a Institute Induction?                                                                                            147\n",
       "InductionInfo. Induction Manual Topic:Did you undertake a Institute Induction?                                                                                   149\n",
       "InductionInfo. Face to Face Topic: Did you undertake Team Induction; Category?                                                                                   147\n",
       "InductionInfo. On-line Topic: Did you undertake Team Induction?process you undertook and how it was conducted.]                                                  147\n",
       "InductionInfo. Induction Manual Topic: Did you undertake Team Induction?                                                                                         147\n",
       "Workplace. Topic:Did you and your Manager develop a Performance and Professional Development Plan (PPDP)?                                                         94\n",
       "Workplace. Topic:Does your workplace promote a work culture free from all forms of unlawful discrimination?                                                      108\n",
       "Workplace. Topic:Does your workplace promote and practice the principles of employment equity?                                                                   115\n",
       "Workplace. Topic:Does your workplace value the diversity of its employees?                                                                                       116\n",
       "Workplace. Topic:Would you recommend the Institute as an employer to others?                                                                                     121\n",
       "Gender. What is your Gender?                                                                                                                                     106\n",
       "CurrentAge. Current Age                                                                                                                                          106\n",
       "Employment Type. Employment Type                                                                                                                                 106\n",
       "Classification. Classification                                                                                                                                   106\n",
       "LengthofServiceOverall. Overall Length of Service at Institute (in years)                                                                                        106\n",
       "LengthofServiceCurrent. Length of Service at current workplace (in years)                                                                                        106\n",
       "Length: 72, dtype: int64"
      ]
     },
     "execution_count": 6,
     "metadata": {},
     "output_type": "execute_result"
    }
   ],
   "source": [
    "tafe_survey.isnull().sum()"
   ]
  },
  {
   "cell_type": "code",
   "execution_count": 7,
   "metadata": {
    "collapsed": false
   },
   "outputs": [
    {
     "data": {
      "text/plain": [
       "(702, 72)"
      ]
     },
     "execution_count": 7,
     "metadata": {},
     "output_type": "execute_result"
    }
   ],
   "source": [
    "tafe_survey.shape"
   ]
  },
  {
   "cell_type": "markdown",
   "metadata": {},
   "source": [
    "with 702 rows, tafe dataset have column with more than 50 % null values and i will delete it, and for below 50 % (both tafe dan dete dataset) many different strategy will be included"
   ]
  },
  {
   "cell_type": "markdown",
   "metadata": {},
   "source": [
    "# Delete data with null values"
   ]
  },
  {
   "cell_type": "markdown",
   "metadata": {},
   "source": [
    "check the data with less than 50 % null values"
   ]
  },
  {
   "cell_type": "markdown",
   "metadata": {},
   "source": [
    "### dete survey"
   ]
  },
  {
   "cell_type": "code",
   "execution_count": 8,
   "metadata": {
    "collapsed": false
   },
   "outputs": [
    {
     "name": "stdout",
     "output_type": "stream",
     "text": [
      "\n",
      "\n",
      "----------------------------------------------------------------------\n",
      "SEPARATIONTYPE\n",
      "Age Retirement                          285\n",
      "Resignation-Other reasons               150\n",
      "Resignation-Other employer               91\n",
      "Resignation-Move overseas/interstate     70\n",
      "Voluntary Early Retirement (VER)         67\n",
      "Ill Health Retirement                    61\n",
      "Other                                    49\n",
      "Contract Expired                         34\n",
      "Termination                              15\n",
      "Name: SeparationType, dtype: int64\n",
      "\n",
      "\n",
      "----------------------------------------------------------------------\n",
      "CEASE DATE\n",
      "2012          344\n",
      "2013          200\n",
      "01/2014        43\n",
      "12/2013        40\n",
      "Not Stated     34\n",
      "09/2013        34\n",
      "06/2013        27\n",
      "07/2013        22\n",
      "10/2013        20\n",
      "11/2013        16\n",
      "08/2013        12\n",
      "05/2013         7\n",
      "05/2012         6\n",
      "04/2013         2\n",
      "08/2012         2\n",
      "04/2014         2\n",
      "07/2014         2\n",
      "02/2014         2\n",
      "2014            1\n",
      "2010            1\n",
      "07/2006         1\n",
      "09/2010         1\n",
      "11/2012         1\n",
      "07/2012         1\n",
      "09/2014         1\n",
      "Name: Cease Date, dtype: int64\n",
      "\n",
      "\n",
      "----------------------------------------------------------------------\n",
      "DETE START DATE\n",
      "Not Stated    73\n",
      "2011          40\n",
      "2007          34\n",
      "2008          31\n",
      "2012          27\n",
      "2010          27\n",
      "2009          24\n",
      "2006          23\n",
      "2013          21\n",
      "1970          21\n",
      "1975          21\n",
      "2005          20\n",
      "1990          20\n",
      "1996          19\n",
      "1999          19\n",
      "2000          18\n",
      "1992          18\n",
      "2004          18\n",
      "1991          18\n",
      "1989          17\n",
      "1978          15\n",
      "2003          15\n",
      "2002          15\n",
      "1988          15\n",
      "1976          15\n",
      "1974          14\n",
      "1998          14\n",
      "1980          14\n",
      "1995          14\n",
      "1997          14\n",
      "1979          14\n",
      "1993          13\n",
      "1986          12\n",
      "1972          12\n",
      "1977          11\n",
      "1971          10\n",
      "1969          10\n",
      "1994          10\n",
      "2001          10\n",
      "1984          10\n",
      "1983           9\n",
      "1981           9\n",
      "1973           8\n",
      "1985           8\n",
      "1987           7\n",
      "1982           4\n",
      "1963           4\n",
      "1968           3\n",
      "1967           2\n",
      "1965           1\n",
      "1966           1\n",
      "Name: DETE Start Date, dtype: int64\n",
      "\n",
      "\n",
      "----------------------------------------------------------------------\n",
      "ROLE START DATE\n",
      "Not Stated    98\n",
      "2012          65\n",
      "2011          57\n",
      "2010          46\n",
      "2008          45\n",
      "2007          41\n",
      "2013          41\n",
      "2009          38\n",
      "2006          25\n",
      "2004          22\n",
      "2003          20\n",
      "2005          20\n",
      "2000          20\n",
      "1996          19\n",
      "1999          19\n",
      "1989          18\n",
      "1992          17\n",
      "2002          16\n",
      "2001          15\n",
      "1998          15\n",
      "1988          14\n",
      "1997          13\n",
      "1995          13\n",
      "1990          12\n",
      "1975          12\n",
      "1986          11\n",
      "1978           9\n",
      "1993           9\n",
      "1976           9\n",
      "1991           8\n",
      "1979           7\n",
      "1994           7\n",
      "1985           6\n",
      "1981           5\n",
      "1983           5\n",
      "1987           5\n",
      "1984           4\n",
      "1982           4\n",
      "1980           3\n",
      "1970           2\n",
      "1977           2\n",
      "200            1\n",
      "1972           1\n",
      "1971           1\n",
      "1973           1\n",
      "1974           1\n",
      "Name: Role Start Date, dtype: int64\n",
      "\n",
      "\n",
      "----------------------------------------------------------------------\n",
      "REGION\n",
      "Metropolitan                135\n",
      "Central Office              130\n",
      "South East                  108\n",
      "Not Stated                  105\n",
      "Darling Downs South West     95\n",
      "Central Queensland           84\n",
      "North Coast                  75\n",
      "North Queensland             53\n",
      "Far North Queensland         37\n",
      "Name: Region, dtype: int64\n"
     ]
    }
   ],
   "source": [
    "\n",
    "\n",
    "#dete dataset for non null values for int types\n",
    "dete_columns = dete_survey.columns\n",
    "\n",
    "#50 percent data\n",
    "halfpercent_data = (50/100) * dete_survey.shape[0]\n",
    "\n",
    "#we will not process column with more 50 %null values, due to it will not give any clue for analyze\n",
    "#we also don't use data dtypes boolean because they don't have null values and just have 2 classification\n",
    "for c in dete_columns:\n",
    "    if (dete_survey[c].isnull().sum() > halfpercent_data) or (dete_survey[c].dtypes == 'int64') or (dete_survey[c].isnull().sum() != 0) or (dete_survey[c].dtypes == 'bool'):\n",
    "        pass\n",
    "    else:\n",
    "        print('\\n')\n",
    "        print('-'*70)\n",
    "        print(c.upper())\n",
    "        print(dete_survey[c].value_counts(dropna=False))"
   ]
  },
  {
   "cell_type": "code",
   "execution_count": 9,
   "metadata": {
    "collapsed": false
   },
   "outputs": [
    {
     "name": "stdout",
     "output_type": "stream",
     "text": [
      "\n",
      "\n",
      "----------------------------------------------------------------------\n",
      "POSITION\n",
      "Teacher                                                    324\n",
      "Teacher Aide                                               137\n",
      "Public Servant                                             126\n",
      "Cleaner                                                     97\n",
      "Head of Curriculum/Head of Special Education                38\n",
      "Schools Officer                                             24\n",
      "School Administrative Staff                                 16\n",
      "Guidance Officer                                            12\n",
      "Technical Officer                                           11\n",
      "Professional Officer                                         7\n",
      "Other                                                        7\n",
      "School Principal                                             5\n",
      "School Based Professional Staff (Therapist, nurse, etc)      5\n",
      "NaN                                                          5\n",
      "Deputy Principal                                             4\n",
      "Business Service Manager                                     4\n",
      "Name: Position, dtype: int64\n",
      "\n",
      "\n",
      "----------------------------------------------------------------------\n",
      "CLASSIFICATION\n",
      "NaN                  367\n",
      "Primary              161\n",
      "Secondary            124\n",
      "A01-A04               66\n",
      "AO5-AO7               46\n",
      "Special Education     33\n",
      "AO8 and Above         14\n",
      "PO1-PO4                8\n",
      "Middle                 3\n",
      "Name: Classification, dtype: int64\n",
      "\n",
      "\n",
      "----------------------------------------------------------------------\n",
      "EMPLOYMENT STATUS\n",
      "Permanent Full-time    434\n",
      "Permanent Part-time    308\n",
      "Temporary Full-time     41\n",
      "Temporary Part-time     24\n",
      "Casual                  10\n",
      "NaN                      5\n",
      "Name: Employment Status, dtype: int64\n",
      "\n",
      "\n",
      "----------------------------------------------------------------------\n",
      "PROFESSIONAL DEVELOPMENT\n",
      "A      413\n",
      "SA     184\n",
      "N      103\n",
      "D       60\n",
      "SD      33\n",
      "M       15\n",
      "NaN     14\n",
      "Name: Professional Development, dtype: int64\n",
      "\n",
      "\n",
      "----------------------------------------------------------------------\n",
      "OPPORTUNITIES FOR PROMOTION\n",
      "A      242\n",
      "N      230\n",
      "SA     100\n",
      "NaN     87\n",
      "D       83\n",
      "SD      56\n",
      "M       24\n",
      "Name: Opportunities for promotion, dtype: int64\n",
      "\n",
      "\n",
      "----------------------------------------------------------------------\n",
      "STAFF MORALE\n",
      "A      335\n",
      "N      158\n",
      "SA     121\n",
      "D      112\n",
      "SD      77\n",
      "M       13\n",
      "NaN      6\n",
      "Name: Staff morale, dtype: int64\n",
      "\n",
      "\n",
      "----------------------------------------------------------------------\n",
      "WORKPLACE ISSUE\n",
      "A      357\n",
      "N      160\n",
      "SA     115\n",
      "D       77\n",
      "SD      65\n",
      "NaN     34\n",
      "M       14\n",
      "Name: Workplace issue, dtype: int64\n",
      "\n",
      "\n",
      "----------------------------------------------------------------------\n",
      "PHYSICAL ENVIRONMENT\n",
      "A      467\n",
      "SA     148\n",
      "N       99\n",
      "D       61\n",
      "SD      27\n",
      "M       15\n",
      "NaN      5\n",
      "Name: Physical environment, dtype: int64\n",
      "\n",
      "\n",
      "----------------------------------------------------------------------\n",
      "WORKLIFE BALANCE\n",
      "A      359\n",
      "SA     162\n",
      "N      116\n",
      "D      107\n",
      "SD      59\n",
      "M       12\n",
      "NaN      7\n",
      "Name: Worklife balance, dtype: int64\n",
      "\n",
      "\n",
      "----------------------------------------------------------------------\n",
      "STRESS AND PRESSURE SUPPORT\n",
      "A      342\n",
      "N      168\n",
      "SA     124\n",
      "D       95\n",
      "SD      67\n",
      "M       14\n",
      "NaN     12\n",
      "Name: Stress and pressure support, dtype: int64\n",
      "\n",
      "\n",
      "----------------------------------------------------------------------\n",
      "PERFORMANCE OF SUPERVISOR\n",
      "A      349\n",
      "SA     179\n",
      "N      120\n",
      "D       77\n",
      "SD      76\n",
      "M       12\n",
      "NaN      9\n",
      "Name: Performance of supervisor, dtype: int64\n",
      "\n",
      "\n",
      "----------------------------------------------------------------------\n",
      "PEER SUPPORT\n",
      "A      401\n",
      "SA     243\n",
      "N       95\n",
      "D       37\n",
      "SD      25\n",
      "M       11\n",
      "NaN     10\n",
      "Name: Peer support, dtype: int64\n",
      "\n",
      "\n",
      "----------------------------------------------------------------------\n",
      "INITIATIVE\n",
      "A      396\n",
      "SA     244\n",
      "N       95\n",
      "D       34\n",
      "SD      31\n",
      "M       13\n",
      "NaN      9\n",
      "Name: Initiative, dtype: int64\n",
      "\n",
      "\n",
      "----------------------------------------------------------------------\n",
      "SKILLS\n",
      "A      372\n",
      "SA     228\n",
      "N       94\n",
      "D       59\n",
      "SD      47\n",
      "M       11\n",
      "NaN     11\n",
      "Name: Skills, dtype: int64\n",
      "\n",
      "\n",
      "----------------------------------------------------------------------\n",
      "COACH\n",
      "A      345\n",
      "SA     157\n",
      "N      141\n",
      "D       65\n",
      "NaN     55\n",
      "SD      37\n",
      "M       22\n",
      "Name: Coach, dtype: int64\n",
      "\n",
      "\n",
      "----------------------------------------------------------------------\n",
      "CAREER ASPIRATIONS\n",
      "A      246\n",
      "N      183\n",
      "SA     130\n",
      "D      108\n",
      "NaN     76\n",
      "SD      62\n",
      "M       17\n",
      "Name: Career Aspirations, dtype: int64\n",
      "\n",
      "\n",
      "----------------------------------------------------------------------\n",
      "FEEDBACK\n",
      "A      348\n",
      "SA     156\n",
      "N      138\n",
      "D       78\n",
      "SD      57\n",
      "NaN     30\n",
      "M       15\n",
      "Name: Feedback, dtype: int64\n",
      "\n",
      "\n",
      "----------------------------------------------------------------------\n",
      "FURTHER PD\n",
      "A      293\n",
      "N      179\n",
      "SA     149\n",
      "D       77\n",
      "SD      57\n",
      "NaN     54\n",
      "M       13\n",
      "Name: Further PD, dtype: int64\n",
      "\n",
      "\n",
      "----------------------------------------------------------------------\n",
      "COMMUNICATION\n",
      "A      399\n",
      "SA     144\n",
      "N      129\n",
      "D       76\n",
      "SD      58\n",
      "M        8\n",
      "NaN      8\n",
      "Name: Communication, dtype: int64\n",
      "\n",
      "\n",
      "----------------------------------------------------------------------\n",
      "MY SAY\n",
      "A      400\n",
      "SA     177\n",
      "N      116\n",
      "SD      57\n",
      "D       52\n",
      "M       10\n",
      "NaN     10\n",
      "Name: My say, dtype: int64\n",
      "\n",
      "\n",
      "----------------------------------------------------------------------\n",
      "INFORMATION\n",
      "A      436\n",
      "SA     165\n",
      "N      120\n",
      "D       45\n",
      "SD      39\n",
      "M       11\n",
      "NaN      6\n",
      "Name: Information, dtype: int64\n",
      "\n",
      "\n",
      "----------------------------------------------------------------------\n",
      "KEPT INFORMED\n",
      "A      401\n",
      "SA     162\n",
      "N      130\n",
      "D       60\n",
      "SD      50\n",
      "M       10\n",
      "NaN      9\n",
      "Name: Kept informed, dtype: int64\n",
      "\n",
      "\n",
      "----------------------------------------------------------------------\n",
      "WELLNESS PROGRAMS\n",
      "A      253\n",
      "N      225\n",
      "D      105\n",
      "SA      78\n",
      "SD      72\n",
      "NaN     56\n",
      "M       33\n",
      "Name: Wellness programs, dtype: int64\n",
      "\n",
      "\n",
      "----------------------------------------------------------------------\n",
      "HEALTH & SAFETY\n",
      "A      386\n",
      "N      153\n",
      "SA     141\n",
      "D       50\n",
      "SD      35\n",
      "NaN     29\n",
      "M       28\n",
      "Name: Health & Safety, dtype: int64\n",
      "\n",
      "\n",
      "----------------------------------------------------------------------\n",
      "GENDER\n",
      "Female    573\n",
      "Male      225\n",
      "NaN        24\n",
      "Name: Gender, dtype: int64\n",
      "\n",
      "\n",
      "----------------------------------------------------------------------\n",
      "AGE\n",
      "61 or older      222\n",
      "56-60            174\n",
      "51-55            103\n",
      "46-50             63\n",
      "41-45             61\n",
      "26-30             57\n",
      "36-40             51\n",
      "21-25             40\n",
      "31-35             39\n",
      "NaN               11\n",
      "20 or younger      1\n",
      "Name: Age, dtype: int64\n"
     ]
    }
   ],
   "source": [
    "#for columns with null values and int dtypes\n",
    "dete_columns = dete_survey.columns\n",
    "\n",
    "halfpercent_data = (50/100) * dete_survey.shape[0]\n",
    "\n",
    "for c in dete_columns:\n",
    "    if (dete_survey[c].isnull().sum() > halfpercent_data) or (dete_survey[c].dtypes == 'int64') or (dete_survey[c].isnull().sum() == 0) or (dete_survey[c].dtypes == 'bool'):\n",
    "        pass\n",
    "    else:\n",
    "        print('\\n')\n",
    "        print('-'*70)\n",
    "        print(c.upper())\n",
    "        print(dete_survey[c].value_counts(dropna=False))"
   ]
  },
  {
   "cell_type": "markdown",
   "metadata": {},
   "source": [
    "for date dataset there was many conclussion\n",
    "\n",
    "1. many dataset have 'Not Stated' which is have same values as Nan, so we will change it,\n",
    "\n",
    "2. many dataset column, such as date dataset, have outlier that should be change it, and also many dataset in date dataset, have different format, so we must concern about it\n",
    "\n",
    "3. many columns have same value,  professional development and opportunities , so it can be easy to solve solve nan value problem"
   ]
  },
  {
   "cell_type": "markdown",
   "metadata": {},
   "source": [
    "### tafe survey"
   ]
  },
  {
   "cell_type": "code",
   "execution_count": 10,
   "metadata": {
    "collapsed": false
   },
   "outputs": [
    {
     "name": "stdout",
     "output_type": "stream",
     "text": [
      "\n",
      "\n",
      "----------------------------------------------------------------------\n",
      "INSTITUTE\n",
      "Brisbane North Institute of TAFE         161\n",
      "Southern Queensland Institute of TAFE    142\n",
      "Central Queensland Institute of TAFE     108\n",
      "Sunshine Coast Institute of TAFE          91\n",
      "Tropical North Institute of TAFE          70\n",
      "SkillsTech Australia                      57\n",
      "Southbank Institute of Technology         43\n",
      "Barrier Reef Institute of TAFE            14\n",
      "Mount Isa Institute of TAFE               12\n",
      "Wide Bay Institute of TAFE                 2\n",
      "The Bremer Institute of TAFE               1\n",
      "Metropolitan South Institute of TAFE       1\n",
      "Name: Institute, dtype: int64\n",
      "\n",
      "\n",
      "----------------------------------------------------------------------\n",
      "WORKAREA\n",
      "Non-Delivery (corporate)    432\n",
      "Delivery (teaching)         270\n",
      "Name: WorkArea, dtype: int64\n"
     ]
    }
   ],
   "source": [
    "#tafe dataset for non null values\n",
    "tafe_columns = tafe_survey.columns\n",
    "\n",
    "halfpercent_data = (50/100) * tafe_survey.shape[0]\n",
    "#we will not process column with more 50 %null values, due to it will not give any clue for analyze\n",
    "#we also don't use data dtypes boolean because they don't have null values and just have 2 classification\n",
    "for c in tafe_columns:\n",
    "    if (tafe_survey[c].isnull().sum() > halfpercent_data) or (tafe_survey[c].dtypes == 'float64') or (tafe_survey[c].isnull().sum() != 0) or (tafe_survey[c].dtypes == 'bool'):\n",
    "        pass\n",
    "    else:\n",
    "        print('\\n')\n",
    "        print('-'*70)\n",
    "        print(c.upper())\n",
    "        print(tafe_survey[c].value_counts(dropna=False))"
   ]
  },
  {
   "cell_type": "code",
   "execution_count": 11,
   "metadata": {
    "collapsed": false
   },
   "outputs": [
    {
     "name": "stdout",
     "output_type": "stream",
     "text": [
      "\n",
      "\n",
      "----------------------------------------------------------------------\n",
      "REASON FOR CEASING EMPLOYMENT\n",
      "Resignation                 340\n",
      "Contract Expired            127\n",
      "Retrenchment/ Redundancy    104\n",
      "Retirement                   82\n",
      "Transfer                     25\n",
      "Termination                  23\n",
      "NaN                           1\n",
      "Name: Reason for ceasing employment, dtype: int64\n",
      "\n",
      "\n",
      "----------------------------------------------------------------------\n",
      "CONTRIBUTING FACTORS. CAREER MOVE - PUBLIC SECTOR \n",
      "-                              375\n",
      "NaN                            265\n",
      "Career Move - Public Sector     62\n",
      "Name: Contributing Factors. Career Move - Public Sector , dtype: int64\n",
      "\n",
      "\n",
      "----------------------------------------------------------------------\n",
      "CONTRIBUTING FACTORS. CAREER MOVE - PRIVATE SECTOR \n",
      "-                               336\n",
      "NaN                             265\n",
      "Career Move - Private Sector    101\n",
      "Name: Contributing Factors. Career Move - Private Sector , dtype: int64\n",
      "\n",
      "\n",
      "----------------------------------------------------------------------\n",
      "CONTRIBUTING FACTORS. CAREER MOVE - SELF-EMPLOYMENT\n",
      "-                                420\n",
      "NaN                              265\n",
      "Career Move - Self-employment     17\n",
      "Name: Contributing Factors. Career Move - Self-employment, dtype: int64\n",
      "\n",
      "\n",
      "----------------------------------------------------------------------\n",
      "CONTRIBUTING FACTORS. ILL HEALTH\n",
      "-             403\n",
      "NaN           265\n",
      "Ill Health     34\n",
      "Name: Contributing Factors. Ill Health, dtype: int64\n",
      "\n",
      "\n",
      "----------------------------------------------------------------------\n",
      "CONTRIBUTING FACTORS. MATERNITY/FAMILY\n",
      "-                   411\n",
      "NaN                 265\n",
      "Maternity/Family     26\n",
      "Name: Contributing Factors. Maternity/Family, dtype: int64\n",
      "\n",
      "\n",
      "----------------------------------------------------------------------\n",
      "CONTRIBUTING FACTORS. DISSATISFACTION\n",
      "-                                         371\n",
      "NaN                                       265\n",
      "Contributing Factors. Dissatisfaction      66\n",
      "Name: Contributing Factors. Dissatisfaction, dtype: int64\n",
      "\n",
      "\n",
      "----------------------------------------------------------------------\n",
      "CONTRIBUTING FACTORS. JOB DISSATISFACTION\n",
      "-                      360\n",
      "NaN                    265\n",
      "Job Dissatisfaction     77\n",
      "Name: Contributing Factors. Job Dissatisfaction, dtype: int64\n",
      "\n",
      "\n",
      "----------------------------------------------------------------------\n",
      "CONTRIBUTING FACTORS. INTERPERSONAL CONFLICT\n",
      "-                         410\n",
      "NaN                       265\n",
      "Interpersonal Conflict     27\n",
      "Name: Contributing Factors. Interpersonal Conflict, dtype: int64\n",
      "\n",
      "\n",
      "----------------------------------------------------------------------\n",
      "CONTRIBUTING FACTORS. STUDY\n",
      "-        421\n",
      "NaN      265\n",
      "Study     16\n",
      "Name: Contributing Factors. Study, dtype: int64\n",
      "\n",
      "\n",
      "----------------------------------------------------------------------\n",
      "CONTRIBUTING FACTORS. TRAVEL\n",
      "-         415\n",
      "NaN       265\n",
      "Travel     22\n",
      "Name: Contributing Factors. Travel, dtype: int64\n",
      "\n",
      "\n",
      "----------------------------------------------------------------------\n",
      "CONTRIBUTING FACTORS. OTHER\n",
      "-        331\n",
      "NaN      265\n",
      "Other    106\n",
      "Name: Contributing Factors. Other, dtype: int64\n",
      "\n",
      "\n",
      "----------------------------------------------------------------------\n",
      "CONTRIBUTING FACTORS. NONE\n",
      "-       391\n",
      "NaN     265\n",
      "NONE     46\n",
      "Name: Contributing Factors. NONE, dtype: int64\n",
      "\n",
      "\n",
      "----------------------------------------------------------------------\n",
      "INSTITUTEVIEWS. TOPIC:1. I FEEL THE SENIOR LEADERSHIP HAD A CLEAR VISION AND DIRECTION\n",
      "Agree                233\n",
      "Neutral              150\n",
      "NaN                   94\n",
      "Strongly Agree        87\n",
      "Disagree              84\n",
      "Strongly Disagree     49\n",
      "Not Applicable         5\n",
      "Name: InstituteViews. Topic:1. I feel the senior leadership had a clear vision and direction, dtype: int64\n",
      "\n",
      "\n",
      "----------------------------------------------------------------------\n",
      "INSTITUTEVIEWS. TOPIC:2. I WAS GIVEN ACCESS TO SKILLS TRAINING TO HELP ME DO MY JOB BETTER\n",
      "Agree                275\n",
      "Strongly Agree       123\n",
      "Neutral              105\n",
      "NaN                   89\n",
      "Disagree              64\n",
      "Strongly Disagree     35\n",
      "Not Applicable        11\n",
      "Name: InstituteViews. Topic:2. I was given access to skills training to help me do my job better, dtype: int64\n",
      "\n",
      "\n",
      "----------------------------------------------------------------------\n",
      "INSTITUTEVIEWS. TOPIC:3. I WAS GIVEN ADEQUATE OPPORTUNITIES FOR PERSONAL DEVELOPMENT\n",
      "Agree                247\n",
      "Neutral              119\n",
      "Strongly Agree       116\n",
      "NaN                   92\n",
      "Disagree              72\n",
      "Strongly Disagree     43\n",
      "Not Applicable        13\n",
      "Name: InstituteViews. Topic:3. I was given adequate opportunities for personal development, dtype: int64\n",
      "\n",
      "\n",
      "----------------------------------------------------------------------\n",
      "INSTITUTEVIEWS. TOPIC:4. I WAS GIVEN ADEQUATE OPPORTUNITIES FOR PROMOTION WITHIN %INSTITUTE]Q25LBL%\n",
      "Neutral              175\n",
      "Agree                142\n",
      "Disagree              98\n",
      "NaN                   94\n",
      "Strongly Disagree     81\n",
      "Strongly Agree        61\n",
      "Not Applicable        51\n",
      "Name: InstituteViews. Topic:4. I was given adequate opportunities for promotion within %Institute]Q25LBL%, dtype: int64\n",
      "\n",
      "\n",
      "----------------------------------------------------------------------\n",
      "INSTITUTEVIEWS. TOPIC:5. I FELT THE SALARY FOR THE JOB WAS RIGHT FOR THE RESPONSIBILITIES I HAD\n",
      "Agree                255\n",
      "Neutral              109\n",
      "Disagree             108\n",
      "NaN                   87\n",
      "Strongly Agree        70\n",
      "Strongly Disagree     66\n",
      "Not Applicable         7\n",
      "Name: InstituteViews. Topic:5. I felt the salary for the job was right for the responsibilities I had, dtype: int64\n",
      "\n",
      "\n",
      "----------------------------------------------------------------------\n",
      "INSTITUTEVIEWS. TOPIC:6. THE ORGANISATION RECOGNISED WHEN STAFF DID GOOD WORK\n",
      "Agree                212\n",
      "Neutral              136\n",
      "Disagree             105\n",
      "NaN                   95\n",
      "Strongly Agree        74\n",
      "Strongly Disagree     73\n",
      "Not Applicable         7\n",
      "Name: InstituteViews. Topic:6. The organisation recognised when staff did good work, dtype: int64\n",
      "\n",
      "\n",
      "----------------------------------------------------------------------\n",
      "INSTITUTEVIEWS. TOPIC:7. MANAGEMENT WAS GENERALLY SUPPORTIVE OF ME\n",
      "Agree                267\n",
      "Strongly Agree       135\n",
      "Neutral              104\n",
      "NaN                   88\n",
      "Disagree              66\n",
      "Strongly Disagree     37\n",
      "Not Applicable         5\n",
      "Name: InstituteViews. Topic:7. Management was generally supportive of me, dtype: int64\n",
      "\n",
      "\n",
      "----------------------------------------------------------------------\n",
      "INSTITUTEVIEWS. TOPIC:8. MANAGEMENT WAS GENERALLY SUPPORTIVE OF MY TEAM\n",
      "Agree                268\n",
      "Strongly Agree       113\n",
      "Neutral              107\n",
      "NaN                   94\n",
      "Disagree              76\n",
      "Strongly Disagree     36\n",
      "Not Applicable         8\n",
      "Name: InstituteViews. Topic:8. Management was generally supportive of my team, dtype: int64\n",
      "\n",
      "\n",
      "----------------------------------------------------------------------\n",
      "INSTITUTEVIEWS. TOPIC:9. I WAS KEPT INFORMED OF THE CHANGES IN THE ORGANISATION WHICH WOULD AFFECT ME\n",
      "Agree                284\n",
      "Neutral               98\n",
      "NaN                   92\n",
      "Strongly Agree        87\n",
      "Disagree              78\n",
      "Strongly Disagree     58\n",
      "Not Applicable         5\n",
      "Name: InstituteViews. Topic:9. I was kept informed of the changes in the organisation which would affect me, dtype: int64\n",
      "\n",
      "\n",
      "----------------------------------------------------------------------\n",
      "INSTITUTEVIEWS. TOPIC:10. STAFF MORALE WAS POSITIVE WITHIN THE INSTITUTE\n",
      "Neutral              154\n",
      "Agree                146\n",
      "Disagree             139\n",
      "Strongly Disagree    109\n",
      "NaN                  100\n",
      "Strongly Agree        47\n",
      "Not Applicable         7\n",
      "Name: InstituteViews. Topic:10. Staff morale was positive within the Institute, dtype: int64\n",
      "\n",
      "\n",
      "----------------------------------------------------------------------\n",
      "INSTITUTEVIEWS. TOPIC:11. IF I HAD A WORKPLACE ISSUE IT WAS DEALT WITH QUICKLY\n",
      "Agree                216\n",
      "Neutral              142\n",
      "NaN                  101\n",
      "Disagree              79\n",
      "Strongly Disagree     64\n",
      "Strongly Agree        62\n",
      "Not Applicable        38\n",
      "Name: InstituteViews. Topic:11. If I had a workplace issue it was dealt with quickly, dtype: int64\n",
      "\n",
      "\n",
      "----------------------------------------------------------------------\n",
      "INSTITUTEVIEWS. TOPIC:12. IF I HAD A WORKPLACE ISSUE IT WAS DEALT WITH EFFICIENTLY\n",
      "Agree                209\n",
      "Neutral              143\n",
      "NaN                  105\n",
      "Disagree              84\n",
      "Strongly Agree        62\n",
      "Strongly Disagree     60\n",
      "Not Applicable        39\n",
      "Name: InstituteViews. Topic:12. If I had a workplace issue it was dealt with efficiently, dtype: int64\n",
      "\n",
      "\n",
      "----------------------------------------------------------------------\n",
      "INSTITUTEVIEWS. TOPIC:13. IF I HAD A WORKPLACE ISSUE IT WAS DEALT WITH DISCREETLY\n",
      "Agree                226\n",
      "Neutral              146\n",
      "NaN                  101\n",
      "Strongly Agree        75\n",
      "Disagree              56\n",
      "Strongly Disagree     53\n",
      "Not Applicable        45\n",
      "Name: InstituteViews. Topic:13. If I had a workplace issue it was dealt with discreetly, dtype: int64\n",
      "\n",
      "\n",
      "----------------------------------------------------------------------\n",
      "WORKUNITVIEWS. TOPIC:14. I WAS SATISFIED WITH THE QUALITY OF THE MANAGEMENT AND SUPERVISION WITHIN MY WORK UNIT\n",
      "Agree                234\n",
      "Strongly Agree       156\n",
      "NaN                   93\n",
      "Disagree              87\n",
      "Neutral               81\n",
      "Strongly Disagree     43\n",
      "Not Applicable         8\n",
      "Name: WorkUnitViews. Topic:14. I was satisfied with the quality of the management and supervision within my work unit, dtype: int64\n",
      "\n",
      "\n",
      "----------------------------------------------------------------------\n",
      "WORKUNITVIEWS. TOPIC:15. I WORKED WELL WITH MY COLLEAGUES\n",
      "Agree                281\n",
      "Strongly Agree       272\n",
      "NaN                   97\n",
      "Neutral               31\n",
      "Disagree               9\n",
      "Strongly Disagree      7\n",
      "Not Applicable         5\n",
      "Name: WorkUnitViews. Topic:15. I worked well with my colleagues, dtype: int64\n",
      "\n",
      "\n",
      "----------------------------------------------------------------------\n",
      "WORKUNITVIEWS. TOPIC:16. MY JOB WAS CHALLENGING AND INTERESTING\n",
      "Agree                284\n",
      "Strongly Agree       184\n",
      "NaN                   95\n",
      "Neutral               76\n",
      "Disagree              39\n",
      "Strongly Disagree     18\n",
      "Not Applicable         6\n",
      "Name: WorkUnitViews. Topic:16. My job was challenging and interesting, dtype: int64\n",
      "\n",
      "\n",
      "----------------------------------------------------------------------\n",
      "WORKUNITVIEWS. TOPIC:17. I WAS ENCOURAGED TO USE MY INITIATIVE IN THE COURSE OF MY WORK\n",
      "Agree                253\n",
      "Strongly Agree       198\n",
      "NaN                   92\n",
      "Neutral               86\n",
      "Disagree              40\n",
      "Strongly Disagree     27\n",
      "Not Applicable         6\n",
      "Name: WorkUnitViews. Topic:17. I was encouraged to use my initiative in the course of my work, dtype: int64\n",
      "\n",
      "\n",
      "----------------------------------------------------------------------\n",
      "WORKUNITVIEWS. TOPIC:18. I HAD SUFFICIENT CONTACT WITH OTHER PEOPLE IN MY JOB\n",
      "Agree                331\n",
      "Strongly Agree       189\n",
      "NaN                   89\n",
      "Neutral               55\n",
      "Disagree              19\n",
      "Strongly Disagree     13\n",
      "Not Applicable         6\n",
      "Name: WorkUnitViews. Topic:18. I had sufficient contact with other people in my job, dtype: int64\n",
      "\n",
      "\n",
      "----------------------------------------------------------------------\n",
      "WORKUNITVIEWS. TOPIC:19. I WAS GIVEN ADEQUATE SUPPORT AND CO-OPERATION BY MY PEERS TO ENABLE ME TO DO MY JOB\n",
      "Agree                286\n",
      "Strongly Agree       185\n",
      "NaN                   93\n",
      "Neutral               73\n",
      "Disagree              34\n",
      "Strongly Disagree     25\n",
      "Not Applicable         6\n",
      "Name: WorkUnitViews. Topic:19. I was given adequate support and co-operation by my peers to enable me to do my job, dtype: int64\n",
      "\n",
      "\n",
      "----------------------------------------------------------------------\n",
      "WORKUNITVIEWS. TOPIC:20. I WAS ABLE TO USE THE FULL RANGE OF MY SKILLS IN MY JOB\n",
      "Agree                230\n",
      "Strongly Agree       134\n",
      "Disagree              96\n",
      "NaN                   93\n",
      "Neutral               91\n",
      "Strongly Disagree     52\n",
      "Not Applicable         6\n",
      "Name: WorkUnitViews. Topic:20. I was able to use the full range of my skills in my job, dtype: int64\n",
      "\n",
      "\n",
      "----------------------------------------------------------------------\n",
      "WORKUNITVIEWS. TOPIC:21. I WAS ABLE TO USE THE FULL RANGE OF MY ABILITIES IN MY JOB. ; CATEGORY:LEVEL OF AGREEMENT; QUESTION:YOUR VIEWS ABOUT YOUR WORK UNIT]\n",
      "Agree                232\n",
      "Strongly Agree       129\n",
      "Neutral               95\n",
      "Disagree              94\n",
      "NaN                   94\n",
      "Strongly Disagree     52\n",
      "Not Applicable         6\n",
      "Name: WorkUnitViews. Topic:21. I was able to use the full range of my abilities in my job. ; Category:Level of Agreement; Question:YOUR VIEWS ABOUT YOUR WORK UNIT], dtype: int64\n",
      "\n",
      "\n",
      "----------------------------------------------------------------------\n",
      "WORKUNITVIEWS. TOPIC:22. I WAS ABLE TO USE THE FULL RANGE OF MY KNOWLEDGE IN MY JOB\n",
      "Agree                237\n",
      "Strongly Agree       137\n",
      "NaN                   94\n",
      "Neutral               93\n",
      "Disagree              84\n",
      "Strongly Disagree     51\n",
      "Not Applicable         6\n",
      "Name: WorkUnitViews. Topic:22. I was able to use the full range of my knowledge in my job, dtype: int64\n",
      "\n",
      "\n",
      "----------------------------------------------------------------------\n",
      "WORKUNITVIEWS. TOPIC:23. MY JOB PROVIDED SUFFICIENT VARIETY\n",
      "Agree                296\n",
      "Strongly Agree       134\n",
      "Neutral               99\n",
      "NaN                   91\n",
      "Disagree              45\n",
      "Strongly Disagree     30\n",
      "Not Applicable         7\n",
      "Name: WorkUnitViews. Topic:23. My job provided sufficient variety, dtype: int64\n",
      "\n",
      "\n",
      "----------------------------------------------------------------------\n",
      "WORKUNITVIEWS. TOPIC:24. I WAS ABLE TO COPE WITH THE LEVEL OF STRESS AND PRESSURE IN MY JOB\n",
      "Agree                298\n",
      "Strongly Agree       148\n",
      "NaN                   92\n",
      "Neutral               91\n",
      "Disagree              45\n",
      "Strongly Disagree     22\n",
      "Not Applicable         6\n",
      "Name: WorkUnitViews. Topic:24. I was able to cope with the level of stress and pressure in my job, dtype: int64\n",
      "\n",
      "\n",
      "----------------------------------------------------------------------\n",
      "WORKUNITVIEWS. TOPIC:25. MY JOB ALLOWED ME TO BALANCE THE DEMANDS OF WORK AND FAMILY TO MY SATISFACTION\n",
      "Agree                290\n",
      "Strongly Agree       141\n",
      "Neutral               93\n",
      "NaN                   91\n",
      "Disagree              53\n",
      "Strongly Disagree     29\n",
      "Not Applicable         5\n",
      "Name: WorkUnitViews. Topic:25. My job allowed me to balance the demands of work and family to my satisfaction, dtype: int64\n",
      "\n",
      "\n",
      "----------------------------------------------------------------------\n",
      "WORKUNITVIEWS. TOPIC:26. MY SUPERVISOR GAVE ME ADEQUATE PERSONAL RECOGNITION AND FEEDBACK ON MY PERFORMANCE\n",
      "Agree                231\n",
      "Strongly Agree       156\n",
      "Neutral               99\n",
      "NaN                   96\n",
      "Disagree              60\n",
      "Strongly Disagree     54\n",
      "Not Applicable         6\n",
      "Name: WorkUnitViews. Topic:26. My supervisor gave me adequate personal recognition and feedback on my performance, dtype: int64\n",
      "\n",
      "\n",
      "----------------------------------------------------------------------\n",
      "WORKUNITVIEWS. TOPIC:27. MY WORKING ENVIRONMENT WAS SATISFACTORY E.G. SUFFICIENT SPACE, GOOD LIGHTING, SUITABLE SEATING AND WORKING AREA\n",
      "Agree                269\n",
      "Strongly Agree       165\n",
      "NaN                   92\n",
      "Neutral               77\n",
      "Disagree              67\n",
      "Strongly Disagree     27\n",
      "Not Applicable         5\n",
      "Name: WorkUnitViews. Topic:27. My working environment was satisfactory e.g. sufficient space, good lighting, suitable seating and working area, dtype: int64\n",
      "\n",
      "\n",
      "----------------------------------------------------------------------\n",
      "WORKUNITVIEWS. TOPIC:28. I WAS GIVEN THE OPPORTUNITY TO MENTOR AND COACH OTHERS IN ORDER FOR ME TO PASS ON MY SKILLS AND KNOWLEDGE PRIOR TO MY CESSATION DATE\n",
      "Agree                234\n",
      "Neutral              125\n",
      "NaN                   93\n",
      "Strongly Agree        87\n",
      "Disagree              74\n",
      "Strongly Disagree     46\n",
      "Not Applicable        43\n",
      "Name: WorkUnitViews. Topic:28. I was given the opportunity to mentor and coach others in order for me to pass on my skills and knowledge prior to my cessation date, dtype: int64\n",
      "\n",
      "\n",
      "----------------------------------------------------------------------\n",
      "WORKUNITVIEWS. TOPIC:29. THERE WAS ADEQUATE COMMUNICATION BETWEEN STAFF IN MY UNIT\n",
      "Agree                300\n",
      "Strongly Agree       157\n",
      "NaN                   99\n",
      "Neutral               63\n",
      "Disagree              40\n",
      "Strongly Disagree     36\n",
      "Not Applicable         7\n",
      "Name: WorkUnitViews. Topic:29. There was adequate communication between staff in my unit, dtype: int64\n",
      "\n",
      "\n",
      "----------------------------------------------------------------------\n",
      "WORKUNITVIEWS. TOPIC:30. STAFF MORALE WAS POSITIVE WITHIN MY WORK UNIT\n",
      "Agree                236\n",
      "Neutral              119\n",
      "Strongly Agree       104\n",
      "NaN                   96\n",
      "Strongly Disagree     70\n",
      "Disagree              69\n",
      "Not Applicable         8\n",
      "Name: WorkUnitViews. Topic:30. Staff morale was positive within my work unit, dtype: int64\n",
      "\n",
      "\n",
      "----------------------------------------------------------------------\n",
      "INDUCTION. DID YOU UNDERTAKE WORKPLACE INDUCTION?\n",
      "Yes    541\n",
      "NaN     83\n",
      "No      78\n",
      "Name: Induction. Did you undertake Workplace Induction?, dtype: int64\n",
      "\n",
      "\n",
      "----------------------------------------------------------------------\n",
      "INDUCTIONINFO. TOPIC:DID YOU UNDERTAKE A CORPORATE INDUCTION?\n",
      "NaN    270\n",
      "Yes    232\n",
      "No     200\n",
      "Name: InductionInfo. Topic:Did you undertake a Corporate Induction?, dtype: int64\n",
      "\n",
      "\n",
      "----------------------------------------------------------------------\n",
      "INDUCTIONINFO. TOPIC:DID YOU UNDERTAKE A INSTITUTE INDUCTION?\n",
      "Yes    441\n",
      "NaN    219\n",
      "No      42\n",
      "Name: InductionInfo. Topic:Did you undertake a Institute Induction?, dtype: int64\n",
      "\n",
      "\n",
      "----------------------------------------------------------------------\n",
      "INDUCTIONINFO. TOPIC: DID YOU UNDERTAKE TEAM INDUCTION?\n",
      "Yes    285\n",
      "NaN    262\n",
      "No     155\n",
      "Name: InductionInfo. Topic: Did you undertake Team Induction?, dtype: int64\n",
      "\n",
      "\n",
      "----------------------------------------------------------------------\n",
      "INDUCTIONINFO. FACE TO FACE TOPIC:DID YOU UNDERTAKE A CORPORATE INDUCTION; CATEGORY:HOW IT WAS CONDUCTED?\n",
      "-               412\n",
      "NaN             147\n",
      "Face to Face    143\n",
      "Name: InductionInfo. Face to Face Topic:Did you undertake a Corporate Induction; Category:How it was conducted?, dtype: int64\n",
      "\n",
      "\n",
      "----------------------------------------------------------------------\n",
      "INDUCTIONINFO. ON-LINE TOPIC:DID YOU UNDERTAKE A CORPORATE INDUCTION; CATEGORY:HOW IT WAS CONDUCTED?\n",
      "-          502\n",
      "NaN        147\n",
      "On-line     53\n",
      "Name: InductionInfo. On-line Topic:Did you undertake a Corporate Induction; Category:How it was conducted?, dtype: int64\n",
      "\n",
      "\n",
      "----------------------------------------------------------------------\n",
      "INDUCTIONINFO. INDUCTION MANUAL TOPIC:DID YOU UNDERTAKE A CORPORATE INDUCTION?\n",
      "-                   539\n",
      "NaN                 147\n",
      "Induction Manual     16\n",
      "Name: InductionInfo. Induction Manual Topic:Did you undertake a Corporate Induction?, dtype: int64\n",
      "\n",
      "\n",
      "----------------------------------------------------------------------\n",
      "INDUCTIONINFO. FACE TO FACE TOPIC:DID YOU UNDERTAKE A INSTITUTE INDUCTION?\n",
      "-               270\n",
      "Face to Face    260\n",
      "NaN             172\n",
      "Name: InductionInfo. Face to Face Topic:Did you undertake a Institute Induction?, dtype: int64\n",
      "\n",
      "\n",
      "----------------------------------------------------------------------\n",
      "INDUCTIONINFO. ON-LINE TOPIC:DID YOU UNDERTAKE A INSTITUTE INDUCTION?\n",
      "-          473\n",
      "NaN        147\n",
      "On-line     82\n",
      "Name: InductionInfo. On-line Topic:Did you undertake a Institute Induction?, dtype: int64\n",
      "\n",
      "\n",
      "----------------------------------------------------------------------\n",
      "INDUCTIONINFO. INDUCTION MANUAL TOPIC:DID YOU UNDERTAKE A INSTITUTE INDUCTION?\n",
      "-                   518\n",
      "NaN                 149\n",
      "Induction Manual     35\n",
      "Name: InductionInfo. Induction Manual Topic:Did you undertake a Institute Induction?, dtype: int64\n",
      "\n",
      "\n",
      "----------------------------------------------------------------------\n",
      "INDUCTIONINFO. FACE TO FACE TOPIC: DID YOU UNDERTAKE TEAM INDUCTION; CATEGORY?\n",
      "-               366\n",
      "Face to Face    189\n",
      "NaN             147\n",
      "Name: InductionInfo. Face to Face Topic: Did you undertake Team Induction; Category?, dtype: int64\n",
      "\n",
      "\n",
      "----------------------------------------------------------------------\n",
      "INDUCTIONINFO. ON-LINE TOPIC: DID YOU UNDERTAKE TEAM INDUCTION?PROCESS YOU UNDERTOOK AND HOW IT WAS CONDUCTED.]\n",
      "-      555\n",
      "NaN    147\n",
      "Name: InductionInfo. On-line Topic: Did you undertake Team Induction?process you undertook and how it was conducted.], dtype: int64\n",
      "\n",
      "\n",
      "----------------------------------------------------------------------\n",
      "INDUCTIONINFO. INDUCTION MANUAL TOPIC: DID YOU UNDERTAKE TEAM INDUCTION?\n",
      "-                   541\n",
      "NaN                 147\n",
      "Induction Manual     14\n",
      "Name: InductionInfo. Induction Manual Topic: Did you undertake Team Induction?, dtype: int64\n",
      "\n",
      "\n",
      "----------------------------------------------------------------------\n",
      "WORKPLACE. TOPIC:DID YOU AND YOUR MANAGER DEVELOP A PERFORMANCE AND PROFESSIONAL DEVELOPMENT PLAN (PPDP)?\n",
      "Yes    382\n",
      "No     226\n",
      "NaN     94\n",
      "Name: Workplace. Topic:Did you and your Manager develop a Performance and Professional Development Plan (PPDP)?, dtype: int64\n",
      "\n",
      "\n",
      "----------------------------------------------------------------------\n",
      "WORKPLACE. TOPIC:DOES YOUR WORKPLACE PROMOTE A WORK CULTURE FREE FROM ALL FORMS OF UNLAWFUL DISCRIMINATION?\n",
      "Yes    536\n",
      "NaN    108\n",
      "No      58\n",
      "Name: Workplace. Topic:Does your workplace promote a work culture free from all forms of unlawful discrimination?, dtype: int64\n",
      "\n",
      "\n",
      "----------------------------------------------------------------------\n",
      "WORKPLACE. TOPIC:DOES YOUR WORKPLACE PROMOTE AND PRACTICE THE PRINCIPLES OF EMPLOYMENT EQUITY?\n",
      "Yes    512\n",
      "NaN    115\n",
      "No      75\n",
      "Name: Workplace. Topic:Does your workplace promote and practice the principles of employment equity?, dtype: int64\n",
      "\n",
      "\n",
      "----------------------------------------------------------------------\n",
      "WORKPLACE. TOPIC:DOES YOUR WORKPLACE VALUE THE DIVERSITY OF ITS EMPLOYEES?\n",
      "Yes    488\n",
      "NaN    116\n",
      "No      98\n",
      "Name: Workplace. Topic:Does your workplace value the diversity of its employees?, dtype: int64\n",
      "\n",
      "\n",
      "----------------------------------------------------------------------\n",
      "WORKPLACE. TOPIC:WOULD YOU RECOMMEND THE INSTITUTE AS AN EMPLOYER TO OTHERS?\n",
      "Yes    416\n",
      "No     165\n",
      "NaN    121\n",
      "Name: Workplace. Topic:Would you recommend the Institute as an employer to others?, dtype: int64\n",
      "\n",
      "\n",
      "----------------------------------------------------------------------\n",
      "GENDER. WHAT IS YOUR GENDER?\n",
      "Female    389\n",
      "Male      207\n",
      "NaN       106\n",
      "Name: Gender. What is your Gender?, dtype: int64\n",
      "\n",
      "\n",
      "----------------------------------------------------------------------\n",
      "CURRENTAGE. CURRENT AGE\n",
      "56 or older      162\n",
      "NaN              106\n",
      "51-55             82\n",
      "41  45            80\n",
      "46  50            59\n",
      "31  35            52\n",
      "36  40            51\n",
      "26  30            50\n",
      "21  25            44\n",
      "20 or younger     16\n",
      "Name: CurrentAge. Current Age, dtype: int64\n",
      "\n",
      "\n",
      "----------------------------------------------------------------------\n",
      "EMPLOYMENT TYPE. EMPLOYMENT TYPE\n",
      "Permanent Full-time    237\n",
      "Temporary Full-time    177\n",
      "NaN                    106\n",
      "Contract/casual         71\n",
      "Permanent Part-time     59\n",
      "Temporary Part-time     52\n",
      "Name: Employment Type. Employment Type, dtype: int64\n",
      "\n",
      "\n",
      "----------------------------------------------------------------------\n",
      "CLASSIFICATION. CLASSIFICATION\n",
      "Administration (AO)           293\n",
      "Teacher (including LVT)       201\n",
      "NaN                           106\n",
      "Professional Officer (PO)      33\n",
      "Operational (OO)               24\n",
      "Tutor                          16\n",
      "Workplace Training Officer     11\n",
      "Technical Officer (TO)         10\n",
      "Executive (SES/SO)              6\n",
      "Apprentice                      2\n",
      "Name: Classification. Classification, dtype: int64\n",
      "\n",
      "\n",
      "----------------------------------------------------------------------\n",
      "LENGTHOFSERVICEOVERALL. OVERALL LENGTH OF SERVICE AT INSTITUTE (IN YEARS)\n",
      "Less than 1 year      147\n",
      "NaN                   106\n",
      "1-2                   102\n",
      "3-4                    96\n",
      "11-20                  89\n",
      "More than 20 years     71\n",
      "5-6                    48\n",
      "7-10                   43\n",
      "Name: LengthofServiceOverall. Overall Length of Service at Institute (in years), dtype: int64\n",
      "\n",
      "\n",
      "----------------------------------------------------------------------\n",
      "LENGTHOFSERVICECURRENT. LENGTH OF SERVICE AT CURRENT WORKPLACE (IN YEARS)\n",
      "Less than 1 year      177\n",
      "1-2                   113\n",
      "NaN                   106\n",
      "3-4                    86\n",
      "11-20                  82\n",
      "More than 20 years     54\n",
      "7-10                   44\n",
      "5-6                    40\n",
      "Name: LengthofServiceCurrent. Length of Service at current workplace (in years), dtype: int64\n"
     ]
    }
   ],
   "source": [
    "#tafe dataset for columns with  null values\n",
    "tafe_columns = tafe_survey.columns\n",
    "\n",
    "halfpercent_data = (50/100) * tafe_survey.shape[0]\n",
    "#we will not process column with more 50 %null values, due to it will not give any clue for analyze\n",
    "#we also don't use data dtypes boolean because they don't have null values and just have 2 classification\n",
    "for c in tafe_columns:\n",
    "    if (tafe_survey[c].isnull().sum() > halfpercent_data) or (tafe_survey[c].dtypes == 'float64') or (tafe_survey[c].isnull().sum() == 0) or (tafe_survey[c].dtypes == 'bool'):\n",
    "        pass\n",
    "    else:\n",
    "        print('\\n')\n",
    "        print('-'*70)\n",
    "        print(c.upper())\n",
    "        print(tafe_survey[c].value_counts(dropna=False))"
   ]
  },
  {
   "cell_type": "markdown",
   "metadata": {},
   "source": [
    "1. tafe dataset have columns that same meaning as columns in date dataset, but with different name\n",
    "2. there are multiple columns in tafe dan date dataset that indicated employee resigned because they were disssatisified"
   ]
  },
  {
   "cell_type": "markdown",
   "metadata": {},
   "source": [
    "### solve \"not stated\""
   ]
  },
  {
   "cell_type": "code",
   "execution_count": 12,
   "metadata": {
    "collapsed": true
   },
   "outputs": [],
   "source": [
    "#change na_values\n",
    "\n",
    "dete_survey = pd.read_csv('dete_survey.csv',na_values = 'Not Stated')"
   ]
  },
  {
   "cell_type": "code",
   "execution_count": 13,
   "metadata": {
    "collapsed": true
   },
   "outputs": [],
   "source": [
    "#drop columns in both dataset\n",
    "dete_survey_updated = dete_survey.drop(dete_survey.columns[28:49], axis=1)\n",
    "\n",
    "tafe_survey_updated = tafe_survey.drop(tafe_survey.columns[17:66], axis=1)"
   ]
  },
  {
   "cell_type": "markdown",
   "metadata": {},
   "source": [
    "we drop many columns for many reasons:\n",
    "1. there are many columns which is have 70-80 % null values\n",
    "2. many columns have no connection about dissatified feeling in dataset\n"
   ]
  },
  {
   "cell_type": "markdown",
   "metadata": {},
   "source": [
    "### change name columns\n"
   ]
  },
  {
   "cell_type": "markdown",
   "metadata": {},
   "source": [
    "for this section, we change columns in both tafe and date dataset. In addition to make columns name easy to write and remember when we doing analysis, also we should change it and make it have same columns name in both of 2 dataset because we will merge that dataset"
   ]
  },
  {
   "cell_type": "code",
   "execution_count": 14,
   "metadata": {
    "collapsed": true
   },
   "outputs": [],
   "source": [
    "#replace name columns in dete_survey\n",
    "dete_survey_updated.columns = dete_survey_updated.columns.str.lower().str.strip().str.replace(' ','_')\n"
   ]
  },
  {
   "cell_type": "code",
   "execution_count": 15,
   "metadata": {
    "collapsed": false
   },
   "outputs": [],
   "source": [
    "#change name columns in tafe survey\n",
    "tafe_new_columns_name = {'Record ID': 'id', 'CESSATION YEAR': 'cease_date',\n",
    "                        'Reason for ceasing employment': 'separationtype',\n",
    "                        'Gender. What is your Gender?': 'gender',\n",
    "                        'CurrentAge': 'age',\n",
    "                        'Employment Type. Employment Type': 'employment_status',\n",
    "                        'Classification. Classification': 'position',\n",
    "                        'LengthofServiceOverall. Overall Length of Service at Institute (in years)': 'institute_service',\n",
    "                        'LengthofServiceCurrent. Length of Service at current workplace (in years)': 'role_service'}\n",
    "\n",
    "tafe_survey_updated = tafe_survey_updated.rename(columns = tafe_new_columns_name)"
   ]
  },
  {
   "cell_type": "code",
   "execution_count": 16,
   "metadata": {
    "collapsed": false
   },
   "outputs": [
    {
     "data": {
      "text/html": [
       "<div>\n",
       "<style scoped>\n",
       "    .dataframe tbody tr th:only-of-type {\n",
       "        vertical-align: middle;\n",
       "    }\n",
       "\n",
       "    .dataframe tbody tr th {\n",
       "        vertical-align: top;\n",
       "    }\n",
       "\n",
       "    .dataframe thead th {\n",
       "        text-align: right;\n",
       "    }\n",
       "</style>\n",
       "<table border=\"1\" class=\"dataframe\">\n",
       "  <thead>\n",
       "    <tr style=\"text-align: right;\">\n",
       "      <th></th>\n",
       "      <th>id</th>\n",
       "      <th>separationtype</th>\n",
       "      <th>cease_date</th>\n",
       "      <th>dete_start_date</th>\n",
       "      <th>role_start_date</th>\n",
       "      <th>position</th>\n",
       "      <th>classification</th>\n",
       "      <th>region</th>\n",
       "      <th>business_unit</th>\n",
       "      <th>employment_status</th>\n",
       "      <th>...</th>\n",
       "      <th>work_life_balance</th>\n",
       "      <th>workload</th>\n",
       "      <th>none_of_the_above</th>\n",
       "      <th>gender</th>\n",
       "      <th>age</th>\n",
       "      <th>aboriginal</th>\n",
       "      <th>torres_strait</th>\n",
       "      <th>south_sea</th>\n",
       "      <th>disability</th>\n",
       "      <th>nesb</th>\n",
       "    </tr>\n",
       "  </thead>\n",
       "  <tbody>\n",
       "    <tr>\n",
       "      <th>0</th>\n",
       "      <td>1</td>\n",
       "      <td>Ill Health Retirement</td>\n",
       "      <td>08/2012</td>\n",
       "      <td>1984.0</td>\n",
       "      <td>2004.0</td>\n",
       "      <td>Public Servant</td>\n",
       "      <td>A01-A04</td>\n",
       "      <td>Central Office</td>\n",
       "      <td>Corporate Strategy and Peformance</td>\n",
       "      <td>Permanent Full-time</td>\n",
       "      <td>...</td>\n",
       "      <td>False</td>\n",
       "      <td>False</td>\n",
       "      <td>True</td>\n",
       "      <td>Male</td>\n",
       "      <td>56-60</td>\n",
       "      <td>NaN</td>\n",
       "      <td>NaN</td>\n",
       "      <td>NaN</td>\n",
       "      <td>NaN</td>\n",
       "      <td>Yes</td>\n",
       "    </tr>\n",
       "    <tr>\n",
       "      <th>1</th>\n",
       "      <td>2</td>\n",
       "      <td>Voluntary Early Retirement (VER)</td>\n",
       "      <td>08/2012</td>\n",
       "      <td>NaN</td>\n",
       "      <td>NaN</td>\n",
       "      <td>Public Servant</td>\n",
       "      <td>AO5-AO7</td>\n",
       "      <td>Central Office</td>\n",
       "      <td>Corporate Strategy and Peformance</td>\n",
       "      <td>Permanent Full-time</td>\n",
       "      <td>...</td>\n",
       "      <td>False</td>\n",
       "      <td>False</td>\n",
       "      <td>False</td>\n",
       "      <td>Male</td>\n",
       "      <td>56-60</td>\n",
       "      <td>NaN</td>\n",
       "      <td>NaN</td>\n",
       "      <td>NaN</td>\n",
       "      <td>NaN</td>\n",
       "      <td>NaN</td>\n",
       "    </tr>\n",
       "    <tr>\n",
       "      <th>2</th>\n",
       "      <td>3</td>\n",
       "      <td>Voluntary Early Retirement (VER)</td>\n",
       "      <td>05/2012</td>\n",
       "      <td>2011.0</td>\n",
       "      <td>2011.0</td>\n",
       "      <td>Schools Officer</td>\n",
       "      <td>NaN</td>\n",
       "      <td>Central Office</td>\n",
       "      <td>Education Queensland</td>\n",
       "      <td>Permanent Full-time</td>\n",
       "      <td>...</td>\n",
       "      <td>False</td>\n",
       "      <td>False</td>\n",
       "      <td>True</td>\n",
       "      <td>Male</td>\n",
       "      <td>61 or older</td>\n",
       "      <td>NaN</td>\n",
       "      <td>NaN</td>\n",
       "      <td>NaN</td>\n",
       "      <td>NaN</td>\n",
       "      <td>NaN</td>\n",
       "    </tr>\n",
       "    <tr>\n",
       "      <th>3</th>\n",
       "      <td>4</td>\n",
       "      <td>Resignation-Other reasons</td>\n",
       "      <td>05/2012</td>\n",
       "      <td>2005.0</td>\n",
       "      <td>2006.0</td>\n",
       "      <td>Teacher</td>\n",
       "      <td>Primary</td>\n",
       "      <td>Central Queensland</td>\n",
       "      <td>NaN</td>\n",
       "      <td>Permanent Full-time</td>\n",
       "      <td>...</td>\n",
       "      <td>False</td>\n",
       "      <td>False</td>\n",
       "      <td>False</td>\n",
       "      <td>Female</td>\n",
       "      <td>36-40</td>\n",
       "      <td>NaN</td>\n",
       "      <td>NaN</td>\n",
       "      <td>NaN</td>\n",
       "      <td>NaN</td>\n",
       "      <td>NaN</td>\n",
       "    </tr>\n",
       "    <tr>\n",
       "      <th>4</th>\n",
       "      <td>5</td>\n",
       "      <td>Age Retirement</td>\n",
       "      <td>05/2012</td>\n",
       "      <td>1970.0</td>\n",
       "      <td>1989.0</td>\n",
       "      <td>Head of Curriculum/Head of Special Education</td>\n",
       "      <td>NaN</td>\n",
       "      <td>South East</td>\n",
       "      <td>NaN</td>\n",
       "      <td>Permanent Full-time</td>\n",
       "      <td>...</td>\n",
       "      <td>True</td>\n",
       "      <td>False</td>\n",
       "      <td>False</td>\n",
       "      <td>Female</td>\n",
       "      <td>61 or older</td>\n",
       "      <td>NaN</td>\n",
       "      <td>NaN</td>\n",
       "      <td>NaN</td>\n",
       "      <td>NaN</td>\n",
       "      <td>NaN</td>\n",
       "    </tr>\n",
       "  </tbody>\n",
       "</table>\n",
       "<p>5 rows × 35 columns</p>\n",
       "</div>"
      ],
      "text/plain": [
       "   id                    separationtype cease_date  dete_start_date  \\\n",
       "0   1             Ill Health Retirement    08/2012           1984.0   \n",
       "1   2  Voluntary Early Retirement (VER)    08/2012              NaN   \n",
       "2   3  Voluntary Early Retirement (VER)    05/2012           2011.0   \n",
       "3   4         Resignation-Other reasons    05/2012           2005.0   \n",
       "4   5                    Age Retirement    05/2012           1970.0   \n",
       "\n",
       "   role_start_date                                      position  \\\n",
       "0           2004.0                                Public Servant   \n",
       "1              NaN                                Public Servant   \n",
       "2           2011.0                               Schools Officer   \n",
       "3           2006.0                                       Teacher   \n",
       "4           1989.0  Head of Curriculum/Head of Special Education   \n",
       "\n",
       "  classification              region                      business_unit  \\\n",
       "0        A01-A04      Central Office  Corporate Strategy and Peformance   \n",
       "1        AO5-AO7      Central Office  Corporate Strategy and Peformance   \n",
       "2            NaN      Central Office               Education Queensland   \n",
       "3        Primary  Central Queensland                                NaN   \n",
       "4            NaN          South East                                NaN   \n",
       "\n",
       "     employment_status  ...   work_life_balance  workload  none_of_the_above  \\\n",
       "0  Permanent Full-time  ...               False     False               True   \n",
       "1  Permanent Full-time  ...               False     False              False   \n",
       "2  Permanent Full-time  ...               False     False               True   \n",
       "3  Permanent Full-time  ...               False     False              False   \n",
       "4  Permanent Full-time  ...                True     False              False   \n",
       "\n",
       "   gender          age  aboriginal  torres_strait  south_sea  disability  nesb  \n",
       "0    Male        56-60         NaN            NaN        NaN         NaN   Yes  \n",
       "1    Male        56-60         NaN            NaN        NaN         NaN   NaN  \n",
       "2    Male  61 or older         NaN            NaN        NaN         NaN   NaN  \n",
       "3  Female        36-40         NaN            NaN        NaN         NaN   NaN  \n",
       "4  Female  61 or older         NaN            NaN        NaN         NaN   NaN  \n",
       "\n",
       "[5 rows x 35 columns]"
      ]
     },
     "execution_count": 16,
     "metadata": {},
     "output_type": "execute_result"
    }
   ],
   "source": [
    "#check the data\n",
    "dete_survey_updated.head()"
   ]
  },
  {
   "cell_type": "code",
   "execution_count": 17,
   "metadata": {
    "collapsed": false
   },
   "outputs": [
    {
     "data": {
      "text/html": [
       "<div>\n",
       "<style scoped>\n",
       "    .dataframe tbody tr th:only-of-type {\n",
       "        vertical-align: middle;\n",
       "    }\n",
       "\n",
       "    .dataframe tbody tr th {\n",
       "        vertical-align: top;\n",
       "    }\n",
       "\n",
       "    .dataframe thead th {\n",
       "        text-align: right;\n",
       "    }\n",
       "</style>\n",
       "<table border=\"1\" class=\"dataframe\">\n",
       "  <thead>\n",
       "    <tr style=\"text-align: right;\">\n",
       "      <th></th>\n",
       "      <th>id</th>\n",
       "      <th>Institute</th>\n",
       "      <th>WorkArea</th>\n",
       "      <th>cease_date</th>\n",
       "      <th>separationtype</th>\n",
       "      <th>Contributing Factors. Career Move - Public Sector</th>\n",
       "      <th>Contributing Factors. Career Move - Private Sector</th>\n",
       "      <th>Contributing Factors. Career Move - Self-employment</th>\n",
       "      <th>Contributing Factors. Ill Health</th>\n",
       "      <th>Contributing Factors. Maternity/Family</th>\n",
       "      <th>...</th>\n",
       "      <th>Contributing Factors. Study</th>\n",
       "      <th>Contributing Factors. Travel</th>\n",
       "      <th>Contributing Factors. Other</th>\n",
       "      <th>Contributing Factors. NONE</th>\n",
       "      <th>gender</th>\n",
       "      <th>CurrentAge. Current Age</th>\n",
       "      <th>employment_status</th>\n",
       "      <th>position</th>\n",
       "      <th>institute_service</th>\n",
       "      <th>role_service</th>\n",
       "    </tr>\n",
       "  </thead>\n",
       "  <tbody>\n",
       "    <tr>\n",
       "      <th>0</th>\n",
       "      <td>6.341330e+17</td>\n",
       "      <td>Southern Queensland Institute of TAFE</td>\n",
       "      <td>Non-Delivery (corporate)</td>\n",
       "      <td>2010.0</td>\n",
       "      <td>Contract Expired</td>\n",
       "      <td>NaN</td>\n",
       "      <td>NaN</td>\n",
       "      <td>NaN</td>\n",
       "      <td>NaN</td>\n",
       "      <td>NaN</td>\n",
       "      <td>...</td>\n",
       "      <td>NaN</td>\n",
       "      <td>NaN</td>\n",
       "      <td>NaN</td>\n",
       "      <td>NaN</td>\n",
       "      <td>Female</td>\n",
       "      <td>26  30</td>\n",
       "      <td>Temporary Full-time</td>\n",
       "      <td>Administration (AO)</td>\n",
       "      <td>1-2</td>\n",
       "      <td>1-2</td>\n",
       "    </tr>\n",
       "    <tr>\n",
       "      <th>1</th>\n",
       "      <td>6.341337e+17</td>\n",
       "      <td>Mount Isa Institute of TAFE</td>\n",
       "      <td>Non-Delivery (corporate)</td>\n",
       "      <td>2010.0</td>\n",
       "      <td>Retirement</td>\n",
       "      <td>-</td>\n",
       "      <td>-</td>\n",
       "      <td>-</td>\n",
       "      <td>-</td>\n",
       "      <td>-</td>\n",
       "      <td>...</td>\n",
       "      <td>-</td>\n",
       "      <td>Travel</td>\n",
       "      <td>-</td>\n",
       "      <td>-</td>\n",
       "      <td>NaN</td>\n",
       "      <td>NaN</td>\n",
       "      <td>NaN</td>\n",
       "      <td>NaN</td>\n",
       "      <td>NaN</td>\n",
       "      <td>NaN</td>\n",
       "    </tr>\n",
       "    <tr>\n",
       "      <th>2</th>\n",
       "      <td>6.341388e+17</td>\n",
       "      <td>Mount Isa Institute of TAFE</td>\n",
       "      <td>Delivery (teaching)</td>\n",
       "      <td>2010.0</td>\n",
       "      <td>Retirement</td>\n",
       "      <td>-</td>\n",
       "      <td>-</td>\n",
       "      <td>-</td>\n",
       "      <td>-</td>\n",
       "      <td>-</td>\n",
       "      <td>...</td>\n",
       "      <td>-</td>\n",
       "      <td>-</td>\n",
       "      <td>-</td>\n",
       "      <td>NONE</td>\n",
       "      <td>NaN</td>\n",
       "      <td>NaN</td>\n",
       "      <td>NaN</td>\n",
       "      <td>NaN</td>\n",
       "      <td>NaN</td>\n",
       "      <td>NaN</td>\n",
       "    </tr>\n",
       "    <tr>\n",
       "      <th>3</th>\n",
       "      <td>6.341399e+17</td>\n",
       "      <td>Mount Isa Institute of TAFE</td>\n",
       "      <td>Non-Delivery (corporate)</td>\n",
       "      <td>2010.0</td>\n",
       "      <td>Resignation</td>\n",
       "      <td>-</td>\n",
       "      <td>-</td>\n",
       "      <td>-</td>\n",
       "      <td>-</td>\n",
       "      <td>-</td>\n",
       "      <td>...</td>\n",
       "      <td>-</td>\n",
       "      <td>Travel</td>\n",
       "      <td>-</td>\n",
       "      <td>-</td>\n",
       "      <td>NaN</td>\n",
       "      <td>NaN</td>\n",
       "      <td>NaN</td>\n",
       "      <td>NaN</td>\n",
       "      <td>NaN</td>\n",
       "      <td>NaN</td>\n",
       "    </tr>\n",
       "    <tr>\n",
       "      <th>4</th>\n",
       "      <td>6.341466e+17</td>\n",
       "      <td>Southern Queensland Institute of TAFE</td>\n",
       "      <td>Delivery (teaching)</td>\n",
       "      <td>2010.0</td>\n",
       "      <td>Resignation</td>\n",
       "      <td>-</td>\n",
       "      <td>Career Move - Private Sector</td>\n",
       "      <td>-</td>\n",
       "      <td>-</td>\n",
       "      <td>-</td>\n",
       "      <td>...</td>\n",
       "      <td>-</td>\n",
       "      <td>-</td>\n",
       "      <td>-</td>\n",
       "      <td>-</td>\n",
       "      <td>Male</td>\n",
       "      <td>41  45</td>\n",
       "      <td>Permanent Full-time</td>\n",
       "      <td>Teacher (including LVT)</td>\n",
       "      <td>3-4</td>\n",
       "      <td>3-4</td>\n",
       "    </tr>\n",
       "  </tbody>\n",
       "</table>\n",
       "<p>5 rows × 23 columns</p>\n",
       "</div>"
      ],
      "text/plain": [
       "             id                              Institute  \\\n",
       "0  6.341330e+17  Southern Queensland Institute of TAFE   \n",
       "1  6.341337e+17            Mount Isa Institute of TAFE   \n",
       "2  6.341388e+17            Mount Isa Institute of TAFE   \n",
       "3  6.341399e+17            Mount Isa Institute of TAFE   \n",
       "4  6.341466e+17  Southern Queensland Institute of TAFE   \n",
       "\n",
       "                   WorkArea  cease_date    separationtype  \\\n",
       "0  Non-Delivery (corporate)      2010.0  Contract Expired   \n",
       "1  Non-Delivery (corporate)      2010.0        Retirement   \n",
       "2       Delivery (teaching)      2010.0        Retirement   \n",
       "3  Non-Delivery (corporate)      2010.0       Resignation   \n",
       "4       Delivery (teaching)      2010.0       Resignation   \n",
       "\n",
       "  Contributing Factors. Career Move - Public Sector   \\\n",
       "0                                                NaN   \n",
       "1                                                  -   \n",
       "2                                                  -   \n",
       "3                                                  -   \n",
       "4                                                  -   \n",
       "\n",
       "  Contributing Factors. Career Move - Private Sector   \\\n",
       "0                                                NaN    \n",
       "1                                                  -    \n",
       "2                                                  -    \n",
       "3                                                  -    \n",
       "4                       Career Move - Private Sector    \n",
       "\n",
       "  Contributing Factors. Career Move - Self-employment  \\\n",
       "0                                                NaN    \n",
       "1                                                  -    \n",
       "2                                                  -    \n",
       "3                                                  -    \n",
       "4                                                  -    \n",
       "\n",
       "  Contributing Factors. Ill Health Contributing Factors. Maternity/Family  \\\n",
       "0                              NaN                                    NaN   \n",
       "1                                -                                      -   \n",
       "2                                -                                      -   \n",
       "3                                -                                      -   \n",
       "4                                -                                      -   \n",
       "\n",
       "      ...      Contributing Factors. Study Contributing Factors. Travel  \\\n",
       "0     ...                              NaN                          NaN   \n",
       "1     ...                                -                       Travel   \n",
       "2     ...                                -                            -   \n",
       "3     ...                                -                       Travel   \n",
       "4     ...                                -                            -   \n",
       "\n",
       "  Contributing Factors. Other Contributing Factors. NONE  gender  \\\n",
       "0                         NaN                        NaN  Female   \n",
       "1                           -                          -     NaN   \n",
       "2                           -                       NONE     NaN   \n",
       "3                           -                          -     NaN   \n",
       "4                           -                          -    Male   \n",
       "\n",
       "  CurrentAge. Current Age    employment_status                 position  \\\n",
       "0                  26  30  Temporary Full-time      Administration (AO)   \n",
       "1                     NaN                  NaN                      NaN   \n",
       "2                     NaN                  NaN                      NaN   \n",
       "3                     NaN                  NaN                      NaN   \n",
       "4                  41  45  Permanent Full-time  Teacher (including LVT)   \n",
       "\n",
       "  institute_service role_service  \n",
       "0               1-2          1-2  \n",
       "1               NaN          NaN  \n",
       "2               NaN          NaN  \n",
       "3               NaN          NaN  \n",
       "4               3-4          3-4  \n",
       "\n",
       "[5 rows x 23 columns]"
      ]
     },
     "execution_count": 17,
     "metadata": {},
     "output_type": "execute_result"
    }
   ],
   "source": [
    "tafe_survey_updated.head()"
   ]
  },
  {
   "cell_type": "markdown",
   "metadata": {},
   "source": [
    "### analyze separationtype columns"
   ]
  },
  {
   "cell_type": "code",
   "execution_count": 18,
   "metadata": {
    "collapsed": false
   },
   "outputs": [
    {
     "data": {
      "text/plain": [
       "Age Retirement                          285\n",
       "Resignation-Other reasons               150\n",
       "Resignation-Other employer               91\n",
       "Resignation-Move overseas/interstate     70\n",
       "Voluntary Early Retirement (VER)         67\n",
       "Ill Health Retirement                    61\n",
       "Other                                    49\n",
       "Contract Expired                         34\n",
       "Termination                              15\n",
       "Name: separationtype, dtype: int64"
      ]
     },
     "execution_count": 18,
     "metadata": {},
     "output_type": "execute_result"
    }
   ],
   "source": [
    "#check columns\n",
    "dete_survey_updated['separationtype'].value_counts()\n"
   ]
  },
  {
   "cell_type": "code",
   "execution_count": 19,
   "metadata": {
    "collapsed": false
   },
   "outputs": [
    {
     "data": {
      "text/plain": [
       "Resignation                 340\n",
       "Contract Expired            127\n",
       "Retrenchment/ Redundancy    104\n",
       "Retirement                   82\n",
       "Transfer                     25\n",
       "Termination                  23\n",
       "Name: separationtype, dtype: int64"
      ]
     },
     "execution_count": 19,
     "metadata": {},
     "output_type": "execute_result"
    }
   ],
   "source": [
    "tafe_survey_updated['separationtype'].value_counts()\n"
   ]
  },
  {
   "cell_type": "markdown",
   "metadata": {},
   "source": [
    "Are employees who have only worked for the institutes for a short period of time resigning due to some kind of dissatisfaction? What about employees who have been at the job longer?\n",
    "\n",
    "because the question about resigning, so we focus on dataset which have resignition type, and not use other"
   ]
  },
  {
   "cell_type": "code",
   "execution_count": 20,
   "metadata": {
    "collapsed": false
   },
   "outputs": [],
   "source": [
    "#copy the data\n",
    "dete_copy = dete_survey_updated.copy()\n",
    "tafe_copy = tafe_survey_updated.copy()\n",
    "\n",
    "#make classification\n",
    "dete_r = dete_copy['separationtype'] == 'Resignation-Other reasons'\n",
    "dete_e = dete_copy['separationtype'] == 'Resignation-Other employer'\n",
    "dete_m = dete_copy['separationtype'] == 'Resignation-Move overseas/interstate'\n",
    "\n",
    "#combined clasification\n",
    "combined = dete_r | dete_e | dete_m\n",
    "\n",
    "#use combined to choose data with right clasififcation\n",
    "dete_resignations = dete_copy.loc[combined, :]\n",
    "\n",
    "#choose only data with right classification\n",
    "tafe_resignations = tafe_copy.loc[tafe_copy['separationtype'] == 'Resignation',:]"
   ]
  },
  {
   "cell_type": "markdown",
   "metadata": {},
   "source": [
    "### extract years to solve unlogical problem"
   ]
  },
  {
   "cell_type": "markdown",
   "metadata": {},
   "source": [
    "in this section, we will analyze date column, to see if columns have unlogical value or not. using value counts and other function"
   ]
  },
  {
   "cell_type": "code",
   "execution_count": 21,
   "metadata": {
    "collapsed": false
   },
   "outputs": [
    {
     "data": {
      "text/plain": [
       "2012       126\n",
       "2013        74\n",
       "01/2014     22\n",
       "12/2013     17\n",
       "06/2013     14\n",
       "09/2013     11\n",
       "NaN         11\n",
       "07/2013      9\n",
       "11/2013      9\n",
       "10/2013      6\n",
       "08/2013      4\n",
       "05/2013      2\n",
       "05/2012      2\n",
       "2010         1\n",
       "09/2010      1\n",
       "07/2012      1\n",
       "07/2006      1\n",
       "Name: cease_date, dtype: int64"
      ]
     },
     "execution_count": 21,
     "metadata": {},
     "output_type": "execute_result"
    }
   ],
   "source": [
    "#check the columns\n",
    "dete_resignations['cease_date'].value_counts(dropna=False)"
   ]
  },
  {
   "cell_type": "markdown",
   "metadata": {},
   "source": [
    "we got many information:\n",
    "\n",
    "1. there are no value years that below 1940\n",
    "2. in cease_date columns from dete dataframe, many of years value also have month value, beacause  dete_start columns in dete dataframe has anly years column, we extract years value in cease-date (dete dataframe) column and change the cease date value with only years value\n",
    "3. we will try to substract between dete_start and cease_date, we found that there's no negative value, its mean that cease_date pr dete_start don't have unlogical value, for instance, if dete_start is higher than cease_date, it make value become unlogical value, because dete_start is years when employee start work, while cease_date is when employee left their work"
   ]
  },
  {
   "cell_type": "code",
   "execution_count": 22,
   "metadata": {
    "collapsed": false
   },
   "outputs": [
    {
     "name": "stderr",
     "output_type": "stream",
     "text": [
      "/dataquest/system/env/python3/lib/python3.4/site-packages/ipykernel/__main__.py:2: FutureWarning:\n",
      "\n",
      "currently extract(expand=None) means expand=False (return Index/Series/DataFrame) but in a future version of pandas this will be changed to expand=True (return DataFrame)\n",
      "\n",
      "/dataquest/system/env/python3/lib/python3.4/site-packages/ipykernel/__main__.py:5: SettingWithCopyWarning:\n",
      "\n",
      "\n",
      "A value is trying to be set on a copy of a slice from a DataFrame.\n",
      "Try using .loc[row_indexer,col_indexer] = value instead\n",
      "\n",
      "See the caveats in the documentation: http://pandas.pydata.org/pandas-docs/stable/indexing.html#indexing-view-versus-copy\n",
      "\n"
     ]
    }
   ],
   "source": [
    "#extract only years\n",
    "extract_year = dete_resignations['cease_date'].str.extract(r'([1-2][0-9]{3})')\n",
    "\n",
    "#change the columns\n",
    "dete_resignations['cease_date'] = extract_year.astype('float')"
   ]
  },
  {
   "cell_type": "code",
   "execution_count": 23,
   "metadata": {
    "collapsed": false
   },
   "outputs": [
    {
     "data": {
      "text/plain": [
       "2006.0      1\n",
       "2010.0      2\n",
       "2012.0    129\n",
       "2013.0    146\n",
       "2014.0     22\n",
       "Name: cease_date, dtype: int64"
      ]
     },
     "execution_count": 23,
     "metadata": {},
     "output_type": "execute_result"
    }
   ],
   "source": [
    "#check the data\n",
    "dete_resignations['cease_date'].value_counts().sort_index(ascending=True)"
   ]
  },
  {
   "cell_type": "code",
   "execution_count": 24,
   "metadata": {
    "collapsed": false
   },
   "outputs": [
    {
     "data": {
      "text/plain": [
       "1963.0     1\n",
       "1971.0     1\n",
       "1972.0     1\n",
       "1973.0     1\n",
       "1974.0     2\n",
       "1975.0     1\n",
       "1976.0     2\n",
       "1977.0     1\n",
       "1980.0     5\n",
       "1982.0     1\n",
       "1983.0     2\n",
       "1984.0     1\n",
       "1985.0     3\n",
       "1986.0     3\n",
       "1987.0     1\n",
       "1988.0     4\n",
       "1989.0     4\n",
       "1990.0     5\n",
       "1991.0     4\n",
       "1992.0     6\n",
       "1993.0     5\n",
       "1994.0     6\n",
       "1995.0     4\n",
       "1996.0     6\n",
       "1997.0     5\n",
       "1998.0     6\n",
       "1999.0     8\n",
       "2000.0     9\n",
       "2001.0     3\n",
       "2002.0     6\n",
       "2003.0     6\n",
       "2004.0    14\n",
       "2005.0    15\n",
       "2006.0    13\n",
       "2007.0    21\n",
       "2008.0    22\n",
       "2009.0    13\n",
       "2010.0    17\n",
       "2011.0    24\n",
       "2012.0    21\n",
       "2013.0    10\n",
       "Name: dete_start_date, dtype: int64"
      ]
     },
     "execution_count": 24,
     "metadata": {},
     "output_type": "execute_result"
    }
   ],
   "source": [
    "dete_resignations['dete_start_date'].value_counts().sort_index(ascending=True)"
   ]
  },
  {
   "cell_type": "code",
   "execution_count": 25,
   "metadata": {
    "collapsed": false
   },
   "outputs": [
    {
     "data": {
      "text/plain": [
       "2009.0      2\n",
       "2010.0     68\n",
       "2011.0    116\n",
       "2012.0     94\n",
       "2013.0     55\n",
       "Name: cease_date, dtype: int64"
      ]
     },
     "execution_count": 25,
     "metadata": {},
     "output_type": "execute_result"
    }
   ],
   "source": [
    "tafe_resignations['cease_date'].value_counts().sort_index(ascending=True)"
   ]
  },
  {
   "cell_type": "code",
   "execution_count": 26,
   "metadata": {
    "collapsed": false
   },
   "outputs": [],
   "source": [
    "#check different years\n",
    "different_dete_years = dete_resignations['cease_date'] - dete_resignations['dete_start_date']"
   ]
  },
  {
   "cell_type": "code",
   "execution_count": 27,
   "metadata": {
    "collapsed": false
   },
   "outputs": [
    {
     "data": {
      "text/plain": [
       "0.0     20\n",
       "1.0     22\n",
       "2.0     14\n",
       "3.0     20\n",
       "4.0     16\n",
       "5.0     23\n",
       "6.0     17\n",
       "7.0     13\n",
       "8.0      8\n",
       "9.0     14\n",
       "10.0     6\n",
       "11.0     4\n",
       "12.0     6\n",
       "13.0     8\n",
       "14.0     6\n",
       "15.0     7\n",
       "16.0     5\n",
       "17.0     6\n",
       "18.0     5\n",
       "19.0     3\n",
       "20.0     7\n",
       "21.0     3\n",
       "22.0     6\n",
       "23.0     4\n",
       "24.0     4\n",
       "25.0     2\n",
       "26.0     2\n",
       "27.0     1\n",
       "28.0     2\n",
       "29.0     1\n",
       "30.0     2\n",
       "31.0     1\n",
       "32.0     3\n",
       "33.0     1\n",
       "34.0     1\n",
       "35.0     1\n",
       "36.0     2\n",
       "38.0     1\n",
       "39.0     3\n",
       "41.0     1\n",
       "42.0     1\n",
       "49.0     1\n",
       "dtype: int64"
      ]
     },
     "execution_count": 27,
     "metadata": {},
     "output_type": "execute_result"
    }
   ],
   "source": [
    "different_dete_years.value_counts().sort_index(ascending=True)"
   ]
  },
  {
   "cell_type": "markdown",
   "metadata": {
    "collapsed": true
   },
   "source": [
    "### Create institute service in dete resignations dataset"
   ]
  },
  {
   "cell_type": "markdown",
   "metadata": {},
   "source": [
    "aim to answer this questions\n",
    "\n",
    "Are employees who have only worked for the institutes for a short period of time resigning due to some kind of dissatisfaction? What about employees who have been at the job longer?\n",
    "\n",
    "we should know the period of employee work in the institue. in tafe_resignition dataset it's done by institute_service columns, when dete_dataset don't have it. to make it easy to analyze both dataset together, we should make new column with value and name same as institute_service in tafe resignition, to get that, we can substract dete_start_date from cease_date in dete_resignitions dataset"
   ]
  },
  {
   "cell_type": "code",
   "execution_count": 28,
   "metadata": {
    "collapsed": false
   },
   "outputs": [
    {
     "name": "stderr",
     "output_type": "stream",
     "text": [
      "/dataquest/system/env/python3/lib/python3.4/site-packages/ipykernel/__main__.py:1: SettingWithCopyWarning:\n",
      "\n",
      "\n",
      "A value is trying to be set on a copy of a slice from a DataFrame.\n",
      "Try using .loc[row_indexer,col_indexer] = value instead\n",
      "\n",
      "See the caveats in the documentation: http://pandas.pydata.org/pandas-docs/stable/indexing.html#indexing-view-versus-copy\n",
      "\n"
     ]
    }
   ],
   "source": [
    "dete_resignations['institute_service'] = dete_resignations['cease_date'] - dete_resignations['dete_start_date']"
   ]
  },
  {
   "cell_type": "markdown",
   "metadata": {},
   "source": [
    "### identify dissatisfied employees"
   ]
  },
  {
   "cell_type": "markdown",
   "metadata": {},
   "source": [
    "for this section we analyze which columns that have value same as disatisfaction, because we focus with any employees who resigned because they were dissatisfied."
   ]
  },
  {
   "cell_type": "code",
   "execution_count": 29,
   "metadata": {
    "collapsed": false
   },
   "outputs": [
    {
     "data": {
      "text/plain": [
       "-                                         277\n",
       "Contributing Factors. Dissatisfaction      55\n",
       "Name: Contributing Factors. Dissatisfaction, dtype: int64"
      ]
     },
     "execution_count": 29,
     "metadata": {},
     "output_type": "execute_result"
    }
   ],
   "source": [
    "#check the data\n",
    "tafe_resignations['Contributing Factors. Dissatisfaction'].value_counts()"
   ]
  },
  {
   "cell_type": "code",
   "execution_count": 30,
   "metadata": {
    "collapsed": false
   },
   "outputs": [
    {
     "data": {
      "text/plain": [
       "-                      270\n",
       "Job Dissatisfaction     62\n",
       "Name: Contributing Factors. Job Dissatisfaction, dtype: int64"
      ]
     },
     "execution_count": 30,
     "metadata": {},
     "output_type": "execute_result"
    }
   ],
   "source": [
    "tafe_resignations['Contributing Factors. Job Dissatisfaction'].value_counts()"
   ]
  },
  {
   "cell_type": "markdown",
   "metadata": {},
   "source": [
    "\n",
    "\n",
    "we found many columns\n",
    "1. tafe_survey_updated:\n",
    "Contributing Factors. Dissatisfaction,\n",
    "Contributing Factors. Job Dissatisfaction.\n",
    "2. dafe_survey_updated:\n",
    "job_dissatisfaction,\n",
    "dissatisfaction_with_the_department,\n",
    "physical_work_environment,\n",
    "lack_of_recognition,\n",
    "lack_of_job_security,\n",
    "work_location,\n",
    "employment_conditions,\n",
    "work_life_balance,\n",
    "workload,\n",
    "\n",
    "\n",
    "that columns have 3 value, name of columns itself, the strip '-', and NaN, which show that rows doesn't have value. to know weather employee left cause by dissatisfaction, we do it many strategy:\n",
    "\n",
    "1. we change value in column which contain dissatisfaction value with true, if dissatisfaction, false if contain '-' value, and nan if rows doesn't have value\n",
    "\n",
    "2. after that we make new columns dissatisfied which contain the conclusion every columns dissatisfaction, using df.any(). if one of rows in dataframe have one or more true value, it will make true value in dissatisfied. if all rows have false value, return false in dissatisfied column same as all rows have NaN value"
   ]
  },
  {
   "cell_type": "code",
   "execution_count": 31,
   "metadata": {
    "collapsed": true
   },
   "outputs": [],
   "source": [
    "## write function, update vals\n",
    "def update_vals(value):\n",
    "    if pd.isnull(value):\n",
    "        return np.nan\n",
    "    elif value == '-':\n",
    "        return False\n",
    "    else:\n",
    "        return True\n",
    "    "
   ]
  },
  {
   "cell_type": "code",
   "execution_count": 32,
   "metadata": {
    "collapsed": false,
    "scrolled": true
   },
   "outputs": [
    {
     "name": "stderr",
     "output_type": "stream",
     "text": [
      "/dataquest/system/env/python3/lib/python3.4/site-packages/pandas/core/frame.py:2540: SettingWithCopyWarning:\n",
      "\n",
      "\n",
      "A value is trying to be set on a copy of a slice from a DataFrame.\n",
      "Try using .loc[row_indexer,col_indexer] = value instead\n",
      "\n",
      "See the caveats in the documentation: http://pandas.pydata.org/pandas-docs/stable/indexing.html#indexing-view-versus-copy\n",
      "\n"
     ]
    }
   ],
   "source": [
    "#change the data using applymap\n",
    "tafe_resignations[['Contributing Factors. Dissatisfaction','Contributing Factors. Job Dissatisfaction']]= tafe_resignations[['Contributing Factors. Dissatisfaction','Contributing Factors. Job Dissatisfaction']].applymap(update_vals)"
   ]
  },
  {
   "cell_type": "code",
   "execution_count": 33,
   "metadata": {
    "collapsed": false
   },
   "outputs": [
    {
     "data": {
      "text/plain": [
       "False    270\n",
       "True      62\n",
       "Name: Contributing Factors. Job Dissatisfaction, dtype: int64"
      ]
     },
     "execution_count": 33,
     "metadata": {},
     "output_type": "execute_result"
    }
   ],
   "source": [
    "#check the data\n",
    "tafe_resignations['Contributing Factors. Job Dissatisfaction'].value_counts()"
   ]
  },
  {
   "cell_type": "code",
   "execution_count": 34,
   "metadata": {
    "collapsed": false
   },
   "outputs": [
    {
     "name": "stderr",
     "output_type": "stream",
     "text": [
      "/dataquest/system/env/python3/lib/python3.4/site-packages/ipykernel/__main__.py:3: SettingWithCopyWarning:\n",
      "\n",
      "\n",
      "A value is trying to be set on a copy of a slice from a DataFrame.\n",
      "Try using .loc[row_indexer,col_indexer] = value instead\n",
      "\n",
      "See the caveats in the documentation: http://pandas.pydata.org/pandas-docs/stable/indexing.html#indexing-view-versus-copy\n",
      "\n"
     ]
    },
    {
     "data": {
      "text/plain": [
       "False    241\n",
       "True      91\n",
       "NaN        8\n",
       "Name: dissatisfied, dtype: int64"
      ]
     },
     "execution_count": 34,
     "metadata": {},
     "output_type": "execute_result"
    }
   ],
   "source": [
    "\n",
    "tafe_resignations['dissatisfied'] = tafe_resignations[['Contributing Factors. Dissatisfaction',\n",
    "                                                      'Contributing Factors. Job Dissatisfaction']].any(axis=1, skipna=False)\n",
    "tafe_resignations_up = tafe_resignations.copy()\n",
    "tafe_resignations_up['dissatisfied'].value_counts(dropna=False)\n",
    "\n"
   ]
  },
  {
   "cell_type": "code",
   "execution_count": 35,
   "metadata": {
    "collapsed": false
   },
   "outputs": [
    {
     "name": "stderr",
     "output_type": "stream",
     "text": [
      "/dataquest/system/env/python3/lib/python3.4/site-packages/ipykernel/__main__.py:9: SettingWithCopyWarning:\n",
      "\n",
      "\n",
      "A value is trying to be set on a copy of a slice from a DataFrame.\n",
      "Try using .loc[row_indexer,col_indexer] = value instead\n",
      "\n",
      "See the caveats in the documentation: http://pandas.pydata.org/pandas-docs/stable/indexing.html#indexing-view-versus-copy\n",
      "\n"
     ]
    },
    {
     "data": {
      "text/plain": [
       "False    162\n",
       "True     149\n",
       "Name: dissatisfied, dtype: int64"
      ]
     },
     "execution_count": 35,
     "metadata": {},
     "output_type": "execute_result"
    }
   ],
   "source": [
    "#make data become one\n",
    "dete_resignations['dissatisfied'] = dete_resignations[['job_dissatisfaction',\n",
    "                                                      'dissatisfaction_with_the_department',\n",
    "                                                      'physical_work_environment',\n",
    "                                                      'lack_of_recognition',\n",
    "                                                      'lack_of_job_security',\n",
    "                                                      'work_location',\n",
    "                                                      'employment_conditions',\n",
    "                                                      'work_life_balance',\n",
    "                                                      'workload']].any(axis=1, skipna=False)\n",
    "dete_resignations_up = dete_resignations.copy()\n",
    "dete_resignations_up['dissatisfied'].value_counts(dropna=False)"
   ]
  },
  {
   "cell_type": "markdown",
   "metadata": {},
   "source": [
    "### combine the data\n"
   ]
  },
  {
   "cell_type": "markdown",
   "metadata": {},
   "source": [
    "after cleaning the data, we combined data together from tafe dan date dataset.\n",
    "\n",
    "because we will using institute_service to analyze connection between range time employee work and dissatisfaction reason, we using concat, axis =0, to make data combined using each row and drop column which doesn't have connection with dissatisfaction and have more 500 nan_values"
   ]
  },
  {
   "cell_type": "code",
   "execution_count": 36,
   "metadata": {
    "collapsed": true
   },
   "outputs": [],
   "source": [
    "#make new column, it is become key for concat\n",
    "dete_resignations_up['institute'] = 'DETE'\n",
    "tafe_resignations_up['institute'] = 'TAFE'\n",
    "\n",
    "combined = pd.concat([dete_resignations_up, tafe_resignations_up], axis=0)\n",
    "combined_updated = combined.dropna(axis=1, thresh=500)"
   ]
  },
  {
   "cell_type": "markdown",
   "metadata": {},
   "source": [
    "check the data"
   ]
  },
  {
   "cell_type": "code",
   "execution_count": 37,
   "metadata": {
    "collapsed": false
   },
   "outputs": [
    {
     "data": {
      "text/plain": [
       "(651, 54)"
      ]
     },
     "execution_count": 37,
     "metadata": {},
     "output_type": "execute_result"
    }
   ],
   "source": [
    "combined.shape"
   ]
  },
  {
   "cell_type": "code",
   "execution_count": 38,
   "metadata": {
    "collapsed": false
   },
   "outputs": [
    {
     "data": {
      "text/plain": [
       "(651, 9)"
      ]
     },
     "execution_count": 38,
     "metadata": {},
     "output_type": "execute_result"
    }
   ],
   "source": [
    "combined_updated.shape"
   ]
  },
  {
   "cell_type": "code",
   "execution_count": 77,
   "metadata": {
    "collapsed": false
   },
   "outputs": [
    {
     "data": {
      "text/html": [
       "<div>\n",
       "<style scoped>\n",
       "    .dataframe tbody tr th:only-of-type {\n",
       "        vertical-align: middle;\n",
       "    }\n",
       "\n",
       "    .dataframe tbody tr th {\n",
       "        vertical-align: top;\n",
       "    }\n",
       "\n",
       "    .dataframe thead th {\n",
       "        text-align: right;\n",
       "    }\n",
       "</style>\n",
       "<table border=\"1\" class=\"dataframe\">\n",
       "  <thead>\n",
       "    <tr style=\"text-align: right;\">\n",
       "      <th></th>\n",
       "      <th>cease_date</th>\n",
       "      <th>dissatisfied</th>\n",
       "      <th>employment_status</th>\n",
       "      <th>gender</th>\n",
       "      <th>id</th>\n",
       "      <th>institute</th>\n",
       "      <th>institute_service</th>\n",
       "      <th>position</th>\n",
       "      <th>separationtype</th>\n",
       "      <th>service_cat</th>\n",
       "    </tr>\n",
       "  </thead>\n",
       "  <tbody>\n",
       "    <tr>\n",
       "      <th>3</th>\n",
       "      <td>2012.0</td>\n",
       "      <td>False</td>\n",
       "      <td>Permanent Full-time</td>\n",
       "      <td>Female</td>\n",
       "      <td>4.0</td>\n",
       "      <td>DETE</td>\n",
       "      <td>7.0</td>\n",
       "      <td>Teacher</td>\n",
       "      <td>Resignation-Other reasons</td>\n",
       "      <td>Established</td>\n",
       "    </tr>\n",
       "    <tr>\n",
       "      <th>5</th>\n",
       "      <td>2012.0</td>\n",
       "      <td>True</td>\n",
       "      <td>Permanent Full-time</td>\n",
       "      <td>Female</td>\n",
       "      <td>6.0</td>\n",
       "      <td>DETE</td>\n",
       "      <td>18.0</td>\n",
       "      <td>Guidance Officer</td>\n",
       "      <td>Resignation-Other reasons</td>\n",
       "      <td>Veteran</td>\n",
       "    </tr>\n",
       "    <tr>\n",
       "      <th>8</th>\n",
       "      <td>2012.0</td>\n",
       "      <td>False</td>\n",
       "      <td>Permanent Full-time</td>\n",
       "      <td>Female</td>\n",
       "      <td>9.0</td>\n",
       "      <td>DETE</td>\n",
       "      <td>3.0</td>\n",
       "      <td>Teacher</td>\n",
       "      <td>Resignation-Other reasons</td>\n",
       "      <td>Experienced</td>\n",
       "    </tr>\n",
       "    <tr>\n",
       "      <th>9</th>\n",
       "      <td>2012.0</td>\n",
       "      <td>True</td>\n",
       "      <td>Permanent Part-time</td>\n",
       "      <td>Female</td>\n",
       "      <td>10.0</td>\n",
       "      <td>DETE</td>\n",
       "      <td>15.0</td>\n",
       "      <td>Teacher Aide</td>\n",
       "      <td>Resignation-Other employer</td>\n",
       "      <td>Veteran</td>\n",
       "    </tr>\n",
       "    <tr>\n",
       "      <th>11</th>\n",
       "      <td>2012.0</td>\n",
       "      <td>False</td>\n",
       "      <td>Permanent Full-time</td>\n",
       "      <td>Male</td>\n",
       "      <td>12.0</td>\n",
       "      <td>DETE</td>\n",
       "      <td>3.0</td>\n",
       "      <td>Teacher</td>\n",
       "      <td>Resignation-Move overseas/interstate</td>\n",
       "      <td>Experienced</td>\n",
       "    </tr>\n",
       "  </tbody>\n",
       "</table>\n",
       "</div>"
      ],
      "text/plain": [
       "    cease_date  dissatisfied    employment_status  gender    id institute  \\\n",
       "3       2012.0         False  Permanent Full-time  Female   4.0      DETE   \n",
       "5       2012.0          True  Permanent Full-time  Female   6.0      DETE   \n",
       "8       2012.0         False  Permanent Full-time  Female   9.0      DETE   \n",
       "9       2012.0          True  Permanent Part-time  Female  10.0      DETE   \n",
       "11      2012.0         False  Permanent Full-time    Male  12.0      DETE   \n",
       "\n",
       "    institute_service          position                        separationtype  \\\n",
       "3                 7.0           Teacher             Resignation-Other reasons   \n",
       "5                18.0  Guidance Officer             Resignation-Other reasons   \n",
       "8                 3.0           Teacher             Resignation-Other reasons   \n",
       "9                15.0      Teacher Aide            Resignation-Other employer   \n",
       "11                3.0           Teacher  Resignation-Move overseas/interstate   \n",
       "\n",
       "    service_cat  \n",
       "3   Established  \n",
       "5       Veteran  \n",
       "8   Experienced  \n",
       "9       Veteran  \n",
       "11  Experienced  "
      ]
     },
     "execution_count": 77,
     "metadata": {},
     "output_type": "execute_result"
    }
   ],
   "source": [
    "combined_updated.head()"
   ]
  },
  {
   "cell_type": "markdown",
   "metadata": {},
   "source": [
    "### cleaning the service column"
   ]
  },
  {
   "cell_type": "markdown",
   "metadata": {},
   "source": [
    "before doing analyze, we try to see institute_service columns more deeply, we found that many value have different parameter, \n",
    "\n",
    "to solve the problem, we use vertorized string method to the value and convert to float.\n",
    "\n",
    "after that, we make fnction, to grup each value with 4 different categories and add in new_name"
   ]
  },
  {
   "cell_type": "code",
   "execution_count": 41,
   "metadata": {
    "collapsed": false
   },
   "outputs": [
    {
     "name": "stderr",
     "output_type": "stream",
     "text": [
      "/dataquest/system/env/python3/lib/python3.4/site-packages/ipykernel/__main__.py:2: FutureWarning:\n",
      "\n",
      "currently extract(expand=None) means expand=False (return Index/Series/DataFrame) but in a future version of pandas this will be changed to expand=True (return DataFrame)\n",
      "\n",
      "/dataquest/system/env/python3/lib/python3.4/site-packages/ipykernel/__main__.py:3: SettingWithCopyWarning:\n",
      "\n",
      "\n",
      "A value is trying to be set on a copy of a slice from a DataFrame.\n",
      "Try using .loc[row_indexer,col_indexer] = value instead\n",
      "\n",
      "See the caveats in the documentation: http://pandas.pydata.org/pandas-docs/stable/indexing.html#indexing-view-versus-copy\n",
      "\n"
     ]
    }
   ],
   "source": [
    "#copy the data and change it to str\n",
    "service_institute = combined_updated['institute_service'].copy().astype('str')\n",
    "\n",
    "#extract only number\n",
    "service_institute = service_institute.str.extract(r'([0-9]+)').astype('float')\n",
    "\n",
    "#uodate the data\n",
    "combined_updated['institute_service'] = service_institute"
   ]
  },
  {
   "cell_type": "code",
   "execution_count": 42,
   "metadata": {
    "collapsed": false
   },
   "outputs": [
    {
     "data": {
      "text/plain": [
       " 1.0     159\n",
       "NaN       88\n",
       " 3.0      83\n",
       " 5.0      56\n",
       " 7.0      34\n",
       " 11.0     30\n",
       " 0.0      20\n",
       " 20.0     17\n",
       " 6.0      17\n",
       " 4.0      16\n",
       " 9.0      14\n",
       " 2.0      14\n",
       " 13.0      8\n",
       " 8.0       8\n",
       " 15.0      7\n",
       " 22.0      6\n",
       " 10.0      6\n",
       " 17.0      6\n",
       " 14.0      6\n",
       " 12.0      6\n",
       " 16.0      5\n",
       " 18.0      5\n",
       " 24.0      4\n",
       " 23.0      4\n",
       " 21.0      3\n",
       " 39.0      3\n",
       " 32.0      3\n",
       " 19.0      3\n",
       " 36.0      2\n",
       " 30.0      2\n",
       " 25.0      2\n",
       " 26.0      2\n",
       " 28.0      2\n",
       " 42.0      1\n",
       " 29.0      1\n",
       " 35.0      1\n",
       " 27.0      1\n",
       " 41.0      1\n",
       " 49.0      1\n",
       " 38.0      1\n",
       " 34.0      1\n",
       " 33.0      1\n",
       " 31.0      1\n",
       "Name: institute_service, dtype: int64"
      ]
     },
     "execution_count": 42,
     "metadata": {},
     "output_type": "execute_result"
    }
   ],
   "source": [
    "#check the data\n",
    "combined_updated['institute_service'].value_counts(dropna=False)"
   ]
  },
  {
   "cell_type": "code",
   "execution_count": 43,
   "metadata": {
    "collapsed": false
   },
   "outputs": [
    {
     "data": {
      "text/plain": [
       "<matplotlib.axes._subplots.AxesSubplot at 0x7fd22be2c668>"
      ]
     },
     "execution_count": 43,
     "metadata": {},
     "output_type": "execute_result"
    },
    {
     "data": {
      "image/png": "[encoded data removed]",
      "text/plain": [
       "<matplotlib.figure.Figure at 0x7fd22be2c780>"
      ]
     },
     "metadata": {},
     "output_type": "display_data"
    }
   ],
   "source": [
    "\n",
    "#check if there was outlier in combined update\n",
    "combined_updated.boxplot(column = 'institute_service')"
   ]
  },
  {
   "cell_type": "code",
   "execution_count": 44,
   "metadata": {
    "collapsed": false
   },
   "outputs": [
    {
     "name": "stderr",
     "output_type": "stream",
     "text": [
      "/dataquest/system/env/python3/lib/python3.4/site-packages/seaborn/categorical.py:454: FutureWarning:\n",
      "\n",
      "remove_na is deprecated and is a private function. Do not use.\n",
      "\n"
     ]
    },
    {
     "data": {
      "text/plain": [
       "<matplotlib.axes._subplots.AxesSubplot at 0x7fd22be26a58>"
      ]
     },
     "execution_count": 44,
     "metadata": {},
     "output_type": "execute_result"
    },
    {
     "data": {
      "image/png": "[encoded data removed]",
      "text/plain": [
       "<matplotlib.figure.Figure at 0x7fd22bebdb70>"
      ]
     },
     "metadata": {},
     "output_type": "display_data"
    }
   ],
   "source": [
    "import seaborn as sns\n",
    "sns.boxplot(y='institute_service', data=combined_updated)"
   ]
  },
  {
   "cell_type": "code",
   "execution_count": 45,
   "metadata": {
    "collapsed": false
   },
   "outputs": [
    {
     "name": "stderr",
     "output_type": "stream",
     "text": [
      "/dataquest/system/env/python3/lib/python3.4/site-packages/ipykernel/__main__.py:2: SettingWithCopyWarning:\n",
      "\n",
      "\n",
      "A value is trying to be set on a copy of a slice from a DataFrame.\n",
      "Try using .loc[row_indexer,col_indexer] = value instead\n",
      "\n",
      "See the caveats in the documentation: http://pandas.pydata.org/pandas-docs/stable/indexing.html#indexing-view-versus-copy\n",
      "\n"
     ]
    }
   ],
   "source": [
    "#there was an outlier so we will use median , insteate mean\n",
    "#fill nan values with median\n",
    "combined_updated['institute_service'] = combined_updated['institute_service'].fillna(combined_updated['institute_service'].median())"
   ]
  },
  {
   "cell_type": "code",
   "execution_count": 46,
   "metadata": {
    "collapsed": true
   },
   "outputs": [],
   "source": [
    "#def category\n",
    "def cat_service(value):\n",
    "    if pd.isnull(value):\n",
    "        return np.nan\n",
    "    elif value < 3.0 :\n",
    "        return 'New'\n",
    "    elif value >= 3.0 and value < 7.0:\n",
    "        return 'Experienced'\n",
    "    elif value >= 7.0 and value < 11.0:\n",
    "        return 'Established'\n",
    "    elif value >= 11.0:\n",
    "        return 'Veteran'"
   ]
  },
  {
   "cell_type": "code",
   "execution_count": 47,
   "metadata": {
    "collapsed": false
   },
   "outputs": [
    {
     "name": "stderr",
     "output_type": "stream",
     "text": [
      "/dataquest/system/env/python3/lib/python3.4/site-packages/ipykernel/__main__.py:1: SettingWithCopyWarning:\n",
      "\n",
      "\n",
      "A value is trying to be set on a copy of a slice from a DataFrame.\n",
      "Try using .loc[row_indexer,col_indexer] = value instead\n",
      "\n",
      "See the caveats in the documentation: http://pandas.pydata.org/pandas-docs/stable/indexing.html#indexing-view-versus-copy\n",
      "\n"
     ]
    }
   ],
   "source": [
    "#make new column and fill it wiith category\n",
    "combined_updated['service_cat'] = combined_updated['institute_service'].apply(cat_service)"
   ]
  },
  {
   "cell_type": "code",
   "execution_count": 48,
   "metadata": {
    "collapsed": false
   },
   "outputs": [
    {
     "data": {
      "text/plain": [
       "Experienced    260\n",
       "New            193\n",
       "Veteran        136\n",
       "Established     62\n",
       "Name: service_cat, dtype: int64"
      ]
     },
     "execution_count": 48,
     "metadata": {},
     "output_type": "execute_result"
    }
   ],
   "source": [
    "combined_updated['service_cat'].value_counts(dropna=False)"
   ]
  },
  {
   "cell_type": "markdown",
   "metadata": {
    "collapsed": true
   },
   "source": [
    "### Inital Analysis"
   ]
  },
  {
   "cell_type": "code",
   "execution_count": 49,
   "metadata": {
    "collapsed": false
   },
   "outputs": [
    {
     "data": {
      "text/plain": [
       "False    403\n",
       "True     240\n",
       "NaN        8\n",
       "Name: dissatisfied, dtype: int64"
      ]
     },
     "execution_count": 49,
     "metadata": {},
     "output_type": "execute_result"
    }
   ],
   "source": [
    "#check_data\n",
    "combined_updated['dissatisfied'].value_counts(dropna=False)"
   ]
  },
  {
   "cell_type": "code",
   "execution_count": 50,
   "metadata": {
    "collapsed": true
   },
   "outputs": [],
   "source": [
    "#fill nan value with most frequently data\n",
    "\n",
    "combined_updated = combined_updated.fillna(value = {'dissatisfied': False})\n"
   ]
  },
  {
   "cell_type": "code",
   "execution_count": 51,
   "metadata": {
    "collapsed": false
   },
   "outputs": [
    {
     "data": {
      "text/plain": [
       "False    411\n",
       "True     240\n",
       "Name: dissatisfied, dtype: int64"
      ]
     },
     "execution_count": 51,
     "metadata": {},
     "output_type": "execute_result"
    }
   ],
   "source": [
    "#check data again\n",
    "combined_updated['dissatisfied'].value_counts(dropna=False)"
   ]
  },
  {
   "cell_type": "code",
   "execution_count": 52,
   "metadata": {
    "collapsed": false
   },
   "outputs": [],
   "source": [
    "#pivot the data\n",
    "pivot = combined_updated.pivot_table(values = 'dissatisfied', index = 'service_cat')"
   ]
  },
  {
   "cell_type": "code",
   "execution_count": 80,
   "metadata": {
    "collapsed": false
   },
   "outputs": [
    {
     "data": {
      "image/png": "[encoded data removed]",
      "text/plain": [
       "<matplotlib.figure.Figure at 0x7fd2289738d0>"
      ]
     },
     "metadata": {},
     "output_type": "display_data"
    }
   ],
   "source": [
    "#visualizing the pivot\n",
    "pivot.plot.bar()\n",
    "plt.show()"
   ]
  },
  {
   "cell_type": "markdown",
   "metadata": {},
   "source": [
    "from plot we know that, in established employee, which are work in institute between 7-11 years, more than 50 % employee who resign from their work caused by their dissatisfied with the institute.\n",
    "\n",
    "established employee also have the highest percentage of dissatisfied employee, while the younger employee, which have less 1 year work, only 30 % people who left the institute caused by dissatistied with institute "
   ]
  },
  {
   "cell_type": "markdown",
   "metadata": {
    "collapsed": true
   },
   "source": [
    "## analysis dissatisfaction depend on age group"
   ]
  },
  {
   "cell_type": "markdown",
   "metadata": {},
   "source": [
    "#### change age columns"
   ]
  },
  {
   "cell_type": "code",
   "execution_count": 54,
   "metadata": {
    "collapsed": false
   },
   "outputs": [
    {
     "data": {
      "text/plain": [
       "41-45            48\n",
       "46-50            42\n",
       "36-40            41\n",
       "26-30            35\n",
       "51-55            32\n",
       "21-25            29\n",
       "31-35            29\n",
       "56-60            26\n",
       "61 or older      23\n",
       "NaN               5\n",
       "20 or younger     1\n",
       "Name: age, dtype: int64"
      ]
     },
     "execution_count": 54,
     "metadata": {},
     "output_type": "execute_result"
    }
   ],
   "source": [
    "#check the data\n",
    "dete_resignations_up['age'].value_counts(dropna=False)"
   ]
  },
  {
   "cell_type": "code",
   "execution_count": 55,
   "metadata": {
    "collapsed": false
   },
   "outputs": [
    {
     "data": {
      "text/plain": [
       "NaN              50\n",
       "41  45           45\n",
       "51-55            39\n",
       "46  50           39\n",
       "21  25           33\n",
       "26  30           32\n",
       "31  35           32\n",
       "36  40           32\n",
       "56 or older      29\n",
       "20 or younger     9\n",
       "Name: CurrentAge. Current Age, dtype: int64"
      ]
     },
     "execution_count": 55,
     "metadata": {},
     "output_type": "execute_result"
    }
   ],
   "source": [
    "tafe_resignations_up['CurrentAge. Current Age'].value_counts(dropna=False)"
   ]
  },
  {
   "cell_type": "code",
   "execution_count": 56,
   "metadata": {
    "collapsed": true
   },
   "outputs": [],
   "source": [
    "#change tafe dataset age columns name\n",
    "\n",
    "tafe_resignations_up = tafe_resignations_up.rename(columns = {'CurrentAge. Current Age':'age'})"
   ]
  },
  {
   "cell_type": "code",
   "execution_count": 57,
   "metadata": {
    "collapsed": false
   },
   "outputs": [],
   "source": [
    "#combined each dataset again\n",
    "\n",
    "combined2 = pd.concat([dete_resignations_up, tafe_resignations_up], axis=0)\n",
    "combined_updated2 = combined2.dropna(axis=1, thresh=500)"
   ]
  },
  {
   "cell_type": "code",
   "execution_count": 58,
   "metadata": {
    "collapsed": false
   },
   "outputs": [
    {
     "data": {
      "text/html": [
       "<div>\n",
       "<style scoped>\n",
       "    .dataframe tbody tr th:only-of-type {\n",
       "        vertical-align: middle;\n",
       "    }\n",
       "\n",
       "    .dataframe tbody tr th {\n",
       "        vertical-align: top;\n",
       "    }\n",
       "\n",
       "    .dataframe thead th {\n",
       "        text-align: right;\n",
       "    }\n",
       "</style>\n",
       "<table border=\"1\" class=\"dataframe\">\n",
       "  <thead>\n",
       "    <tr style=\"text-align: right;\">\n",
       "      <th></th>\n",
       "      <th>age</th>\n",
       "      <th>cease_date</th>\n",
       "      <th>dissatisfied</th>\n",
       "      <th>employment_status</th>\n",
       "      <th>gender</th>\n",
       "      <th>id</th>\n",
       "      <th>institute</th>\n",
       "      <th>institute_service</th>\n",
       "      <th>position</th>\n",
       "      <th>separationtype</th>\n",
       "    </tr>\n",
       "  </thead>\n",
       "  <tbody>\n",
       "    <tr>\n",
       "      <th>3</th>\n",
       "      <td>36-40</td>\n",
       "      <td>2012.0</td>\n",
       "      <td>False</td>\n",
       "      <td>Permanent Full-time</td>\n",
       "      <td>Female</td>\n",
       "      <td>4.0</td>\n",
       "      <td>DETE</td>\n",
       "      <td>7</td>\n",
       "      <td>Teacher</td>\n",
       "      <td>Resignation-Other reasons</td>\n",
       "    </tr>\n",
       "    <tr>\n",
       "      <th>5</th>\n",
       "      <td>41-45</td>\n",
       "      <td>2012.0</td>\n",
       "      <td>True</td>\n",
       "      <td>Permanent Full-time</td>\n",
       "      <td>Female</td>\n",
       "      <td>6.0</td>\n",
       "      <td>DETE</td>\n",
       "      <td>18</td>\n",
       "      <td>Guidance Officer</td>\n",
       "      <td>Resignation-Other reasons</td>\n",
       "    </tr>\n",
       "    <tr>\n",
       "      <th>8</th>\n",
       "      <td>31-35</td>\n",
       "      <td>2012.0</td>\n",
       "      <td>False</td>\n",
       "      <td>Permanent Full-time</td>\n",
       "      <td>Female</td>\n",
       "      <td>9.0</td>\n",
       "      <td>DETE</td>\n",
       "      <td>3</td>\n",
       "      <td>Teacher</td>\n",
       "      <td>Resignation-Other reasons</td>\n",
       "    </tr>\n",
       "    <tr>\n",
       "      <th>9</th>\n",
       "      <td>46-50</td>\n",
       "      <td>2012.0</td>\n",
       "      <td>True</td>\n",
       "      <td>Permanent Part-time</td>\n",
       "      <td>Female</td>\n",
       "      <td>10.0</td>\n",
       "      <td>DETE</td>\n",
       "      <td>15</td>\n",
       "      <td>Teacher Aide</td>\n",
       "      <td>Resignation-Other employer</td>\n",
       "    </tr>\n",
       "    <tr>\n",
       "      <th>11</th>\n",
       "      <td>31-35</td>\n",
       "      <td>2012.0</td>\n",
       "      <td>False</td>\n",
       "      <td>Permanent Full-time</td>\n",
       "      <td>Male</td>\n",
       "      <td>12.0</td>\n",
       "      <td>DETE</td>\n",
       "      <td>3</td>\n",
       "      <td>Teacher</td>\n",
       "      <td>Resignation-Move overseas/interstate</td>\n",
       "    </tr>\n",
       "  </tbody>\n",
       "</table>\n",
       "</div>"
      ],
      "text/plain": [
       "      age  cease_date dissatisfied    employment_status  gender    id  \\\n",
       "3   36-40      2012.0        False  Permanent Full-time  Female   4.0   \n",
       "5   41-45      2012.0         True  Permanent Full-time  Female   6.0   \n",
       "8   31-35      2012.0        False  Permanent Full-time  Female   9.0   \n",
       "9   46-50      2012.0         True  Permanent Part-time  Female  10.0   \n",
       "11  31-35      2012.0        False  Permanent Full-time    Male  12.0   \n",
       "\n",
       "   institute institute_service          position  \\\n",
       "3       DETE                 7           Teacher   \n",
       "5       DETE                18  Guidance Officer   \n",
       "8       DETE                 3           Teacher   \n",
       "9       DETE                15      Teacher Aide   \n",
       "11      DETE                 3           Teacher   \n",
       "\n",
       "                          separationtype  \n",
       "3              Resignation-Other reasons  \n",
       "5              Resignation-Other reasons  \n",
       "8              Resignation-Other reasons  \n",
       "9             Resignation-Other employer  \n",
       "11  Resignation-Move overseas/interstate  "
      ]
     },
     "execution_count": 58,
     "metadata": {},
     "output_type": "execute_result"
    }
   ],
   "source": [
    "combined_updated2.head()"
   ]
  },
  {
   "cell_type": "code",
   "execution_count": 59,
   "metadata": {
    "collapsed": false
   },
   "outputs": [
    {
     "name": "stderr",
     "output_type": "stream",
     "text": [
      "/dataquest/system/env/python3/lib/python3.4/site-packages/ipykernel/__main__.py:7: FutureWarning:\n",
      "\n",
      "currently extract(expand=None) means expand=False (return Index/Series/DataFrame) but in a future version of pandas this will be changed to expand=True (return DataFrame)\n",
      "\n",
      "/dataquest/system/env/python3/lib/python3.4/site-packages/ipykernel/__main__.py:8: SettingWithCopyWarning:\n",
      "\n",
      "\n",
      "A value is trying to be set on a copy of a slice from a DataFrame.\n",
      "Try using .loc[row_indexer,col_indexer] = value instead\n",
      "\n",
      "See the caveats in the documentation: http://pandas.pydata.org/pandas-docs/stable/indexing.html#indexing-view-versus-copy\n",
      "\n"
     ]
    }
   ],
   "source": [
    "#cleaning the age columns\n",
    "\n",
    "combined_updated2['age'].value_counts(dropna=False)\n",
    "\n",
    "#because most of data have different value, we using regex to update and change that data\n",
    "age_str = combined_updated2['age'].astype('str')\n",
    "age_str =age_str.str.extract(r'([0-9]+)').astype('float')\n",
    "\n",
    "#update data\n",
    "combined_updated2['age'] = age_str"
   ]
  },
  {
   "cell_type": "code",
   "execution_count": 60,
   "metadata": {
    "collapsed": false
   },
   "outputs": [
    {
     "data": {
      "text/plain": [
       " 41.0    93\n",
       " 46.0    81\n",
       " 36.0    73\n",
       " 51.0    71\n",
       " 26.0    67\n",
       " 21.0    62\n",
       " 31.0    61\n",
       "NaN      55\n",
       " 56.0    55\n",
       " 61.0    23\n",
       " 20.0    10\n",
       "Name: age, dtype: int64"
      ]
     },
     "execution_count": 60,
     "metadata": {},
     "output_type": "execute_result"
    }
   ],
   "source": [
    "combined_updated2['age'].value_counts(dropna=False)"
   ]
  },
  {
   "cell_type": "code",
   "execution_count": 61,
   "metadata": {
    "collapsed": false
   },
   "outputs": [
    {
     "name": "stderr",
     "output_type": "stream",
     "text": [
      "/dataquest/system/env/python3/lib/python3.4/site-packages/ipykernel/__main__.py:1: SettingWithCopyWarning:\n",
      "\n",
      "\n",
      "A value is trying to be set on a copy of a slice from a DataFrame.\n",
      "Try using .loc[row_indexer,col_indexer] = value instead\n",
      "\n",
      "See the caveats in the documentation: http://pandas.pydata.org/pandas-docs/stable/indexing.html#indexing-view-versus-copy\n",
      "\n",
      "/dataquest/system/env/python3/lib/python3.4/site-packages/ipykernel/__main__.py:2: SettingWithCopyWarning:\n",
      "\n",
      "\n",
      "A value is trying to be set on a copy of a slice from a DataFrame.\n",
      "Try using .loc[row_indexer,col_indexer] = value instead\n",
      "\n",
      "See the caveats in the documentation: http://pandas.pydata.org/pandas-docs/stable/indexing.html#indexing-view-versus-copy\n",
      "\n"
     ]
    }
   ],
   "source": [
    "#fill nan value with mean\n",
    "combined_updated2['age'] = combined_updated2['age'].fillna(combined_updated2['age'].mean())\n",
    "combined_updated2['age'] = round(combined_updated2['age'],0)"
   ]
  },
  {
   "cell_type": "code",
   "execution_count": 62,
   "metadata": {
    "collapsed": false
   },
   "outputs": [
    {
     "data": {
      "text/plain": [
       "41.0    93\n",
       "46.0    81\n",
       "36.0    73\n",
       "51.0    71\n",
       "26.0    67\n",
       "21.0    62\n",
       "31.0    61\n",
       "39.0    55\n",
       "56.0    55\n",
       "61.0    23\n",
       "20.0    10\n",
       "Name: age, dtype: int64"
      ]
     },
     "execution_count": 62,
     "metadata": {},
     "output_type": "execute_result"
    }
   ],
   "source": [
    "combined_updated2['age'].value_counts(dropna=False)"
   ]
  },
  {
   "cell_type": "code",
   "execution_count": 63,
   "metadata": {
    "collapsed": false
   },
   "outputs": [],
   "source": [
    "#group the age \n",
    "def age_group(value):\n",
    "    if pd.isnull(value):\n",
    "        return np.nan\n",
    "    elif value < 30:\n",
    "        return 'young'\n",
    "    elif value >= 30 and value < 40:\n",
    "        return 'adult'\n",
    "    elif value >=40 and value < 50:\n",
    "        return 'mature'\n",
    "    elif value >= 50:\n",
    "        return 'old'"
   ]
  },
  {
   "cell_type": "code",
   "execution_count": 64,
   "metadata": {
    "collapsed": false,
    "scrolled": true
   },
   "outputs": [
    {
     "name": "stderr",
     "output_type": "stream",
     "text": [
      "/dataquest/system/env/python3/lib/python3.4/site-packages/ipykernel/__main__.py:1: SettingWithCopyWarning:\n",
      "\n",
      "\n",
      "A value is trying to be set on a copy of a slice from a DataFrame.\n",
      "Try using .loc[row_indexer,col_indexer] = value instead\n",
      "\n",
      "See the caveats in the documentation: http://pandas.pydata.org/pandas-docs/stable/indexing.html#indexing-view-versus-copy\n",
      "\n"
     ]
    }
   ],
   "source": [
    "#apply the category\n",
    "combined_updated2['age_cat'] = combined_updated2['age'].apply(age_group)"
   ]
  },
  {
   "cell_type": "code",
   "execution_count": 65,
   "metadata": {
    "collapsed": false
   },
   "outputs": [],
   "source": [
    "# clean dissatisfied column\n",
    "combined_updated2 = combined_updated2.fillna(value = {'dissatisfied': False})"
   ]
  },
  {
   "cell_type": "code",
   "execution_count": 66,
   "metadata": {
    "collapsed": false
   },
   "outputs": [
    {
     "data": {
      "text/plain": [
       "<matplotlib.axes._subplots.AxesSubplot at 0x7fd22b9177f0>"
      ]
     },
     "execution_count": 66,
     "metadata": {},
     "output_type": "execute_result"
    },
    {
     "data": {
      "image/png": "[encoded data removed]",
      "text/plain": [
       "<matplotlib.figure.Figure at 0x7fd22be26ac8>"
      ]
     },
     "metadata": {},
     "output_type": "display_data"
    }
   ],
   "source": [
    "#visualize dissatisfied data\n",
    "pivot2 = combined_updated2.pivot_table(values= 'dissatisfied', index= 'age_cat')\n",
    "\n",
    "pivot2.plot(kind='bar', ylim =(0,0.5))"
   ]
  },
  {
   "cell_type": "code",
   "execution_count": 67,
   "metadata": {
    "collapsed": false
   },
   "outputs": [
    {
     "data": {
      "text/html": [
       "<div>\n",
       "<style scoped>\n",
       "    .dataframe tbody tr th:only-of-type {\n",
       "        vertical-align: middle;\n",
       "    }\n",
       "\n",
       "    .dataframe tbody tr th {\n",
       "        vertical-align: top;\n",
       "    }\n",
       "\n",
       "    .dataframe thead th {\n",
       "        text-align: right;\n",
       "    }\n",
       "</style>\n",
       "<table border=\"1\" class=\"dataframe\">\n",
       "  <thead>\n",
       "    <tr style=\"text-align: right;\">\n",
       "      <th></th>\n",
       "      <th>dissatisfied</th>\n",
       "    </tr>\n",
       "    <tr>\n",
       "      <th>age_cat</th>\n",
       "      <th></th>\n",
       "    </tr>\n",
       "  </thead>\n",
       "  <tbody>\n",
       "    <tr>\n",
       "      <th>adult</th>\n",
       "      <td>0.328042</td>\n",
       "    </tr>\n",
       "    <tr>\n",
       "      <th>mature</th>\n",
       "      <td>0.379310</td>\n",
       "    </tr>\n",
       "    <tr>\n",
       "      <th>old</th>\n",
       "      <td>0.422819</td>\n",
       "    </tr>\n",
       "    <tr>\n",
       "      <th>young</th>\n",
       "      <td>0.352518</td>\n",
       "    </tr>\n",
       "  </tbody>\n",
       "</table>\n",
       "</div>"
      ],
      "text/plain": [
       "         dissatisfied\n",
       "age_cat              \n",
       "adult        0.328042\n",
       "mature       0.379310\n",
       "old          0.422819\n",
       "young        0.352518"
      ]
     },
     "execution_count": 67,
     "metadata": {},
     "output_type": "execute_result"
    }
   ],
   "source": [
    "pivot2"
   ]
  },
  {
   "cell_type": "code",
   "execution_count": 68,
   "metadata": {
    "collapsed": false
   },
   "outputs": [
    {
     "data": {
      "text/plain": [
       "0.3706723626069334"
      ]
     },
     "execution_count": 68,
     "metadata": {},
     "output_type": "execute_result"
    }
   ],
   "source": [
    "pivot2['dissatisfied'].mean()"
   ]
  },
  {
   "cell_type": "markdown",
   "metadata": {
    "collapsed": true
   },
   "source": [
    "if we see on age group, the biggest percentage was happen in old age group or employee who have age more than 50 years, at least 43 % old employee who left the institute caused by dissatisfied with institute, number two is mature, followed by young employee and the last is adult employee.\n",
    "\n",
    "for this section, if we take mean from all age group, we know that only 37% from all employee in both dataset, who left the institute because they dissatistified with institute and the rest was caused by another reason"
   ]
  },
  {
   "cell_type": "markdown",
   "metadata": {},
   "source": [
    "### analyze if we split tafe and date dataset"
   ]
  },
  {
   "cell_type": "code",
   "execution_count": 69,
   "metadata": {
    "collapsed": false
   },
   "outputs": [],
   "source": [
    "tafe_dissatisfied = combined_updated.loc[combined_updated['institute'] == 'TAFE',:]\n",
    "dete_dissatisfied = combined_updated.loc[combined_updated['institute'] == 'DETE', :]\n",
    "\n",
    "tafe_pivot = tafe_dissatisfied.pivot_table(values = 'dissatisfied', index = 'service_cat')\n",
    "dete_pivot = dete_dissatisfied.pivot_table(values = 'dissatisfied', index = 'service_cat')"
   ]
  },
  {
   "cell_type": "code",
   "execution_count": 70,
   "metadata": {
    "collapsed": false
   },
   "outputs": [
    {
     "name": "stdout",
     "output_type": "stream",
     "text": [
      "TAFE MEAN\n",
      "dissatisfied    0.28354\n",
      "dtype: float64\n",
      "\n",
      "\n",
      "DETE MEAN\n",
      "dissatisfied    0.489259\n",
      "dtype: float64\n"
     ]
    }
   ],
   "source": [
    "print('TAFE MEAN')\n",
    "print(tafe_pivot.mean())\n",
    "print('\\n')\n",
    "print('DETE MEAN')\n",
    "print(dete_pivot.mean())"
   ]
  },
  {
   "cell_type": "markdown",
   "metadata": {},
   "source": [
    "from all mean in pivot table, we know that the percent in dete dataset is more higher than tafe dissatisfied, it's mean that people who left institute caused by dissatisfied is more higher in DETE rather TAFE dataset, this pattern maybe caused by many reason, like work habit in dete institute is more worst than in tafe"
   ]
  },
  {
   "cell_type": "code",
   "execution_count": 71,
   "metadata": {
    "collapsed": false
   },
   "outputs": [],
   "source": [
    "#combine the data again\n",
    "\n",
    "tafe_pivot['institute'] = 'TAFE'\n",
    "dete_pivot['institute'] = 'DETE'\n",
    "\n",
    "combine_pivot = pd.concat([tafe_pivot, dete_pivot],axis=0)"
   ]
  },
  {
   "cell_type": "code",
   "execution_count": 72,
   "metadata": {
    "collapsed": false
   },
   "outputs": [
    {
     "data": {
      "text/html": [
       "<div>\n",
       "<style scoped>\n",
       "    .dataframe tbody tr th:only-of-type {\n",
       "        vertical-align: middle;\n",
       "    }\n",
       "\n",
       "    .dataframe tbody tr th {\n",
       "        vertical-align: top;\n",
       "    }\n",
       "\n",
       "    .dataframe thead th {\n",
       "        text-align: right;\n",
       "    }\n",
       "</style>\n",
       "<table border=\"1\" class=\"dataframe\">\n",
       "  <thead>\n",
       "    <tr style=\"text-align: right;\">\n",
       "      <th></th>\n",
       "      <th>dissatisfied</th>\n",
       "      <th>institute</th>\n",
       "    </tr>\n",
       "    <tr>\n",
       "      <th>service_cat</th>\n",
       "      <th></th>\n",
       "      <th></th>\n",
       "    </tr>\n",
       "  </thead>\n",
       "  <tbody>\n",
       "    <tr>\n",
       "      <th>Established</th>\n",
       "      <td>0.333333</td>\n",
       "      <td>TAFE</td>\n",
       "    </tr>\n",
       "    <tr>\n",
       "      <th>Experienced</th>\n",
       "      <td>0.260274</td>\n",
       "      <td>TAFE</td>\n",
       "    </tr>\n",
       "    <tr>\n",
       "      <th>New</th>\n",
       "      <td>0.262774</td>\n",
       "      <td>TAFE</td>\n",
       "    </tr>\n",
       "    <tr>\n",
       "      <th>Veteran</th>\n",
       "      <td>0.277778</td>\n",
       "      <td>TAFE</td>\n",
       "    </tr>\n",
       "    <tr>\n",
       "      <th>Established</th>\n",
       "      <td>0.609756</td>\n",
       "      <td>DETE</td>\n",
       "    </tr>\n",
       "    <tr>\n",
       "      <th>Experienced</th>\n",
       "      <td>0.412281</td>\n",
       "      <td>DETE</td>\n",
       "    </tr>\n",
       "    <tr>\n",
       "      <th>New</th>\n",
       "      <td>0.375000</td>\n",
       "      <td>DETE</td>\n",
       "    </tr>\n",
       "    <tr>\n",
       "      <th>Veteran</th>\n",
       "      <td>0.560000</td>\n",
       "      <td>DETE</td>\n",
       "    </tr>\n",
       "  </tbody>\n",
       "</table>\n",
       "</div>"
      ],
      "text/plain": [
       "             dissatisfied institute\n",
       "service_cat                        \n",
       "Established      0.333333      TAFE\n",
       "Experienced      0.260274      TAFE\n",
       "New              0.262774      TAFE\n",
       "Veteran          0.277778      TAFE\n",
       "Established      0.609756      DETE\n",
       "Experienced      0.412281      DETE\n",
       "New              0.375000      DETE\n",
       "Veteran          0.560000      DETE"
      ]
     },
     "execution_count": 72,
     "metadata": {},
     "output_type": "execute_result"
    }
   ],
   "source": [
    "combine_pivot"
   ]
  },
  {
   "cell_type": "code",
   "execution_count": 73,
   "metadata": {
    "collapsed": false
   },
   "outputs": [
    {
     "name": "stderr",
     "output_type": "stream",
     "text": [
      "/dataquest/system/env/python3/lib/python3.4/site-packages/seaborn/categorical.py:1428: FutureWarning:\n",
      "\n",
      "remove_na is deprecated and is a private function. Do not use.\n",
      "\n"
     ]
    },
    {
     "data": {
      "text/plain": [
       "<matplotlib.axes._subplots.AxesSubplot at 0x7fd22b8de5f8>"
      ]
     },
     "execution_count": 73,
     "metadata": {},
     "output_type": "execute_result"
    },
    {
     "data": {
      "image/png": "[encoded data removed]",
      "text/plain": [
       "<matplotlib.figure.Figure at 0x7fd22b8c8dd8>"
      ]
     },
     "metadata": {},
     "output_type": "display_data"
    }
   ],
   "source": [
    "##visualize both tafe and dete\n",
    "sns.barplot(x=tafe_pivot.index, y= tafe_pivot['dissatisfied'], data=tafe_pivot)\n"
   ]
  },
  {
   "cell_type": "code",
   "execution_count": 74,
   "metadata": {
    "collapsed": false
   },
   "outputs": [
    {
     "name": "stderr",
     "output_type": "stream",
     "text": [
      "/dataquest/system/env/python3/lib/python3.4/site-packages/seaborn/categorical.py:1428: FutureWarning:\n",
      "\n",
      "remove_na is deprecated and is a private function. Do not use.\n",
      "\n"
     ]
    },
    {
     "data": {
      "text/plain": [
       "<matplotlib.axes._subplots.AxesSubplot at 0x7fd22b89e320>"
      ]
     },
     "execution_count": 74,
     "metadata": {},
     "output_type": "execute_result"
    },
    {
     "data": {
      "image/png": "[encoded data removed]",
      "text/plain": [
       "<matplotlib.figure.Figure at 0x7fd22b8c48d0>"
      ]
     },
     "metadata": {},
     "output_type": "display_data"
    }
   ],
   "source": [
    "sns.barplot(x=dete_pivot.index, y= dete_pivot['dissatisfied'], data=dete_pivot)"
   ]
  },
  {
   "cell_type": "markdown",
   "metadata": {},
   "source": [
    "there was little different between dete and tafe, the lower plot in the dete dataset is new employee while in the tafe dataset is experienced employee"
   ]
  },
  {
   "cell_type": "code",
   "execution_count": null,
   "metadata": {
    "collapsed": true
   },
   "outputs": [],
   "source": []
  }
 ],
 "metadata": {
  "kernelspec": {
   "display_name": "Python 3",
   "language": "python",
   "name": "python3"
  },
  "language_info": {
   "codemirror_mode": {
    "name": "ipython",
    "version": 3
   },
   "file_extension": ".py",
   "mimetype": "text/x-python",
   "name": "python",
   "nbconvert_exporter": "python",
   "pygments_lexer": "ipython3",
   "version": "3.4.3"
  }
 },
 "nbformat": 4,
 "nbformat_minor": 2
}
